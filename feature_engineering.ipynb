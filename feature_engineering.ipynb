{
 "cells": [
  {
   "cell_type": "markdown",
   "source": [
    "# Features Engineering\n",
    "\n",
    "The thesis project focusing on analyzing the linguistic features of therapists' responses in an online forum to predict engagement levels. \n",
    "\n",
    "Let's break down the extraction of the linguistic features from the text answers in the dataset:\n",
    "\n",
    "1. Length of the Answer: This can be measured in terms of characters (which you've mentioned as answer_len_char), but also consider measuring it in terms of words for a more nuanced understanding.\n",
    "2. Lexical Diversity:\n",
    "\n",
    "    - Overall Lexical Diversity: This can be calculated using measures like Type-Token Ratio (TTR), which is the ratio of unique words to the total number of words.\n",
    "    - Use of Modal Verbs: Identify and count modal verbs (like could, should, would).\n",
    "    - Frequency of Personal Pronouns: Count occurrences of personal pronouns (e.g., I, you, we).\n",
    "    - Concreteness, Imageability, Perceptual Salience: These are more complex and might require specific lexicons or datasets that rate words based on these attributes. \n",
    "\n",
    "3. Sentiment Analysis: This involves categorizing the sentiment of the text (positive, negative, neutral). Utilize sentiment analysis tools or libraries (like TextBlob, NLTK's VADER, or more advanced models if available) to determine the sentiment polarity and subjectivity of the answers.\n",
    "4. Readability Scores: There are various formulas like Flesch Reading Ease, Flesch-Kincaid Grade Level, Gunning Fog Index, etc., that can be used to assess the readability of the text.\n",
    "5. Syntactic Complexity:\n",
    "    - Average Sentence Length: Measure the average number of words per sentence.\n",
    "    - Use of Subordinate Clauses: This might require parsing the sentence structure to identify subordinate clauses.\n",
    "    - Other Metrics: Complex metrics like the number of dependent clauses, noun phrase complexity, etc., can also be considered."
   ],
   "metadata": {
    "collapsed": false
   },
   "id": "be028bccba5676d7"
  },
  {
   "cell_type": "code",
   "execution_count": 1,
   "id": "initial_id",
   "metadata": {
    "collapsed": true,
    "ExecuteTime": {
     "end_time": "2023-11-24T14:45:43.394054Z",
     "start_time": "2023-11-24T14:45:42.587001Z"
    }
   },
   "outputs": [
    {
     "data": {
      "text/plain": "       ID                    topic  \\\n0       0               depression   \n1       0               depression   \n2       0               depression   \n3       0               depression   \n4       0               depression   \n...   ...                      ...   \n2610  939  counseling-fundamentals   \n2611  939  counseling-fundamentals   \n2612  939  counseling-fundamentals   \n2613  939  counseling-fundamentals   \n2614  939  counseling-fundamentals   \n\n                                               question  \\\n0     Do I have too many issues for counseling? I ha...   \n1     Do I have too many issues for counseling? I ha...   \n2     Do I have too many issues for counseling? I ha...   \n3     Do I have too many issues for counseling? I ha...   \n4     Do I have too many issues for counseling? I ha...   \n...                                                 ...   \n2610  Are some clients more difficult than others? W...   \n2611  Are some clients more difficult than others? W...   \n2612  Are some clients more difficult than others? W...   \n2613  Are some clients more difficult than others? W...   \n2614  Are some clients more difficult than others? W...   \n\n                                                 answer  upvotes  views  \\\n0     I've never heard of someone having \"too many i...        3    386   \n1     I just want to acknowledge you for the courage...        2    256   \n2     It's not really a question of whether you have...        2    435   \n3     There is no such thing as too much. Start wher...        2    217   \n4     The most direct answer is no. I would venture ...        2   1064   \n...                                                 ...      ...    ...   \n2610  Although many clients have the capacity to be ...        1     47   \n2611  I usually don't label a client as \"difficult\" ...        1     22   \n2612  Dang right!  :)Heh heh, and correct me if I'm ...        1     23   \n2613  Yes, just like some relationships outside of o...        1     41   \n2614  Each counselor will have their own list of \"di...        1     43   \n\n      upvotes_scaled  views_scaled  weighted_engagement engagement  \n0           0.166667      0.201888             0.173711       High  \n1           0.083333      0.133718             0.093410       High  \n2           0.083333      0.227583             0.112183       High  \n3           0.083333      0.113267             0.089320       High  \n4           0.083333      0.557420             0.178151       High  \n...              ...           ...                  ...        ...  \n2610        0.000000      0.024122             0.004824        Low  \n2611        0.000000      0.011012             0.002202        Low  \n2612        0.000000      0.011536             0.002307        Low  \n2613        0.000000      0.020975             0.004195        Low  \n2614        0.000000      0.022024             0.004405        Low  \n\n[2615 rows x 10 columns]",
      "text/html": "<div>\n<style scoped>\n    .dataframe tbody tr th:only-of-type {\n        vertical-align: middle;\n    }\n\n    .dataframe tbody tr th {\n        vertical-align: top;\n    }\n\n    .dataframe thead th {\n        text-align: right;\n    }\n</style>\n<table border=\"1\" class=\"dataframe\">\n  <thead>\n    <tr style=\"text-align: right;\">\n      <th></th>\n      <th>ID</th>\n      <th>topic</th>\n      <th>question</th>\n      <th>answer</th>\n      <th>upvotes</th>\n      <th>views</th>\n      <th>upvotes_scaled</th>\n      <th>views_scaled</th>\n      <th>weighted_engagement</th>\n      <th>engagement</th>\n    </tr>\n  </thead>\n  <tbody>\n    <tr>\n      <th>0</th>\n      <td>0</td>\n      <td>depression</td>\n      <td>Do I have too many issues for counseling? I ha...</td>\n      <td>I've never heard of someone having \"too many i...</td>\n      <td>3</td>\n      <td>386</td>\n      <td>0.166667</td>\n      <td>0.201888</td>\n      <td>0.173711</td>\n      <td>High</td>\n    </tr>\n    <tr>\n      <th>1</th>\n      <td>0</td>\n      <td>depression</td>\n      <td>Do I have too many issues for counseling? I ha...</td>\n      <td>I just want to acknowledge you for the courage...</td>\n      <td>2</td>\n      <td>256</td>\n      <td>0.083333</td>\n      <td>0.133718</td>\n      <td>0.093410</td>\n      <td>High</td>\n    </tr>\n    <tr>\n      <th>2</th>\n      <td>0</td>\n      <td>depression</td>\n      <td>Do I have too many issues for counseling? I ha...</td>\n      <td>It's not really a question of whether you have...</td>\n      <td>2</td>\n      <td>435</td>\n      <td>0.083333</td>\n      <td>0.227583</td>\n      <td>0.112183</td>\n      <td>High</td>\n    </tr>\n    <tr>\n      <th>3</th>\n      <td>0</td>\n      <td>depression</td>\n      <td>Do I have too many issues for counseling? I ha...</td>\n      <td>There is no such thing as too much. Start wher...</td>\n      <td>2</td>\n      <td>217</td>\n      <td>0.083333</td>\n      <td>0.113267</td>\n      <td>0.089320</td>\n      <td>High</td>\n    </tr>\n    <tr>\n      <th>4</th>\n      <td>0</td>\n      <td>depression</td>\n      <td>Do I have too many issues for counseling? I ha...</td>\n      <td>The most direct answer is no. I would venture ...</td>\n      <td>2</td>\n      <td>1064</td>\n      <td>0.083333</td>\n      <td>0.557420</td>\n      <td>0.178151</td>\n      <td>High</td>\n    </tr>\n    <tr>\n      <th>...</th>\n      <td>...</td>\n      <td>...</td>\n      <td>...</td>\n      <td>...</td>\n      <td>...</td>\n      <td>...</td>\n      <td>...</td>\n      <td>...</td>\n      <td>...</td>\n      <td>...</td>\n    </tr>\n    <tr>\n      <th>2610</th>\n      <td>939</td>\n      <td>counseling-fundamentals</td>\n      <td>Are some clients more difficult than others? W...</td>\n      <td>Although many clients have the capacity to be ...</td>\n      <td>1</td>\n      <td>47</td>\n      <td>0.000000</td>\n      <td>0.024122</td>\n      <td>0.004824</td>\n      <td>Low</td>\n    </tr>\n    <tr>\n      <th>2611</th>\n      <td>939</td>\n      <td>counseling-fundamentals</td>\n      <td>Are some clients more difficult than others? W...</td>\n      <td>I usually don't label a client as \"difficult\" ...</td>\n      <td>1</td>\n      <td>22</td>\n      <td>0.000000</td>\n      <td>0.011012</td>\n      <td>0.002202</td>\n      <td>Low</td>\n    </tr>\n    <tr>\n      <th>2612</th>\n      <td>939</td>\n      <td>counseling-fundamentals</td>\n      <td>Are some clients more difficult than others? W...</td>\n      <td>Dang right!  :)Heh heh, and correct me if I'm ...</td>\n      <td>1</td>\n      <td>23</td>\n      <td>0.000000</td>\n      <td>0.011536</td>\n      <td>0.002307</td>\n      <td>Low</td>\n    </tr>\n    <tr>\n      <th>2613</th>\n      <td>939</td>\n      <td>counseling-fundamentals</td>\n      <td>Are some clients more difficult than others? W...</td>\n      <td>Yes, just like some relationships outside of o...</td>\n      <td>1</td>\n      <td>41</td>\n      <td>0.000000</td>\n      <td>0.020975</td>\n      <td>0.004195</td>\n      <td>Low</td>\n    </tr>\n    <tr>\n      <th>2614</th>\n      <td>939</td>\n      <td>counseling-fundamentals</td>\n      <td>Are some clients more difficult than others? W...</td>\n      <td>Each counselor will have their own list of \"di...</td>\n      <td>1</td>\n      <td>43</td>\n      <td>0.000000</td>\n      <td>0.022024</td>\n      <td>0.004405</td>\n      <td>Low</td>\n    </tr>\n  </tbody>\n</table>\n<p>2615 rows × 10 columns</p>\n</div>"
     },
     "execution_count": 1,
     "metadata": {},
     "output_type": "execute_result"
    }
   ],
   "source": [
    "import pandas as pd\n",
    "\n",
    "# Load the dataset\n",
    "file_path = 'data/counsel_df_processed.csv'\n",
    "counsel_df = pd.read_csv(file_path)\n",
    "\n",
    "counsel_df.drop(columns=['index'])"
   ]
  },
  {
   "cell_type": "markdown",
   "source": [
    "## Text Normalization\n",
    "\n",
    "The following text normalization processes are most relevant:\n",
    "1. Case Folding: Essential for ensuring uniformity in the text. It's especially important for consistency in word counts and lexical diversity measures.\n",
    "2. Tokenization: Fundamental for almost all types of text analysis. It's necessary for calculating lexical diversity, sentiment analysis, and syntactic complexity.\n",
    "3. Removing Punctuation and Special Characters: This is generally useful, but you might want to retain punctuation for sentiment analysis (as it can convey sentiment) and for readability scores (since punctuation impacts readability).\n",
    "4. Stop Words Removal: This is a bit nuanced. For lexical diversity, you might want to keep stop words as they contribute to the overall diversity of the text. However, for sentiment analysis and readability scores, stop words removal can be considered.\n",
    "5. Spelling Correction: This is optional and depends on the quality of the text. If the dataset has a lot of typos, it may be worth doing, but it's not usually critical for the types of analysis you're performing.\n",
    "6. Lemmatization: Preferable over stemming as it retains the meaning of words. Useful for lexical diversity and sentiment analysis.\n",
    "7. Handling Negations: Important for sentiment analysis to accurately capture the sentiment of the text.\n",
    "8. Identifying Part-of-Speech (POS): Necessary for counting modal verbs, personal pronouns, and understanding sentence structure for syntactic complexity.\n",
    "9. Sentence Segmentation: Crucial for syntactic complexity analysis (like average sentence length) and also useful for certain readability metrics."
   ],
   "metadata": {
    "collapsed": false
   },
   "id": "281d6822792b7ec7"
  },
  {
   "cell_type": "markdown",
   "source": [
    "## 1. Length of Answers\n",
    "\n",
    "- char_count: The character length of each answer.\n",
    "- word_count: The number of words in each answer.\n",
    "- sentence_count: The number of sentences in each answer."
   ],
   "metadata": {
    "collapsed": false
   },
   "id": "3c46500e93954e"
  },
  {
   "cell_type": "code",
   "execution_count": 2,
   "outputs": [
    {
     "name": "stderr",
     "output_type": "stream",
     "text": [
      "[nltk_data] Downloading package punkt to\n",
      "[nltk_data]     /Users/ghaithalseirawan/nltk_data...\n",
      "[nltk_data]   Package punkt is already up-to-date!\n"
     ]
    },
    {
     "data": {
      "text/plain": "      index   ID                    topic  \\\n0         1    0               depression   \n1         4    0               depression   \n2         5    0               depression   \n3         6    0               depression   \n4         7    0               depression   \n...     ...  ...                      ...   \n2610   2744  939  counseling-fundamentals   \n2611   2745  939  counseling-fundamentals   \n2612   2746  939  counseling-fundamentals   \n2613   2747  939  counseling-fundamentals   \n2614   2748  939  counseling-fundamentals   \n\n                                               question  \\\n0     Do I have too many issues for counseling? I ha...   \n1     Do I have too many issues for counseling? I ha...   \n2     Do I have too many issues for counseling? I ha...   \n3     Do I have too many issues for counseling? I ha...   \n4     Do I have too many issues for counseling? I ha...   \n...                                                 ...   \n2610  Are some clients more difficult than others? W...   \n2611  Are some clients more difficult than others? W...   \n2612  Are some clients more difficult than others? W...   \n2613  Are some clients more difficult than others? W...   \n2614  Are some clients more difficult than others? W...   \n\n                                                 answer  upvotes  views  \\\n0     I've never heard of someone having \"too many i...        3    386   \n1     I just want to acknowledge you for the courage...        2    256   \n2     It's not really a question of whether you have...        2    435   \n3     There is no such thing as too much. Start wher...        2    217   \n4     The most direct answer is no. I would venture ...        2   1064   \n...                                                 ...      ...    ...   \n2610  Although many clients have the capacity to be ...        1     47   \n2611  I usually don't label a client as \"difficult\" ...        1     22   \n2612  Dang right!  :)Heh heh, and correct me if I'm ...        1     23   \n2613  Yes, just like some relationships outside of o...        1     41   \n2614  Each counselor will have their own list of \"di...        1     43   \n\n      upvotes_scaled  views_scaled  weighted_engagement engagement  \\\n0           0.166667      0.201888             0.173711       High   \n1           0.083333      0.133718             0.093410       High   \n2           0.083333      0.227583             0.112183       High   \n3           0.083333      0.113267             0.089320       High   \n4           0.083333      0.557420             0.178151       High   \n...              ...           ...                  ...        ...   \n2610        0.000000      0.024122             0.004824        Low   \n2611        0.000000      0.011012             0.002202        Low   \n2612        0.000000      0.011536             0.002307        Low   \n2613        0.000000      0.020975             0.004195        Low   \n2614        0.000000      0.022024             0.004405        Low   \n\n      char_count  word_count  sentence_count  \n0            536         104               7  \n1            857         200              13  \n2            875         207               9  \n3            217          58               5  \n4            512         121               8  \n...          ...         ...             ...  \n2610         867         168               4  \n2611        1135         250              10  \n2612         200          53               3  \n2613         926         203               7  \n2614         525         111               2  \n\n[2615 rows x 14 columns]",
      "text/html": "<div>\n<style scoped>\n    .dataframe tbody tr th:only-of-type {\n        vertical-align: middle;\n    }\n\n    .dataframe tbody tr th {\n        vertical-align: top;\n    }\n\n    .dataframe thead th {\n        text-align: right;\n    }\n</style>\n<table border=\"1\" class=\"dataframe\">\n  <thead>\n    <tr style=\"text-align: right;\">\n      <th></th>\n      <th>index</th>\n      <th>ID</th>\n      <th>topic</th>\n      <th>question</th>\n      <th>answer</th>\n      <th>upvotes</th>\n      <th>views</th>\n      <th>upvotes_scaled</th>\n      <th>views_scaled</th>\n      <th>weighted_engagement</th>\n      <th>engagement</th>\n      <th>char_count</th>\n      <th>word_count</th>\n      <th>sentence_count</th>\n    </tr>\n  </thead>\n  <tbody>\n    <tr>\n      <th>0</th>\n      <td>1</td>\n      <td>0</td>\n      <td>depression</td>\n      <td>Do I have too many issues for counseling? I ha...</td>\n      <td>I've never heard of someone having \"too many i...</td>\n      <td>3</td>\n      <td>386</td>\n      <td>0.166667</td>\n      <td>0.201888</td>\n      <td>0.173711</td>\n      <td>High</td>\n      <td>536</td>\n      <td>104</td>\n      <td>7</td>\n    </tr>\n    <tr>\n      <th>1</th>\n      <td>4</td>\n      <td>0</td>\n      <td>depression</td>\n      <td>Do I have too many issues for counseling? I ha...</td>\n      <td>I just want to acknowledge you for the courage...</td>\n      <td>2</td>\n      <td>256</td>\n      <td>0.083333</td>\n      <td>0.133718</td>\n      <td>0.093410</td>\n      <td>High</td>\n      <td>857</td>\n      <td>200</td>\n      <td>13</td>\n    </tr>\n    <tr>\n      <th>2</th>\n      <td>5</td>\n      <td>0</td>\n      <td>depression</td>\n      <td>Do I have too many issues for counseling? I ha...</td>\n      <td>It's not really a question of whether you have...</td>\n      <td>2</td>\n      <td>435</td>\n      <td>0.083333</td>\n      <td>0.227583</td>\n      <td>0.112183</td>\n      <td>High</td>\n      <td>875</td>\n      <td>207</td>\n      <td>9</td>\n    </tr>\n    <tr>\n      <th>3</th>\n      <td>6</td>\n      <td>0</td>\n      <td>depression</td>\n      <td>Do I have too many issues for counseling? I ha...</td>\n      <td>There is no such thing as too much. Start wher...</td>\n      <td>2</td>\n      <td>217</td>\n      <td>0.083333</td>\n      <td>0.113267</td>\n      <td>0.089320</td>\n      <td>High</td>\n      <td>217</td>\n      <td>58</td>\n      <td>5</td>\n    </tr>\n    <tr>\n      <th>4</th>\n      <td>7</td>\n      <td>0</td>\n      <td>depression</td>\n      <td>Do I have too many issues for counseling? I ha...</td>\n      <td>The most direct answer is no. I would venture ...</td>\n      <td>2</td>\n      <td>1064</td>\n      <td>0.083333</td>\n      <td>0.557420</td>\n      <td>0.178151</td>\n      <td>High</td>\n      <td>512</td>\n      <td>121</td>\n      <td>8</td>\n    </tr>\n    <tr>\n      <th>...</th>\n      <td>...</td>\n      <td>...</td>\n      <td>...</td>\n      <td>...</td>\n      <td>...</td>\n      <td>...</td>\n      <td>...</td>\n      <td>...</td>\n      <td>...</td>\n      <td>...</td>\n      <td>...</td>\n      <td>...</td>\n      <td>...</td>\n      <td>...</td>\n    </tr>\n    <tr>\n      <th>2610</th>\n      <td>2744</td>\n      <td>939</td>\n      <td>counseling-fundamentals</td>\n      <td>Are some clients more difficult than others? W...</td>\n      <td>Although many clients have the capacity to be ...</td>\n      <td>1</td>\n      <td>47</td>\n      <td>0.000000</td>\n      <td>0.024122</td>\n      <td>0.004824</td>\n      <td>Low</td>\n      <td>867</td>\n      <td>168</td>\n      <td>4</td>\n    </tr>\n    <tr>\n      <th>2611</th>\n      <td>2745</td>\n      <td>939</td>\n      <td>counseling-fundamentals</td>\n      <td>Are some clients more difficult than others? W...</td>\n      <td>I usually don't label a client as \"difficult\" ...</td>\n      <td>1</td>\n      <td>22</td>\n      <td>0.000000</td>\n      <td>0.011012</td>\n      <td>0.002202</td>\n      <td>Low</td>\n      <td>1135</td>\n      <td>250</td>\n      <td>10</td>\n    </tr>\n    <tr>\n      <th>2612</th>\n      <td>2746</td>\n      <td>939</td>\n      <td>counseling-fundamentals</td>\n      <td>Are some clients more difficult than others? W...</td>\n      <td>Dang right!  :)Heh heh, and correct me if I'm ...</td>\n      <td>1</td>\n      <td>23</td>\n      <td>0.000000</td>\n      <td>0.011536</td>\n      <td>0.002307</td>\n      <td>Low</td>\n      <td>200</td>\n      <td>53</td>\n      <td>3</td>\n    </tr>\n    <tr>\n      <th>2613</th>\n      <td>2747</td>\n      <td>939</td>\n      <td>counseling-fundamentals</td>\n      <td>Are some clients more difficult than others? W...</td>\n      <td>Yes, just like some relationships outside of o...</td>\n      <td>1</td>\n      <td>41</td>\n      <td>0.000000</td>\n      <td>0.020975</td>\n      <td>0.004195</td>\n      <td>Low</td>\n      <td>926</td>\n      <td>203</td>\n      <td>7</td>\n    </tr>\n    <tr>\n      <th>2614</th>\n      <td>2748</td>\n      <td>939</td>\n      <td>counseling-fundamentals</td>\n      <td>Are some clients more difficult than others? W...</td>\n      <td>Each counselor will have their own list of \"di...</td>\n      <td>1</td>\n      <td>43</td>\n      <td>0.000000</td>\n      <td>0.022024</td>\n      <td>0.004405</td>\n      <td>Low</td>\n      <td>525</td>\n      <td>111</td>\n      <td>2</td>\n    </tr>\n  </tbody>\n</table>\n<p>2615 rows × 14 columns</p>\n</div>"
     },
     "execution_count": 2,
     "metadata": {},
     "output_type": "execute_result"
    }
   ],
   "source": [
    "import nltk\n",
    "from nltk.tokenize import sent_tokenize, word_tokenize\n",
    "\n",
    "# Download necessary NLTK data\n",
    "nltk.download('punkt')\n",
    "\n",
    "def calculate_lengths(text):\n",
    "    words = word_tokenize(text)  # Tokenize into words\n",
    "    words = [word for word in words if word.isalpha()]   # Remove punctuation and non-alphabetic characters\n",
    "\n",
    "    # Calculate word length\n",
    "    word_len = len(words)\n",
    "    \n",
    "    # Calculate character length\n",
    "    clean_sent = ''.join(words)\n",
    "    char_len = len(clean_sent)  \n",
    "\n",
    "    # Calculate sentence length\n",
    "    sentences = sent_tokenize(text)\n",
    "    sentence_len = len(sentences)\n",
    "\n",
    "    return char_len, word_len, sentence_len\n",
    "\n",
    "\n",
    "# Apply the function to each row in the 'answer' column\n",
    "counsel_df[['char_count', 'word_count', 'sentence_count']] = counsel_df['answer'].apply(lambda x: pd.Series(calculate_lengths(x)))\n",
    "counsel_df"
   ],
   "metadata": {
    "collapsed": false,
    "ExecuteTime": {
     "end_time": "2023-11-24T14:45:45.972775Z",
     "start_time": "2023-11-24T14:45:43.392206Z"
    }
   },
   "id": "deddcccfb9df3646"
  },
  {
   "cell_type": "markdown",
   "source": [
    "The extraction of textual length metrics, encompassing character, word, and sentence counts, is a fundamental step in this analysis as it provides a foundational understanding of the verbosity and structural complexity of therapists' responses. This quantification not only facilitates a preliminary assessment of response comprehensiveness but also serves as a pivotal baseline for correlating linguistic verbosity with user engagement levels, thereby enabling a more nuanced exploration of how textual length impacts the effectiveness of online counseling communication."
   ],
   "metadata": {
    "collapsed": false
   },
   "id": "4b045f94fa1eb264"
  },
  {
   "cell_type": "markdown",
   "source": [
    "## 2. Lexical Diversity:\n",
    "\n",
    "- Overall Lexical Diversity: This can be calculated using measures like Type-Token Ratio (TTR), which is the ratio of unique words to the total number of words.\n",
    "- Use of Modal Verbs: Identify and count modal verbs (like could, should, would).\n",
    "- Frequency of Personal Pronouns: Count occurrences of personal pronouns (e.g., I, you, we).\n",
    "- Concreteness."
   ],
   "metadata": {
    "collapsed": false
   },
   "id": "d41ee5f6f62c1dfc"
  },
  {
   "cell_type": "markdown",
   "source": [
    "### 2.1 Type-Token Ratio (TTR)\n",
    "TTR is a simple measure of lexical diversity, calculated as the number of unique words (types) divided by the total number of words (tokens) in a text."
   ],
   "metadata": {
    "collapsed": false
   },
   "id": "b87b0ee4817c171b"
  },
  {
   "cell_type": "code",
   "execution_count": 3,
   "outputs": [],
   "source": [
    "def calculate_ttr(text):\n",
    "    words = word_tokenize(text.lower())\n",
    "    return len(set(words)) / len(words) if words else 0"
   ],
   "metadata": {
    "collapsed": false,
    "ExecuteTime": {
     "end_time": "2023-11-24T14:45:45.972921Z",
     "start_time": "2023-11-24T14:45:45.969579Z"
    }
   },
   "id": "94b53534ef6a229a"
  },
  {
   "cell_type": "markdown",
   "source": [
    "### 2.2 Use of Modal Verbs\n",
    "Count the frequency of modal verbs in the text. Modal verbs include words like \"can,\" \"could,\" \"may,\" \"might,\" \"must,\" \"shall,\" \"should,\" \"will,\" \"would.\""
   ],
   "metadata": {
    "collapsed": false
   },
   "id": "e7b15eb2aef6af44"
  },
  {
   "cell_type": "code",
   "execution_count": 4,
   "outputs": [],
   "source": [
    "def count_modal_verbs(text):\n",
    "    modal_verbs = {'can', 'could', 'may', 'might', 'must', 'shall', 'should', 'will', 'would'}\n",
    "    words = word_tokenize(text.lower())\n",
    "    return sum(word in modal_verbs for word in words)"
   ],
   "metadata": {
    "collapsed": false,
    "ExecuteTime": {
     "end_time": "2023-11-24T14:45:45.977550Z",
     "start_time": "2023-11-24T14:45:45.972198Z"
    }
   },
   "id": "2464ab42ca7620a3"
  },
  {
   "cell_type": "markdown",
   "source": [
    "### 2.3 Frequency of Personal Pronouns\n",
    "Count occurrences of personal pronouns like \"I,\" \"you,\" \"he,\" \"she,\" \"it,\" \"we,\" \"they.\""
   ],
   "metadata": {
    "collapsed": false
   },
   "id": "68ecae678a2a1fd8"
  },
  {
   "cell_type": "code",
   "execution_count": 5,
   "outputs": [],
   "source": [
    "def count_personal_pronouns(text):\n",
    "    personal_pronouns = {'i', 'you', 'he', 'she', 'it', 'we', 'they'}\n",
    "    words = word_tokenize(text.lower())\n",
    "    return sum(word in personal_pronouns for word in words)"
   ],
   "metadata": {
    "collapsed": false,
    "ExecuteTime": {
     "end_time": "2023-11-24T14:45:45.982014Z",
     "start_time": "2023-11-24T14:45:45.976979Z"
    }
   },
   "id": "4ffc1975da635ffb"
  },
  {
   "cell_type": "code",
   "execution_count": 6,
   "outputs": [],
   "source": [
    "# Apply the functions to each row in the 'answer' column\n",
    "counsel_df['TTR'] = counsel_df['answer'].apply(calculate_ttr)\n",
    "counsel_df['modal_verbs'] = counsel_df['answer'].apply(count_modal_verbs)\n",
    "counsel_df['personal_pronouns'] = counsel_df['answer'].apply(count_personal_pronouns)"
   ],
   "metadata": {
    "collapsed": false,
    "ExecuteTime": {
     "end_time": "2023-11-24T14:45:49.242406Z",
     "start_time": "2023-11-24T14:45:45.994248Z"
    }
   },
   "id": "eaa9d62f55609940"
  },
  {
   "cell_type": "code",
   "execution_count": 7,
   "outputs": [
    {
     "data": {
      "text/plain": "      index   ID                    topic  \\\n0         1    0               depression   \n1         4    0               depression   \n2         5    0               depression   \n3         6    0               depression   \n4         7    0               depression   \n...     ...  ...                      ...   \n2610   2744  939  counseling-fundamentals   \n2611   2745  939  counseling-fundamentals   \n2612   2746  939  counseling-fundamentals   \n2613   2747  939  counseling-fundamentals   \n2614   2748  939  counseling-fundamentals   \n\n                                               question  \\\n0     Do I have too many issues for counseling? I ha...   \n1     Do I have too many issues for counseling? I ha...   \n2     Do I have too many issues for counseling? I ha...   \n3     Do I have too many issues for counseling? I ha...   \n4     Do I have too many issues for counseling? I ha...   \n...                                                 ...   \n2610  Are some clients more difficult than others? W...   \n2611  Are some clients more difficult than others? W...   \n2612  Are some clients more difficult than others? W...   \n2613  Are some clients more difficult than others? W...   \n2614  Are some clients more difficult than others? W...   \n\n                                                 answer  upvotes  views  \\\n0     I've never heard of someone having \"too many i...        3    386   \n1     I just want to acknowledge you for the courage...        2    256   \n2     It's not really a question of whether you have...        2    435   \n3     There is no such thing as too much. Start wher...        2    217   \n4     The most direct answer is no. I would venture ...        2   1064   \n...                                                 ...      ...    ...   \n2610  Although many clients have the capacity to be ...        1     47   \n2611  I usually don't label a client as \"difficult\" ...        1     22   \n2612  Dang right!  :)Heh heh, and correct me if I'm ...        1     23   \n2613  Yes, just like some relationships outside of o...        1     41   \n2614  Each counselor will have their own list of \"di...        1     43   \n\n      upvotes_scaled  views_scaled  weighted_engagement engagement  \\\n0           0.166667      0.201888             0.173711       High   \n1           0.083333      0.133718             0.093410       High   \n2           0.083333      0.227583             0.112183       High   \n3           0.083333      0.113267             0.089320       High   \n4           0.083333      0.557420             0.178151       High   \n...              ...           ...                  ...        ...   \n2610        0.000000      0.024122             0.004824        Low   \n2611        0.000000      0.011012             0.002202        Low   \n2612        0.000000      0.011536             0.002307        Low   \n2613        0.000000      0.020975             0.004195        Low   \n2614        0.000000      0.022024             0.004405        Low   \n\n      char_count  word_count  sentence_count       TTR  modal_verbs  \\\n0            536         104               7  0.650407            5   \n1            857         200              13  0.515982           10   \n2            875         207               9  0.511211            9   \n3            217          58               5  0.805970            2   \n4            512         121               8  0.613139            3   \n...          ...         ...             ...       ...          ...   \n2610         867         168               4  0.548913            8   \n2611        1135         250              10  0.531469            7   \n2612         200          53               3  0.746479            2   \n2613         926         203               7  0.472803            9   \n2614         525         111               2  0.721311            3   \n\n      personal_pronouns  \n0                     4  \n1                    19  \n2                    22  \n3                     7  \n4                    15  \n...                 ...  \n2610                  7  \n2611                 19  \n2612                  6  \n2613                  8  \n2614                  4  \n\n[2615 rows x 17 columns]",
      "text/html": "<div>\n<style scoped>\n    .dataframe tbody tr th:only-of-type {\n        vertical-align: middle;\n    }\n\n    .dataframe tbody tr th {\n        vertical-align: top;\n    }\n\n    .dataframe thead th {\n        text-align: right;\n    }\n</style>\n<table border=\"1\" class=\"dataframe\">\n  <thead>\n    <tr style=\"text-align: right;\">\n      <th></th>\n      <th>index</th>\n      <th>ID</th>\n      <th>topic</th>\n      <th>question</th>\n      <th>answer</th>\n      <th>upvotes</th>\n      <th>views</th>\n      <th>upvotes_scaled</th>\n      <th>views_scaled</th>\n      <th>weighted_engagement</th>\n      <th>engagement</th>\n      <th>char_count</th>\n      <th>word_count</th>\n      <th>sentence_count</th>\n      <th>TTR</th>\n      <th>modal_verbs</th>\n      <th>personal_pronouns</th>\n    </tr>\n  </thead>\n  <tbody>\n    <tr>\n      <th>0</th>\n      <td>1</td>\n      <td>0</td>\n      <td>depression</td>\n      <td>Do I have too many issues for counseling? I ha...</td>\n      <td>I've never heard of someone having \"too many i...</td>\n      <td>3</td>\n      <td>386</td>\n      <td>0.166667</td>\n      <td>0.201888</td>\n      <td>0.173711</td>\n      <td>High</td>\n      <td>536</td>\n      <td>104</td>\n      <td>7</td>\n      <td>0.650407</td>\n      <td>5</td>\n      <td>4</td>\n    </tr>\n    <tr>\n      <th>1</th>\n      <td>4</td>\n      <td>0</td>\n      <td>depression</td>\n      <td>Do I have too many issues for counseling? I ha...</td>\n      <td>I just want to acknowledge you for the courage...</td>\n      <td>2</td>\n      <td>256</td>\n      <td>0.083333</td>\n      <td>0.133718</td>\n      <td>0.093410</td>\n      <td>High</td>\n      <td>857</td>\n      <td>200</td>\n      <td>13</td>\n      <td>0.515982</td>\n      <td>10</td>\n      <td>19</td>\n    </tr>\n    <tr>\n      <th>2</th>\n      <td>5</td>\n      <td>0</td>\n      <td>depression</td>\n      <td>Do I have too many issues for counseling? I ha...</td>\n      <td>It's not really a question of whether you have...</td>\n      <td>2</td>\n      <td>435</td>\n      <td>0.083333</td>\n      <td>0.227583</td>\n      <td>0.112183</td>\n      <td>High</td>\n      <td>875</td>\n      <td>207</td>\n      <td>9</td>\n      <td>0.511211</td>\n      <td>9</td>\n      <td>22</td>\n    </tr>\n    <tr>\n      <th>3</th>\n      <td>6</td>\n      <td>0</td>\n      <td>depression</td>\n      <td>Do I have too many issues for counseling? I ha...</td>\n      <td>There is no such thing as too much. Start wher...</td>\n      <td>2</td>\n      <td>217</td>\n      <td>0.083333</td>\n      <td>0.113267</td>\n      <td>0.089320</td>\n      <td>High</td>\n      <td>217</td>\n      <td>58</td>\n      <td>5</td>\n      <td>0.805970</td>\n      <td>2</td>\n      <td>7</td>\n    </tr>\n    <tr>\n      <th>4</th>\n      <td>7</td>\n      <td>0</td>\n      <td>depression</td>\n      <td>Do I have too many issues for counseling? I ha...</td>\n      <td>The most direct answer is no. I would venture ...</td>\n      <td>2</td>\n      <td>1064</td>\n      <td>0.083333</td>\n      <td>0.557420</td>\n      <td>0.178151</td>\n      <td>High</td>\n      <td>512</td>\n      <td>121</td>\n      <td>8</td>\n      <td>0.613139</td>\n      <td>3</td>\n      <td>15</td>\n    </tr>\n    <tr>\n      <th>...</th>\n      <td>...</td>\n      <td>...</td>\n      <td>...</td>\n      <td>...</td>\n      <td>...</td>\n      <td>...</td>\n      <td>...</td>\n      <td>...</td>\n      <td>...</td>\n      <td>...</td>\n      <td>...</td>\n      <td>...</td>\n      <td>...</td>\n      <td>...</td>\n      <td>...</td>\n      <td>...</td>\n      <td>...</td>\n    </tr>\n    <tr>\n      <th>2610</th>\n      <td>2744</td>\n      <td>939</td>\n      <td>counseling-fundamentals</td>\n      <td>Are some clients more difficult than others? W...</td>\n      <td>Although many clients have the capacity to be ...</td>\n      <td>1</td>\n      <td>47</td>\n      <td>0.000000</td>\n      <td>0.024122</td>\n      <td>0.004824</td>\n      <td>Low</td>\n      <td>867</td>\n      <td>168</td>\n      <td>4</td>\n      <td>0.548913</td>\n      <td>8</td>\n      <td>7</td>\n    </tr>\n    <tr>\n      <th>2611</th>\n      <td>2745</td>\n      <td>939</td>\n      <td>counseling-fundamentals</td>\n      <td>Are some clients more difficult than others? W...</td>\n      <td>I usually don't label a client as \"difficult\" ...</td>\n      <td>1</td>\n      <td>22</td>\n      <td>0.000000</td>\n      <td>0.011012</td>\n      <td>0.002202</td>\n      <td>Low</td>\n      <td>1135</td>\n      <td>250</td>\n      <td>10</td>\n      <td>0.531469</td>\n      <td>7</td>\n      <td>19</td>\n    </tr>\n    <tr>\n      <th>2612</th>\n      <td>2746</td>\n      <td>939</td>\n      <td>counseling-fundamentals</td>\n      <td>Are some clients more difficult than others? W...</td>\n      <td>Dang right!  :)Heh heh, and correct me if I'm ...</td>\n      <td>1</td>\n      <td>23</td>\n      <td>0.000000</td>\n      <td>0.011536</td>\n      <td>0.002307</td>\n      <td>Low</td>\n      <td>200</td>\n      <td>53</td>\n      <td>3</td>\n      <td>0.746479</td>\n      <td>2</td>\n      <td>6</td>\n    </tr>\n    <tr>\n      <th>2613</th>\n      <td>2747</td>\n      <td>939</td>\n      <td>counseling-fundamentals</td>\n      <td>Are some clients more difficult than others? W...</td>\n      <td>Yes, just like some relationships outside of o...</td>\n      <td>1</td>\n      <td>41</td>\n      <td>0.000000</td>\n      <td>0.020975</td>\n      <td>0.004195</td>\n      <td>Low</td>\n      <td>926</td>\n      <td>203</td>\n      <td>7</td>\n      <td>0.472803</td>\n      <td>9</td>\n      <td>8</td>\n    </tr>\n    <tr>\n      <th>2614</th>\n      <td>2748</td>\n      <td>939</td>\n      <td>counseling-fundamentals</td>\n      <td>Are some clients more difficult than others? W...</td>\n      <td>Each counselor will have their own list of \"di...</td>\n      <td>1</td>\n      <td>43</td>\n      <td>0.000000</td>\n      <td>0.022024</td>\n      <td>0.004405</td>\n      <td>Low</td>\n      <td>525</td>\n      <td>111</td>\n      <td>2</td>\n      <td>0.721311</td>\n      <td>3</td>\n      <td>4</td>\n    </tr>\n  </tbody>\n</table>\n<p>2615 rows × 17 columns</p>\n</div>"
     },
     "execution_count": 7,
     "metadata": {},
     "output_type": "execute_result"
    }
   ],
   "source": [
    "counsel_df"
   ],
   "metadata": {
    "collapsed": false,
    "ExecuteTime": {
     "end_time": "2023-11-24T14:45:49.253250Z",
     "start_time": "2023-11-24T14:45:49.243576Z"
    }
   },
   "id": "bdd6873c67585260"
  },
  {
   "cell_type": "markdown",
   "source": [
    "The analysis of lexical diversity, encompassing the Type-Token Ratio, frequency of modal verbs, and use of personal pronouns, is instrumental in discerning the linguistic variability and relational tone embedded in therapists' responses. By quantitatively capturing these aspects, the study aims to unravel the correlation between the richness and personalization of language with user engagement, thereby offering insights into the linguistic patterns that most effectively foster a resonant and supportive online counseling environment."
   ],
   "metadata": {
    "collapsed": false
   },
   "id": "6c3023ab276bc0f"
  },
  {
   "cell_type": "markdown",
   "source": [
    "### 2.4 Concreteness\n",
    "\n",
    "To implement a solution using an existing concreteness database, I will leverage the concreteness ratings provided by Brysbaert et al. (2014), which is a widely recognized resource in this field. The database offers concreteness ratings for about 40,000 English words, rated on a scale from 1 (most abstract) to 5 (most concrete).\n"
   ],
   "metadata": {
    "collapsed": false
   },
   "id": "320ae92f06d9a7d1"
  },
  {
   "cell_type": "code",
   "execution_count": 8,
   "outputs": [
    {
     "data": {
      "text/plain": "                 word  Bigram  conc_mean  Conc_std  Unknown  Total  \\\n0                   a       0       1.46      1.14        2     30   \n1            aardvark       0       4.68      0.86        0     28   \n2               aback       0       1.65      1.07        4     27   \n3              abacus       0       4.52      1.12        2     29   \n4             abandon       0       2.54      1.45        1     27   \n...               ...     ...        ...       ...      ...    ...   \n39949  zebra crossing       1       4.56      0.75        1     28   \n39950  zero tolerance       1       2.21      1.45        0     29   \n39951        ZIP code       1       3.77      1.59        0     30   \n39952         zoom in       1       3.57      1.40        0     28   \n39953       zoom lens       1       4.81      0.49        1     27   \n\n       Percent_known  SUBTLEX  \n0           0.933333  1041179  \n1           1.000000       21  \n2           0.851852       15  \n3           0.931034       12  \n4           0.962963      413  \n...              ...      ...  \n39949       0.964286        0  \n39950       1.000000        0  \n39951       1.000000        0  \n39952       1.000000        0  \n39953       0.962963        0  \n\n[39954 rows x 8 columns]",
      "text/html": "<div>\n<style scoped>\n    .dataframe tbody tr th:only-of-type {\n        vertical-align: middle;\n    }\n\n    .dataframe tbody tr th {\n        vertical-align: top;\n    }\n\n    .dataframe thead th {\n        text-align: right;\n    }\n</style>\n<table border=\"1\" class=\"dataframe\">\n  <thead>\n    <tr style=\"text-align: right;\">\n      <th></th>\n      <th>word</th>\n      <th>Bigram</th>\n      <th>conc_mean</th>\n      <th>Conc_std</th>\n      <th>Unknown</th>\n      <th>Total</th>\n      <th>Percent_known</th>\n      <th>SUBTLEX</th>\n    </tr>\n  </thead>\n  <tbody>\n    <tr>\n      <th>0</th>\n      <td>a</td>\n      <td>0</td>\n      <td>1.46</td>\n      <td>1.14</td>\n      <td>2</td>\n      <td>30</td>\n      <td>0.933333</td>\n      <td>1041179</td>\n    </tr>\n    <tr>\n      <th>1</th>\n      <td>aardvark</td>\n      <td>0</td>\n      <td>4.68</td>\n      <td>0.86</td>\n      <td>0</td>\n      <td>28</td>\n      <td>1.000000</td>\n      <td>21</td>\n    </tr>\n    <tr>\n      <th>2</th>\n      <td>aback</td>\n      <td>0</td>\n      <td>1.65</td>\n      <td>1.07</td>\n      <td>4</td>\n      <td>27</td>\n      <td>0.851852</td>\n      <td>15</td>\n    </tr>\n    <tr>\n      <th>3</th>\n      <td>abacus</td>\n      <td>0</td>\n      <td>4.52</td>\n      <td>1.12</td>\n      <td>2</td>\n      <td>29</td>\n      <td>0.931034</td>\n      <td>12</td>\n    </tr>\n    <tr>\n      <th>4</th>\n      <td>abandon</td>\n      <td>0</td>\n      <td>2.54</td>\n      <td>1.45</td>\n      <td>1</td>\n      <td>27</td>\n      <td>0.962963</td>\n      <td>413</td>\n    </tr>\n    <tr>\n      <th>...</th>\n      <td>...</td>\n      <td>...</td>\n      <td>...</td>\n      <td>...</td>\n      <td>...</td>\n      <td>...</td>\n      <td>...</td>\n      <td>...</td>\n    </tr>\n    <tr>\n      <th>39949</th>\n      <td>zebra crossing</td>\n      <td>1</td>\n      <td>4.56</td>\n      <td>0.75</td>\n      <td>1</td>\n      <td>28</td>\n      <td>0.964286</td>\n      <td>0</td>\n    </tr>\n    <tr>\n      <th>39950</th>\n      <td>zero tolerance</td>\n      <td>1</td>\n      <td>2.21</td>\n      <td>1.45</td>\n      <td>0</td>\n      <td>29</td>\n      <td>1.000000</td>\n      <td>0</td>\n    </tr>\n    <tr>\n      <th>39951</th>\n      <td>ZIP code</td>\n      <td>1</td>\n      <td>3.77</td>\n      <td>1.59</td>\n      <td>0</td>\n      <td>30</td>\n      <td>1.000000</td>\n      <td>0</td>\n    </tr>\n    <tr>\n      <th>39952</th>\n      <td>zoom in</td>\n      <td>1</td>\n      <td>3.57</td>\n      <td>1.40</td>\n      <td>0</td>\n      <td>28</td>\n      <td>1.000000</td>\n      <td>0</td>\n    </tr>\n    <tr>\n      <th>39953</th>\n      <td>zoom lens</td>\n      <td>1</td>\n      <td>4.81</td>\n      <td>0.49</td>\n      <td>1</td>\n      <td>27</td>\n      <td>0.962963</td>\n      <td>0</td>\n    </tr>\n  </tbody>\n</table>\n<p>39954 rows × 8 columns</p>\n</div>"
     },
     "execution_count": 8,
     "metadata": {},
     "output_type": "execute_result"
    }
   ],
   "source": [
    "# Load the concreteness ratings database provided by Brysbaert et al. (2014)\n",
    "concreteness_df = pd.read_excel('data/concreteness_brysbaert/13428_2013_403_MOESM1_ESM.xlsx')  # Update with the actual path\n",
    "concreteness_dict = pd.Series(concreteness_df.conc_mean.values, index=concreteness_df.word).to_dict()\n",
    "\n",
    "concreteness_df"
   ],
   "metadata": {
    "collapsed": false,
    "ExecuteTime": {
     "end_time": "2023-11-24T14:45:52.042907Z",
     "start_time": "2023-11-24T14:45:49.250566Z"
    }
   },
   "id": "179f120806dd6a68"
  },
  {
   "cell_type": "code",
   "execution_count": 9,
   "outputs": [],
   "source": [
    "def calculate_average_concreteness(text, concreteness_dict):\n",
    "    words = word_tokenize(text.lower())\n",
    "    words = [word for word in words if word.isalpha()]\n",
    "    scores = [concreteness_dict.get(word, None) for word in words]\n",
    "    scores = [score for score in scores if score is not None]\n",
    "    return sum(scores) / len(scores) if scores else 0\n",
    "\n",
    "\n",
    "# Apply the function to each row in the 'answer' column\n",
    "counsel_df['average_concreteness_answer'] = counsel_df['answer'].apply(lambda x: calculate_average_concreteness(x, concreteness_dict))"
   ],
   "metadata": {
    "collapsed": false,
    "ExecuteTime": {
     "end_time": "2023-11-24T14:45:53.233451Z",
     "start_time": "2023-11-24T14:45:52.058616Z"
    }
   },
   "id": "9038f9111a7becb2"
  },
  {
   "cell_type": "code",
   "execution_count": 10,
   "outputs": [
    {
     "data": {
      "text/plain": "      index   ID                    topic  \\\n0         1    0               depression   \n1         4    0               depression   \n2         5    0               depression   \n3         6    0               depression   \n4         7    0               depression   \n...     ...  ...                      ...   \n2610   2744  939  counseling-fundamentals   \n2611   2745  939  counseling-fundamentals   \n2612   2746  939  counseling-fundamentals   \n2613   2747  939  counseling-fundamentals   \n2614   2748  939  counseling-fundamentals   \n\n                                               question  \\\n0     Do I have too many issues for counseling? I ha...   \n1     Do I have too many issues for counseling? I ha...   \n2     Do I have too many issues for counseling? I ha...   \n3     Do I have too many issues for counseling? I ha...   \n4     Do I have too many issues for counseling? I ha...   \n...                                                 ...   \n2610  Are some clients more difficult than others? W...   \n2611  Are some clients more difficult than others? W...   \n2612  Are some clients more difficult than others? W...   \n2613  Are some clients more difficult than others? W...   \n2614  Are some clients more difficult than others? W...   \n\n                                                 answer  upvotes  views  \\\n0     I've never heard of someone having \"too many i...        3    386   \n1     I just want to acknowledge you for the courage...        2    256   \n2     It's not really a question of whether you have...        2    435   \n3     There is no such thing as too much. Start wher...        2    217   \n4     The most direct answer is no. I would venture ...        2   1064   \n...                                                 ...      ...    ...   \n2610  Although many clients have the capacity to be ...        1     47   \n2611  I usually don't label a client as \"difficult\" ...        1     22   \n2612  Dang right!  :)Heh heh, and correct me if I'm ...        1     23   \n2613  Yes, just like some relationships outside of o...        1     41   \n2614  Each counselor will have their own list of \"di...        1     43   \n\n      upvotes_scaled  views_scaled  weighted_engagement engagement  \\\n0           0.166667      0.201888             0.173711       High   \n1           0.083333      0.133718             0.093410       High   \n2           0.083333      0.227583             0.112183       High   \n3           0.083333      0.113267             0.089320       High   \n4           0.083333      0.557420             0.178151       High   \n...              ...           ...                  ...        ...   \n2610        0.000000      0.024122             0.004824        Low   \n2611        0.000000      0.011012             0.002202        Low   \n2612        0.000000      0.011536             0.002307        Low   \n2613        0.000000      0.020975             0.004195        Low   \n2614        0.000000      0.022024             0.004405        Low   \n\n      char_count  word_count  sentence_count       TTR  modal_verbs  \\\n0            536         104               7  0.650407            5   \n1            857         200              13  0.515982           10   \n2            875         207               9  0.511211            9   \n3            217          58               5  0.805970            2   \n4            512         121               8  0.613139            3   \n...          ...         ...             ...       ...          ...   \n2610         867         168               4  0.548913            8   \n2611        1135         250              10  0.531469            7   \n2612         200          53               3  0.746479            2   \n2613         926         203               7  0.472803            9   \n2614         525         111               2  0.721311            3   \n\n      personal_pronouns  average_concreteness_answer  \n0                     4                     2.340241  \n1                    19                     2.432944  \n2                    22                     2.455377  \n3                     7                     2.386607  \n4                    15                     2.477757  \n...                 ...                          ...  \n2610                  7                     2.348333  \n2611                 19                     2.286407  \n2612                  6                     2.398140  \n2613                  8                     2.283459  \n2614                  4                     2.422755  \n\n[2615 rows x 18 columns]",
      "text/html": "<div>\n<style scoped>\n    .dataframe tbody tr th:only-of-type {\n        vertical-align: middle;\n    }\n\n    .dataframe tbody tr th {\n        vertical-align: top;\n    }\n\n    .dataframe thead th {\n        text-align: right;\n    }\n</style>\n<table border=\"1\" class=\"dataframe\">\n  <thead>\n    <tr style=\"text-align: right;\">\n      <th></th>\n      <th>index</th>\n      <th>ID</th>\n      <th>topic</th>\n      <th>question</th>\n      <th>answer</th>\n      <th>upvotes</th>\n      <th>views</th>\n      <th>upvotes_scaled</th>\n      <th>views_scaled</th>\n      <th>weighted_engagement</th>\n      <th>engagement</th>\n      <th>char_count</th>\n      <th>word_count</th>\n      <th>sentence_count</th>\n      <th>TTR</th>\n      <th>modal_verbs</th>\n      <th>personal_pronouns</th>\n      <th>average_concreteness_answer</th>\n    </tr>\n  </thead>\n  <tbody>\n    <tr>\n      <th>0</th>\n      <td>1</td>\n      <td>0</td>\n      <td>depression</td>\n      <td>Do I have too many issues for counseling? I ha...</td>\n      <td>I've never heard of someone having \"too many i...</td>\n      <td>3</td>\n      <td>386</td>\n      <td>0.166667</td>\n      <td>0.201888</td>\n      <td>0.173711</td>\n      <td>High</td>\n      <td>536</td>\n      <td>104</td>\n      <td>7</td>\n      <td>0.650407</td>\n      <td>5</td>\n      <td>4</td>\n      <td>2.340241</td>\n    </tr>\n    <tr>\n      <th>1</th>\n      <td>4</td>\n      <td>0</td>\n      <td>depression</td>\n      <td>Do I have too many issues for counseling? I ha...</td>\n      <td>I just want to acknowledge you for the courage...</td>\n      <td>2</td>\n      <td>256</td>\n      <td>0.083333</td>\n      <td>0.133718</td>\n      <td>0.093410</td>\n      <td>High</td>\n      <td>857</td>\n      <td>200</td>\n      <td>13</td>\n      <td>0.515982</td>\n      <td>10</td>\n      <td>19</td>\n      <td>2.432944</td>\n    </tr>\n    <tr>\n      <th>2</th>\n      <td>5</td>\n      <td>0</td>\n      <td>depression</td>\n      <td>Do I have too many issues for counseling? I ha...</td>\n      <td>It's not really a question of whether you have...</td>\n      <td>2</td>\n      <td>435</td>\n      <td>0.083333</td>\n      <td>0.227583</td>\n      <td>0.112183</td>\n      <td>High</td>\n      <td>875</td>\n      <td>207</td>\n      <td>9</td>\n      <td>0.511211</td>\n      <td>9</td>\n      <td>22</td>\n      <td>2.455377</td>\n    </tr>\n    <tr>\n      <th>3</th>\n      <td>6</td>\n      <td>0</td>\n      <td>depression</td>\n      <td>Do I have too many issues for counseling? I ha...</td>\n      <td>There is no such thing as too much. Start wher...</td>\n      <td>2</td>\n      <td>217</td>\n      <td>0.083333</td>\n      <td>0.113267</td>\n      <td>0.089320</td>\n      <td>High</td>\n      <td>217</td>\n      <td>58</td>\n      <td>5</td>\n      <td>0.805970</td>\n      <td>2</td>\n      <td>7</td>\n      <td>2.386607</td>\n    </tr>\n    <tr>\n      <th>4</th>\n      <td>7</td>\n      <td>0</td>\n      <td>depression</td>\n      <td>Do I have too many issues for counseling? I ha...</td>\n      <td>The most direct answer is no. I would venture ...</td>\n      <td>2</td>\n      <td>1064</td>\n      <td>0.083333</td>\n      <td>0.557420</td>\n      <td>0.178151</td>\n      <td>High</td>\n      <td>512</td>\n      <td>121</td>\n      <td>8</td>\n      <td>0.613139</td>\n      <td>3</td>\n      <td>15</td>\n      <td>2.477757</td>\n    </tr>\n    <tr>\n      <th>...</th>\n      <td>...</td>\n      <td>...</td>\n      <td>...</td>\n      <td>...</td>\n      <td>...</td>\n      <td>...</td>\n      <td>...</td>\n      <td>...</td>\n      <td>...</td>\n      <td>...</td>\n      <td>...</td>\n      <td>...</td>\n      <td>...</td>\n      <td>...</td>\n      <td>...</td>\n      <td>...</td>\n      <td>...</td>\n      <td>...</td>\n    </tr>\n    <tr>\n      <th>2610</th>\n      <td>2744</td>\n      <td>939</td>\n      <td>counseling-fundamentals</td>\n      <td>Are some clients more difficult than others? W...</td>\n      <td>Although many clients have the capacity to be ...</td>\n      <td>1</td>\n      <td>47</td>\n      <td>0.000000</td>\n      <td>0.024122</td>\n      <td>0.004824</td>\n      <td>Low</td>\n      <td>867</td>\n      <td>168</td>\n      <td>4</td>\n      <td>0.548913</td>\n      <td>8</td>\n      <td>7</td>\n      <td>2.348333</td>\n    </tr>\n    <tr>\n      <th>2611</th>\n      <td>2745</td>\n      <td>939</td>\n      <td>counseling-fundamentals</td>\n      <td>Are some clients more difficult than others? W...</td>\n      <td>I usually don't label a client as \"difficult\" ...</td>\n      <td>1</td>\n      <td>22</td>\n      <td>0.000000</td>\n      <td>0.011012</td>\n      <td>0.002202</td>\n      <td>Low</td>\n      <td>1135</td>\n      <td>250</td>\n      <td>10</td>\n      <td>0.531469</td>\n      <td>7</td>\n      <td>19</td>\n      <td>2.286407</td>\n    </tr>\n    <tr>\n      <th>2612</th>\n      <td>2746</td>\n      <td>939</td>\n      <td>counseling-fundamentals</td>\n      <td>Are some clients more difficult than others? W...</td>\n      <td>Dang right!  :)Heh heh, and correct me if I'm ...</td>\n      <td>1</td>\n      <td>23</td>\n      <td>0.000000</td>\n      <td>0.011536</td>\n      <td>0.002307</td>\n      <td>Low</td>\n      <td>200</td>\n      <td>53</td>\n      <td>3</td>\n      <td>0.746479</td>\n      <td>2</td>\n      <td>6</td>\n      <td>2.398140</td>\n    </tr>\n    <tr>\n      <th>2613</th>\n      <td>2747</td>\n      <td>939</td>\n      <td>counseling-fundamentals</td>\n      <td>Are some clients more difficult than others? W...</td>\n      <td>Yes, just like some relationships outside of o...</td>\n      <td>1</td>\n      <td>41</td>\n      <td>0.000000</td>\n      <td>0.020975</td>\n      <td>0.004195</td>\n      <td>Low</td>\n      <td>926</td>\n      <td>203</td>\n      <td>7</td>\n      <td>0.472803</td>\n      <td>9</td>\n      <td>8</td>\n      <td>2.283459</td>\n    </tr>\n    <tr>\n      <th>2614</th>\n      <td>2748</td>\n      <td>939</td>\n      <td>counseling-fundamentals</td>\n      <td>Are some clients more difficult than others? W...</td>\n      <td>Each counselor will have their own list of \"di...</td>\n      <td>1</td>\n      <td>43</td>\n      <td>0.000000</td>\n      <td>0.022024</td>\n      <td>0.004405</td>\n      <td>Low</td>\n      <td>525</td>\n      <td>111</td>\n      <td>2</td>\n      <td>0.721311</td>\n      <td>3</td>\n      <td>4</td>\n      <td>2.422755</td>\n    </tr>\n  </tbody>\n</table>\n<p>2615 rows × 18 columns</p>\n</div>"
     },
     "execution_count": 10,
     "metadata": {},
     "output_type": "execute_result"
    }
   ],
   "source": [
    "counsel_df"
   ],
   "metadata": {
    "collapsed": false,
    "ExecuteTime": {
     "end_time": "2023-11-24T14:45:53.243691Z",
     "start_time": "2023-11-24T14:45:53.241711Z"
    }
   },
   "id": "44bc64bde76026e7"
  },
  {
   "cell_type": "markdown",
   "source": [
    "The incorporation of concreteness ratings into the analysis harnesses a quantifiable measure of the tangibility and specificity of language used in therapists' responses, a factor potentially pivotal in client engagement and comprehension. By systematically evaluating the concreteness of lexical choices, this step crucially aligns the linguistic attributes of the responses with empirical benchmarks, offering a nuanced understanding of how the degree of abstract versus concrete language correlates with and possibly influences user engagement in an online counseling context.\n",
    "\n",
    "Utilizing Brysbaert et al.'s concreteness ratings, this analysis step methodically quantifies the tangibility of language in therapists' responses, a crucial aspect for enhancing client engagement and understanding in online counseling. This approach, grounded in empirical benchmarks, judiciously evaluates lexical concreteness, thereby providing insights into the impact of abstract versus concrete language on user engagement, and substantiates the choice of using an established database for its reliability and academic rigor."
   ],
   "metadata": {
    "collapsed": false
   },
   "id": "1e624d86044b22b2"
  },
  {
   "cell_type": "markdown",
   "source": [
    "## 3. Sentiment"
   ],
   "metadata": {
    "collapsed": false
   },
   "id": "b764591926019cc2"
  },
  {
   "cell_type": "markdown",
   "source": [
    "### 3.1 Using TextBlob\n",
    "TextBlob is a simple library for processing textual data. It can provide sentiment polarity (ranging from -1 to 1, where -1 is very negative, 0 is neutral, and 1 is very positive) and subjectivity (ranging from 0 to 1, where 0 is very objective and 1 is very subjective)."
   ],
   "metadata": {
    "collapsed": false
   },
   "id": "5d9d1cdb00daf8c0"
  },
  {
   "cell_type": "code",
   "execution_count": 11,
   "outputs": [],
   "source": [
    "from textblob import TextBlob\n",
    "\n",
    "def get_sentiment(text):\n",
    "    blob = TextBlob(text)\n",
    "    return blob.sentiment.polarity, blob.sentiment.subjectivity"
   ],
   "metadata": {
    "collapsed": false,
    "ExecuteTime": {
     "end_time": "2023-11-24T14:45:53.334650Z",
     "start_time": "2023-11-24T14:45:53.244067Z"
    }
   },
   "id": "737f7c78a3080b5"
  },
  {
   "cell_type": "code",
   "execution_count": 12,
   "outputs": [],
   "source": [
    "\n",
    "# Apply the function to each row in the 'answer' column\n",
    "counsel_df[['sentiment_polarity_answer', 'sentiment_subjectivity_answer']] = counsel_df['answer'].apply(lambda x: pd.Series(get_sentiment(x)))\n",
    "counsel_df[['sentiment_polarity_question', 'sentiment_subjectivity_question']] = counsel_df['question'].apply(lambda x: pd.Series(get_sentiment(x)))"
   ],
   "metadata": {
    "collapsed": false,
    "ExecuteTime": {
     "end_time": "2023-11-24T14:45:54.409082Z",
     "start_time": "2023-11-24T14:45:53.336394Z"
    }
   },
   "id": "31c2c665405831fe"
  },
  {
   "cell_type": "code",
   "execution_count": 15,
   "outputs": [
    {
     "data": {
      "text/plain": "      index   ID                    topic  \\\n0         1    0               depression   \n1         4    0               depression   \n2         5    0               depression   \n3         6    0               depression   \n4         7    0               depression   \n...     ...  ...                      ...   \n2610   2744  939  counseling-fundamentals   \n2611   2745  939  counseling-fundamentals   \n2612   2746  939  counseling-fundamentals   \n2613   2747  939  counseling-fundamentals   \n2614   2748  939  counseling-fundamentals   \n\n                                               question  \\\n0     Do I have too many issues for counseling? I ha...   \n1     Do I have too many issues for counseling? I ha...   \n2     Do I have too many issues for counseling? I ha...   \n3     Do I have too many issues for counseling? I ha...   \n4     Do I have too many issues for counseling? I ha...   \n...                                                 ...   \n2610  Are some clients more difficult than others? W...   \n2611  Are some clients more difficult than others? W...   \n2612  Are some clients more difficult than others? W...   \n2613  Are some clients more difficult than others? W...   \n2614  Are some clients more difficult than others? W...   \n\n                                                 answer  upvotes  views  \\\n0     I've never heard of someone having \"too many i...        3    386   \n1     I just want to acknowledge you for the courage...        2    256   \n2     It's not really a question of whether you have...        2    435   \n3     There is no such thing as too much. Start wher...        2    217   \n4     The most direct answer is no. I would venture ...        2   1064   \n...                                                 ...      ...    ...   \n2610  Although many clients have the capacity to be ...        1     47   \n2611  I usually don't label a client as \"difficult\" ...        1     22   \n2612  Dang right!  :)Heh heh, and correct me if I'm ...        1     23   \n2613  Yes, just like some relationships outside of o...        1     41   \n2614  Each counselor will have their own list of \"di...        1     43   \n\n      upvotes_scaled  views_scaled  weighted_engagement  ... word_count  \\\n0           0.166667      0.201888             0.173711  ...        104   \n1           0.083333      0.133718             0.093410  ...        200   \n2           0.083333      0.227583             0.112183  ...        207   \n3           0.083333      0.113267             0.089320  ...         58   \n4           0.083333      0.557420             0.178151  ...        121   \n...              ...           ...                  ...  ...        ...   \n2610        0.000000      0.024122             0.004824  ...        168   \n2611        0.000000      0.011012             0.002202  ...        250   \n2612        0.000000      0.011536             0.002307  ...         53   \n2613        0.000000      0.020975             0.004195  ...        203   \n2614        0.000000      0.022024             0.004405  ...        111   \n\n      sentence_count       TTR  modal_verbs  personal_pronouns  \\\n0                  7  0.650407            5                  4   \n1                 13  0.515982           10                 19   \n2                  9  0.511211            9                 22   \n3                  5  0.805970            2                  7   \n4                  8  0.613139            3                 15   \n...              ...       ...          ...                ...   \n2610               4  0.548913            8                  7   \n2611              10  0.531469            7                 19   \n2612               3  0.746479            2                  6   \n2613               7  0.472803            9                  8   \n2614               2  0.721311            3                  4   \n\n      average_concreteness_answer  sentiment_polarity_answer  \\\n0                        2.340241                   0.194444   \n1                        2.432944                   0.218889   \n2                        2.455377                   0.282051   \n3                        2.386607                   0.286508   \n4                        2.477757                   0.076786   \n...                           ...                        ...   \n2610                     2.348333                   0.265000   \n2611                     2.286407                  -0.050430   \n2612                     2.398140                   0.267857   \n2613                     2.283459                   0.045767   \n2614                     2.422755                   0.044231   \n\n      sentiment_subjectivity_answer  sentiment_polarity_question  \\\n0                          0.525926                     0.314286   \n1                          0.428889                     0.314286   \n2                          0.548718                     0.314286   \n3                          0.467063                     0.314286   \n4                          0.373214                     0.314286   \n...                             ...                          ...   \n2610                       0.530000                     0.000000   \n2611                       0.649432                     0.000000   \n2612                       0.760119                     0.000000   \n2613                       0.641723                     0.000000   \n2614                       0.644872                     0.000000   \n\n      sentiment_subjectivity_question  \n0                            0.469048  \n1                            0.469048  \n2                            0.469048  \n3                            0.469048  \n4                            0.469048  \n...                               ...  \n2610                         0.750000  \n2611                         0.750000  \n2612                         0.750000  \n2613                         0.750000  \n2614                         0.750000  \n\n[2615 rows x 22 columns]",
      "text/html": "<div>\n<style scoped>\n    .dataframe tbody tr th:only-of-type {\n        vertical-align: middle;\n    }\n\n    .dataframe tbody tr th {\n        vertical-align: top;\n    }\n\n    .dataframe thead th {\n        text-align: right;\n    }\n</style>\n<table border=\"1\" class=\"dataframe\">\n  <thead>\n    <tr style=\"text-align: right;\">\n      <th></th>\n      <th>index</th>\n      <th>ID</th>\n      <th>topic</th>\n      <th>question</th>\n      <th>answer</th>\n      <th>upvotes</th>\n      <th>views</th>\n      <th>upvotes_scaled</th>\n      <th>views_scaled</th>\n      <th>weighted_engagement</th>\n      <th>...</th>\n      <th>word_count</th>\n      <th>sentence_count</th>\n      <th>TTR</th>\n      <th>modal_verbs</th>\n      <th>personal_pronouns</th>\n      <th>average_concreteness_answer</th>\n      <th>sentiment_polarity_answer</th>\n      <th>sentiment_subjectivity_answer</th>\n      <th>sentiment_polarity_question</th>\n      <th>sentiment_subjectivity_question</th>\n    </tr>\n  </thead>\n  <tbody>\n    <tr>\n      <th>0</th>\n      <td>1</td>\n      <td>0</td>\n      <td>depression</td>\n      <td>Do I have too many issues for counseling? I ha...</td>\n      <td>I've never heard of someone having \"too many i...</td>\n      <td>3</td>\n      <td>386</td>\n      <td>0.166667</td>\n      <td>0.201888</td>\n      <td>0.173711</td>\n      <td>...</td>\n      <td>104</td>\n      <td>7</td>\n      <td>0.650407</td>\n      <td>5</td>\n      <td>4</td>\n      <td>2.340241</td>\n      <td>0.194444</td>\n      <td>0.525926</td>\n      <td>0.314286</td>\n      <td>0.469048</td>\n    </tr>\n    <tr>\n      <th>1</th>\n      <td>4</td>\n      <td>0</td>\n      <td>depression</td>\n      <td>Do I have too many issues for counseling? I ha...</td>\n      <td>I just want to acknowledge you for the courage...</td>\n      <td>2</td>\n      <td>256</td>\n      <td>0.083333</td>\n      <td>0.133718</td>\n      <td>0.093410</td>\n      <td>...</td>\n      <td>200</td>\n      <td>13</td>\n      <td>0.515982</td>\n      <td>10</td>\n      <td>19</td>\n      <td>2.432944</td>\n      <td>0.218889</td>\n      <td>0.428889</td>\n      <td>0.314286</td>\n      <td>0.469048</td>\n    </tr>\n    <tr>\n      <th>2</th>\n      <td>5</td>\n      <td>0</td>\n      <td>depression</td>\n      <td>Do I have too many issues for counseling? I ha...</td>\n      <td>It's not really a question of whether you have...</td>\n      <td>2</td>\n      <td>435</td>\n      <td>0.083333</td>\n      <td>0.227583</td>\n      <td>0.112183</td>\n      <td>...</td>\n      <td>207</td>\n      <td>9</td>\n      <td>0.511211</td>\n      <td>9</td>\n      <td>22</td>\n      <td>2.455377</td>\n      <td>0.282051</td>\n      <td>0.548718</td>\n      <td>0.314286</td>\n      <td>0.469048</td>\n    </tr>\n    <tr>\n      <th>3</th>\n      <td>6</td>\n      <td>0</td>\n      <td>depression</td>\n      <td>Do I have too many issues for counseling? I ha...</td>\n      <td>There is no such thing as too much. Start wher...</td>\n      <td>2</td>\n      <td>217</td>\n      <td>0.083333</td>\n      <td>0.113267</td>\n      <td>0.089320</td>\n      <td>...</td>\n      <td>58</td>\n      <td>5</td>\n      <td>0.805970</td>\n      <td>2</td>\n      <td>7</td>\n      <td>2.386607</td>\n      <td>0.286508</td>\n      <td>0.467063</td>\n      <td>0.314286</td>\n      <td>0.469048</td>\n    </tr>\n    <tr>\n      <th>4</th>\n      <td>7</td>\n      <td>0</td>\n      <td>depression</td>\n      <td>Do I have too many issues for counseling? I ha...</td>\n      <td>The most direct answer is no. I would venture ...</td>\n      <td>2</td>\n      <td>1064</td>\n      <td>0.083333</td>\n      <td>0.557420</td>\n      <td>0.178151</td>\n      <td>...</td>\n      <td>121</td>\n      <td>8</td>\n      <td>0.613139</td>\n      <td>3</td>\n      <td>15</td>\n      <td>2.477757</td>\n      <td>0.076786</td>\n      <td>0.373214</td>\n      <td>0.314286</td>\n      <td>0.469048</td>\n    </tr>\n    <tr>\n      <th>...</th>\n      <td>...</td>\n      <td>...</td>\n      <td>...</td>\n      <td>...</td>\n      <td>...</td>\n      <td>...</td>\n      <td>...</td>\n      <td>...</td>\n      <td>...</td>\n      <td>...</td>\n      <td>...</td>\n      <td>...</td>\n      <td>...</td>\n      <td>...</td>\n      <td>...</td>\n      <td>...</td>\n      <td>...</td>\n      <td>...</td>\n      <td>...</td>\n      <td>...</td>\n      <td>...</td>\n    </tr>\n    <tr>\n      <th>2610</th>\n      <td>2744</td>\n      <td>939</td>\n      <td>counseling-fundamentals</td>\n      <td>Are some clients more difficult than others? W...</td>\n      <td>Although many clients have the capacity to be ...</td>\n      <td>1</td>\n      <td>47</td>\n      <td>0.000000</td>\n      <td>0.024122</td>\n      <td>0.004824</td>\n      <td>...</td>\n      <td>168</td>\n      <td>4</td>\n      <td>0.548913</td>\n      <td>8</td>\n      <td>7</td>\n      <td>2.348333</td>\n      <td>0.265000</td>\n      <td>0.530000</td>\n      <td>0.000000</td>\n      <td>0.750000</td>\n    </tr>\n    <tr>\n      <th>2611</th>\n      <td>2745</td>\n      <td>939</td>\n      <td>counseling-fundamentals</td>\n      <td>Are some clients more difficult than others? W...</td>\n      <td>I usually don't label a client as \"difficult\" ...</td>\n      <td>1</td>\n      <td>22</td>\n      <td>0.000000</td>\n      <td>0.011012</td>\n      <td>0.002202</td>\n      <td>...</td>\n      <td>250</td>\n      <td>10</td>\n      <td>0.531469</td>\n      <td>7</td>\n      <td>19</td>\n      <td>2.286407</td>\n      <td>-0.050430</td>\n      <td>0.649432</td>\n      <td>0.000000</td>\n      <td>0.750000</td>\n    </tr>\n    <tr>\n      <th>2612</th>\n      <td>2746</td>\n      <td>939</td>\n      <td>counseling-fundamentals</td>\n      <td>Are some clients more difficult than others? W...</td>\n      <td>Dang right!  :)Heh heh, and correct me if I'm ...</td>\n      <td>1</td>\n      <td>23</td>\n      <td>0.000000</td>\n      <td>0.011536</td>\n      <td>0.002307</td>\n      <td>...</td>\n      <td>53</td>\n      <td>3</td>\n      <td>0.746479</td>\n      <td>2</td>\n      <td>6</td>\n      <td>2.398140</td>\n      <td>0.267857</td>\n      <td>0.760119</td>\n      <td>0.000000</td>\n      <td>0.750000</td>\n    </tr>\n    <tr>\n      <th>2613</th>\n      <td>2747</td>\n      <td>939</td>\n      <td>counseling-fundamentals</td>\n      <td>Are some clients more difficult than others? W...</td>\n      <td>Yes, just like some relationships outside of o...</td>\n      <td>1</td>\n      <td>41</td>\n      <td>0.000000</td>\n      <td>0.020975</td>\n      <td>0.004195</td>\n      <td>...</td>\n      <td>203</td>\n      <td>7</td>\n      <td>0.472803</td>\n      <td>9</td>\n      <td>8</td>\n      <td>2.283459</td>\n      <td>0.045767</td>\n      <td>0.641723</td>\n      <td>0.000000</td>\n      <td>0.750000</td>\n    </tr>\n    <tr>\n      <th>2614</th>\n      <td>2748</td>\n      <td>939</td>\n      <td>counseling-fundamentals</td>\n      <td>Are some clients more difficult than others? W...</td>\n      <td>Each counselor will have their own list of \"di...</td>\n      <td>1</td>\n      <td>43</td>\n      <td>0.000000</td>\n      <td>0.022024</td>\n      <td>0.004405</td>\n      <td>...</td>\n      <td>111</td>\n      <td>2</td>\n      <td>0.721311</td>\n      <td>3</td>\n      <td>4</td>\n      <td>2.422755</td>\n      <td>0.044231</td>\n      <td>0.644872</td>\n      <td>0.000000</td>\n      <td>0.750000</td>\n    </tr>\n  </tbody>\n</table>\n<p>2615 rows × 22 columns</p>\n</div>"
     },
     "execution_count": 15,
     "metadata": {},
     "output_type": "execute_result"
    }
   ],
   "source": [
    "counsel_df"
   ],
   "metadata": {
    "collapsed": false,
    "ExecuteTime": {
     "end_time": "2023-11-24T14:46:45.313092Z",
     "start_time": "2023-11-24T14:46:45.292194Z"
    }
   },
   "id": "5a2db7cd76139437"
  },
  {
   "cell_type": "markdown",
   "source": [
    "### 3.2 Using NLTK's VADER\n",
    "VADER (Valence Aware Dictionary and sEntiment Reasoner) is particularly good for sentiments expressed in social media due to its understanding of slang and emoji."
   ],
   "metadata": {
    "collapsed": false
   },
   "id": "1a0fddd8a89493d0"
  },
  {
   "cell_type": "code",
   "execution_count": 18,
   "outputs": [],
   "source": [
    "from nltk.sentiment import SentimentIntensityAnalyzer\n",
    "\n",
    "sia = SentimentIntensityAnalyzer()\n",
    "\n",
    "def get_vader_sentiment(text):\n",
    "    return sia.polarity_scores(text)['compound']"
   ],
   "metadata": {
    "collapsed": false,
    "ExecuteTime": {
     "end_time": "2023-11-24T14:50:12.351851Z",
     "start_time": "2023-11-24T14:50:12.328007Z"
    }
   },
   "id": "a8f5a9aaecda0f4a"
  },
  {
   "cell_type": "code",
   "execution_count": 19,
   "outputs": [],
   "source": [
    "# Apply the function to each row in the 'answer' column\n",
    "counsel_df['vader_sentiment'] = counsel_df['answer'].apply(get_vader_sentiment)\n",
    "\n",
    "# Now your DataFrame will have a new column 'vader_sentiment'\n"
   ],
   "metadata": {
    "collapsed": false,
    "ExecuteTime": {
     "end_time": "2023-11-24T14:50:49.382260Z",
     "start_time": "2023-11-24T14:50:47.575217Z"
    }
   },
   "id": "91cd39488b89030b"
  },
  {
   "cell_type": "code",
   "execution_count": 20,
   "outputs": [
    {
     "data": {
      "text/plain": "      index   ID                    topic  \\\n0         1    0               depression   \n1         4    0               depression   \n2         5    0               depression   \n3         6    0               depression   \n4         7    0               depression   \n...     ...  ...                      ...   \n2610   2744  939  counseling-fundamentals   \n2611   2745  939  counseling-fundamentals   \n2612   2746  939  counseling-fundamentals   \n2613   2747  939  counseling-fundamentals   \n2614   2748  939  counseling-fundamentals   \n\n                                               question  \\\n0     Do I have too many issues for counseling? I ha...   \n1     Do I have too many issues for counseling? I ha...   \n2     Do I have too many issues for counseling? I ha...   \n3     Do I have too many issues for counseling? I ha...   \n4     Do I have too many issues for counseling? I ha...   \n...                                                 ...   \n2610  Are some clients more difficult than others? W...   \n2611  Are some clients more difficult than others? W...   \n2612  Are some clients more difficult than others? W...   \n2613  Are some clients more difficult than others? W...   \n2614  Are some clients more difficult than others? W...   \n\n                                                 answer  upvotes  views  \\\n0     I've never heard of someone having \"too many i...        3    386   \n1     I just want to acknowledge you for the courage...        2    256   \n2     It's not really a question of whether you have...        2    435   \n3     There is no such thing as too much. Start wher...        2    217   \n4     The most direct answer is no. I would venture ...        2   1064   \n...                                                 ...      ...    ...   \n2610  Although many clients have the capacity to be ...        1     47   \n2611  I usually don't label a client as \"difficult\" ...        1     22   \n2612  Dang right!  :)Heh heh, and correct me if I'm ...        1     23   \n2613  Yes, just like some relationships outside of o...        1     41   \n2614  Each counselor will have their own list of \"di...        1     43   \n\n      upvotes_scaled  views_scaled  weighted_engagement  ... sentence_count  \\\n0           0.166667      0.201888             0.173711  ...              7   \n1           0.083333      0.133718             0.093410  ...             13   \n2           0.083333      0.227583             0.112183  ...              9   \n3           0.083333      0.113267             0.089320  ...              5   \n4           0.083333      0.557420             0.178151  ...              8   \n...              ...           ...                  ...  ...            ...   \n2610        0.000000      0.024122             0.004824  ...              4   \n2611        0.000000      0.011012             0.002202  ...             10   \n2612        0.000000      0.011536             0.002307  ...              3   \n2613        0.000000      0.020975             0.004195  ...              7   \n2614        0.000000      0.022024             0.004405  ...              2   \n\n           TTR  modal_verbs  personal_pronouns  average_concreteness_answer  \\\n0     0.650407            5                  4                     2.340241   \n1     0.515982           10                 19                     2.432944   \n2     0.511211            9                 22                     2.455377   \n3     0.805970            2                  7                     2.386607   \n4     0.613139            3                 15                     2.477757   \n...        ...          ...                ...                          ...   \n2610  0.548913            8                  7                     2.348333   \n2611  0.531469            7                 19                     2.286407   \n2612  0.746479            2                  6                     2.398140   \n2613  0.472803            9                  8                     2.283459   \n2614  0.721311            3                  4                     2.422755   \n\n      sentiment_polarity_answer  sentiment_subjectivity_answer  \\\n0                      0.194444                       0.525926   \n1                      0.218889                       0.428889   \n2                      0.282051                       0.548718   \n3                      0.286508                       0.467063   \n4                      0.076786                       0.373214   \n...                         ...                            ...   \n2610                   0.265000                       0.530000   \n2611                  -0.050430                       0.649432   \n2612                   0.267857                       0.760119   \n2613                   0.045767                       0.641723   \n2614                   0.044231                       0.644872   \n\n      sentiment_polarity_question  sentiment_subjectivity_question  \\\n0                        0.314286                         0.469048   \n1                        0.314286                         0.469048   \n2                        0.314286                         0.469048   \n3                        0.314286                         0.469048   \n4                        0.314286                         0.469048   \n...                           ...                              ...   \n2610                     0.000000                         0.750000   \n2611                     0.000000                         0.750000   \n2612                     0.000000                         0.750000   \n2613                     0.000000                         0.750000   \n2614                     0.000000                         0.750000   \n\n      vader_sentiment  \n0             -0.9460  \n1              0.9719  \n2              0.9847  \n3              0.7876  \n4              0.4215  \n...               ...  \n2610           0.8441  \n2611          -0.6065  \n2612          -0.3187  \n2613           0.9307  \n2614          -0.9630  \n\n[2615 rows x 23 columns]",
      "text/html": "<div>\n<style scoped>\n    .dataframe tbody tr th:only-of-type {\n        vertical-align: middle;\n    }\n\n    .dataframe tbody tr th {\n        vertical-align: top;\n    }\n\n    .dataframe thead th {\n        text-align: right;\n    }\n</style>\n<table border=\"1\" class=\"dataframe\">\n  <thead>\n    <tr style=\"text-align: right;\">\n      <th></th>\n      <th>index</th>\n      <th>ID</th>\n      <th>topic</th>\n      <th>question</th>\n      <th>answer</th>\n      <th>upvotes</th>\n      <th>views</th>\n      <th>upvotes_scaled</th>\n      <th>views_scaled</th>\n      <th>weighted_engagement</th>\n      <th>...</th>\n      <th>sentence_count</th>\n      <th>TTR</th>\n      <th>modal_verbs</th>\n      <th>personal_pronouns</th>\n      <th>average_concreteness_answer</th>\n      <th>sentiment_polarity_answer</th>\n      <th>sentiment_subjectivity_answer</th>\n      <th>sentiment_polarity_question</th>\n      <th>sentiment_subjectivity_question</th>\n      <th>vader_sentiment</th>\n    </tr>\n  </thead>\n  <tbody>\n    <tr>\n      <th>0</th>\n      <td>1</td>\n      <td>0</td>\n      <td>depression</td>\n      <td>Do I have too many issues for counseling? I ha...</td>\n      <td>I've never heard of someone having \"too many i...</td>\n      <td>3</td>\n      <td>386</td>\n      <td>0.166667</td>\n      <td>0.201888</td>\n      <td>0.173711</td>\n      <td>...</td>\n      <td>7</td>\n      <td>0.650407</td>\n      <td>5</td>\n      <td>4</td>\n      <td>2.340241</td>\n      <td>0.194444</td>\n      <td>0.525926</td>\n      <td>0.314286</td>\n      <td>0.469048</td>\n      <td>-0.9460</td>\n    </tr>\n    <tr>\n      <th>1</th>\n      <td>4</td>\n      <td>0</td>\n      <td>depression</td>\n      <td>Do I have too many issues for counseling? I ha...</td>\n      <td>I just want to acknowledge you for the courage...</td>\n      <td>2</td>\n      <td>256</td>\n      <td>0.083333</td>\n      <td>0.133718</td>\n      <td>0.093410</td>\n      <td>...</td>\n      <td>13</td>\n      <td>0.515982</td>\n      <td>10</td>\n      <td>19</td>\n      <td>2.432944</td>\n      <td>0.218889</td>\n      <td>0.428889</td>\n      <td>0.314286</td>\n      <td>0.469048</td>\n      <td>0.9719</td>\n    </tr>\n    <tr>\n      <th>2</th>\n      <td>5</td>\n      <td>0</td>\n      <td>depression</td>\n      <td>Do I have too many issues for counseling? I ha...</td>\n      <td>It's not really a question of whether you have...</td>\n      <td>2</td>\n      <td>435</td>\n      <td>0.083333</td>\n      <td>0.227583</td>\n      <td>0.112183</td>\n      <td>...</td>\n      <td>9</td>\n      <td>0.511211</td>\n      <td>9</td>\n      <td>22</td>\n      <td>2.455377</td>\n      <td>0.282051</td>\n      <td>0.548718</td>\n      <td>0.314286</td>\n      <td>0.469048</td>\n      <td>0.9847</td>\n    </tr>\n    <tr>\n      <th>3</th>\n      <td>6</td>\n      <td>0</td>\n      <td>depression</td>\n      <td>Do I have too many issues for counseling? I ha...</td>\n      <td>There is no such thing as too much. Start wher...</td>\n      <td>2</td>\n      <td>217</td>\n      <td>0.083333</td>\n      <td>0.113267</td>\n      <td>0.089320</td>\n      <td>...</td>\n      <td>5</td>\n      <td>0.805970</td>\n      <td>2</td>\n      <td>7</td>\n      <td>2.386607</td>\n      <td>0.286508</td>\n      <td>0.467063</td>\n      <td>0.314286</td>\n      <td>0.469048</td>\n      <td>0.7876</td>\n    </tr>\n    <tr>\n      <th>4</th>\n      <td>7</td>\n      <td>0</td>\n      <td>depression</td>\n      <td>Do I have too many issues for counseling? I ha...</td>\n      <td>The most direct answer is no. I would venture ...</td>\n      <td>2</td>\n      <td>1064</td>\n      <td>0.083333</td>\n      <td>0.557420</td>\n      <td>0.178151</td>\n      <td>...</td>\n      <td>8</td>\n      <td>0.613139</td>\n      <td>3</td>\n      <td>15</td>\n      <td>2.477757</td>\n      <td>0.076786</td>\n      <td>0.373214</td>\n      <td>0.314286</td>\n      <td>0.469048</td>\n      <td>0.4215</td>\n    </tr>\n    <tr>\n      <th>...</th>\n      <td>...</td>\n      <td>...</td>\n      <td>...</td>\n      <td>...</td>\n      <td>...</td>\n      <td>...</td>\n      <td>...</td>\n      <td>...</td>\n      <td>...</td>\n      <td>...</td>\n      <td>...</td>\n      <td>...</td>\n      <td>...</td>\n      <td>...</td>\n      <td>...</td>\n      <td>...</td>\n      <td>...</td>\n      <td>...</td>\n      <td>...</td>\n      <td>...</td>\n      <td>...</td>\n    </tr>\n    <tr>\n      <th>2610</th>\n      <td>2744</td>\n      <td>939</td>\n      <td>counseling-fundamentals</td>\n      <td>Are some clients more difficult than others? W...</td>\n      <td>Although many clients have the capacity to be ...</td>\n      <td>1</td>\n      <td>47</td>\n      <td>0.000000</td>\n      <td>0.024122</td>\n      <td>0.004824</td>\n      <td>...</td>\n      <td>4</td>\n      <td>0.548913</td>\n      <td>8</td>\n      <td>7</td>\n      <td>2.348333</td>\n      <td>0.265000</td>\n      <td>0.530000</td>\n      <td>0.000000</td>\n      <td>0.750000</td>\n      <td>0.8441</td>\n    </tr>\n    <tr>\n      <th>2611</th>\n      <td>2745</td>\n      <td>939</td>\n      <td>counseling-fundamentals</td>\n      <td>Are some clients more difficult than others? W...</td>\n      <td>I usually don't label a client as \"difficult\" ...</td>\n      <td>1</td>\n      <td>22</td>\n      <td>0.000000</td>\n      <td>0.011012</td>\n      <td>0.002202</td>\n      <td>...</td>\n      <td>10</td>\n      <td>0.531469</td>\n      <td>7</td>\n      <td>19</td>\n      <td>2.286407</td>\n      <td>-0.050430</td>\n      <td>0.649432</td>\n      <td>0.000000</td>\n      <td>0.750000</td>\n      <td>-0.6065</td>\n    </tr>\n    <tr>\n      <th>2612</th>\n      <td>2746</td>\n      <td>939</td>\n      <td>counseling-fundamentals</td>\n      <td>Are some clients more difficult than others? W...</td>\n      <td>Dang right!  :)Heh heh, and correct me if I'm ...</td>\n      <td>1</td>\n      <td>23</td>\n      <td>0.000000</td>\n      <td>0.011536</td>\n      <td>0.002307</td>\n      <td>...</td>\n      <td>3</td>\n      <td>0.746479</td>\n      <td>2</td>\n      <td>6</td>\n      <td>2.398140</td>\n      <td>0.267857</td>\n      <td>0.760119</td>\n      <td>0.000000</td>\n      <td>0.750000</td>\n      <td>-0.3187</td>\n    </tr>\n    <tr>\n      <th>2613</th>\n      <td>2747</td>\n      <td>939</td>\n      <td>counseling-fundamentals</td>\n      <td>Are some clients more difficult than others? W...</td>\n      <td>Yes, just like some relationships outside of o...</td>\n      <td>1</td>\n      <td>41</td>\n      <td>0.000000</td>\n      <td>0.020975</td>\n      <td>0.004195</td>\n      <td>...</td>\n      <td>7</td>\n      <td>0.472803</td>\n      <td>9</td>\n      <td>8</td>\n      <td>2.283459</td>\n      <td>0.045767</td>\n      <td>0.641723</td>\n      <td>0.000000</td>\n      <td>0.750000</td>\n      <td>0.9307</td>\n    </tr>\n    <tr>\n      <th>2614</th>\n      <td>2748</td>\n      <td>939</td>\n      <td>counseling-fundamentals</td>\n      <td>Are some clients more difficult than others? W...</td>\n      <td>Each counselor will have their own list of \"di...</td>\n      <td>1</td>\n      <td>43</td>\n      <td>0.000000</td>\n      <td>0.022024</td>\n      <td>0.004405</td>\n      <td>...</td>\n      <td>2</td>\n      <td>0.721311</td>\n      <td>3</td>\n      <td>4</td>\n      <td>2.422755</td>\n      <td>0.044231</td>\n      <td>0.644872</td>\n      <td>0.000000</td>\n      <td>0.750000</td>\n      <td>-0.9630</td>\n    </tr>\n  </tbody>\n</table>\n<p>2615 rows × 23 columns</p>\n</div>"
     },
     "execution_count": 20,
     "metadata": {},
     "output_type": "execute_result"
    }
   ],
   "source": [
    "counsel_df"
   ],
   "metadata": {
    "collapsed": false,
    "ExecuteTime": {
     "end_time": "2023-11-24T14:50:55.599255Z",
     "start_time": "2023-11-24T14:50:55.593438Z"
    }
   },
   "id": "3b3a7abd8d731883"
  },
  {
   "cell_type": "markdown",
   "source": [
    "Applying sentiment analysis to the therapists' responses, using tools like TextBlob and VADER, is crucial in quantifying the emotional tone and subjectivity embedded in the language, an aspect integral to understanding user engagement in online counseling. This analytical step, through its systematic evaluation of sentiment polarity and subjectivity, enables the exploration of how emotional expression in therapist communication correlates with and potentially influences client engagement, thereby substantiating the choice of these tools for their robustness and adaptability in processing varied linguistic expressions."
   ],
   "metadata": {
    "collapsed": false
   },
   "id": "fb56ef1a04e87e4c"
  },
  {
   "cell_type": "markdown",
   "source": [
    "## 4. Readability\n",
    "\n",
    "To assess the readability of the therapists' answers in your dataset, you can use Python's textstat library, which provides several readability metrics. Commonly used metrics include:\n",
    "\n",
    "- Flesch Reading Ease: Higher scores indicate material that is easier to read; lower numbers mark passages that are more difficult to read.\n",
    "- Flesch-Kincaid Grade Level: Shows the US grade level needed to understand the text.\n",
    "- Gunning Fog Index: Estimates the years of formal education needed to understand the text on the first reading.\n",
    "- SMOG Index: Calculates the years of education needed to understand a piece of writing.\n",
    "- Automated Readability Index (ARI): Like the Flesch-Kincaid Grade Level, this index estimates the grade level needed to comprehend the text."
   ],
   "metadata": {
    "collapsed": false
   },
   "id": "57b537c023940058"
  },
  {
   "cell_type": "code",
   "execution_count": 21,
   "outputs": [],
   "source": [
    "import textstat\n",
    "\n",
    "# Define a function to calculate readability scores\n",
    "def calculate_readability(text):\n",
    "    flesch_reading_ease = textstat.flesch_reading_ease(text)\n",
    "    flesch_kincaid_grade = textstat.flesch_kincaid_grade(text)\n",
    "    gunning_fog = textstat.gunning_fog(text)\n",
    "    smog_index = textstat.smog_index(text)\n",
    "    ari = textstat.automated_readability_index(text)\n",
    "    return flesch_reading_ease, flesch_kincaid_grade, gunning_fog, smog_index, ari"
   ],
   "metadata": {
    "collapsed": false,
    "ExecuteTime": {
     "end_time": "2023-11-24T14:58:04.866045Z",
     "start_time": "2023-11-24T14:58:04.801206Z"
    }
   },
   "id": "9989f9c717fc4cb0"
  },
  {
   "cell_type": "code",
   "execution_count": 22,
   "outputs": [],
   "source": [
    "\n",
    "# Apply the function to each row in the 'answer' column\n",
    "counsel_df[['flesch_reading_ease', 'flesch_kincaid_grade', 'gunning_fog', 'smog_index', 'ari']] = counsel_df['answer'].apply(lambda x: pd.Series(calculate_readability(x)))\n"
   ],
   "metadata": {
    "collapsed": false,
    "ExecuteTime": {
     "end_time": "2023-11-24T14:58:08.166619Z",
     "start_time": "2023-11-24T14:58:06.714968Z"
    }
   },
   "id": "55c6c448e708b8c1"
  },
  {
   "cell_type": "code",
   "execution_count": 24,
   "outputs": [
    {
     "data": {
      "text/plain": "      index   ID                    topic  \\\n0         1    0               depression   \n1         4    0               depression   \n2         5    0               depression   \n3         6    0               depression   \n4         7    0               depression   \n...     ...  ...                      ...   \n2610   2744  939  counseling-fundamentals   \n2611   2745  939  counseling-fundamentals   \n2612   2746  939  counseling-fundamentals   \n2613   2747  939  counseling-fundamentals   \n2614   2748  939  counseling-fundamentals   \n\n                                               question  \\\n0     Do I have too many issues for counseling? I ha...   \n1     Do I have too many issues for counseling? I ha...   \n2     Do I have too many issues for counseling? I ha...   \n3     Do I have too many issues for counseling? I ha...   \n4     Do I have too many issues for counseling? I ha...   \n...                                                 ...   \n2610  Are some clients more difficult than others? W...   \n2611  Are some clients more difficult than others? W...   \n2612  Are some clients more difficult than others? W...   \n2613  Are some clients more difficult than others? W...   \n2614  Are some clients more difficult than others? W...   \n\n                                                 answer  upvotes  views  \\\n0     I've never heard of someone having \"too many i...        3    386   \n1     I just want to acknowledge you for the courage...        2    256   \n2     It's not really a question of whether you have...        2    435   \n3     There is no such thing as too much. Start wher...        2    217   \n4     The most direct answer is no. I would venture ...        2   1064   \n...                                                 ...      ...    ...   \n2610  Although many clients have the capacity to be ...        1     47   \n2611  I usually don't label a client as \"difficult\" ...        1     22   \n2612  Dang right!  :)Heh heh, and correct me if I'm ...        1     23   \n2613  Yes, just like some relationships outside of o...        1     41   \n2614  Each counselor will have their own list of \"di...        1     43   \n\n      upvotes_scaled  views_scaled  weighted_engagement  ...  \\\n0           0.166667      0.201888             0.173711  ...   \n1           0.083333      0.133718             0.093410  ...   \n2           0.083333      0.227583             0.112183  ...   \n3           0.083333      0.113267             0.089320  ...   \n4           0.083333      0.557420             0.178151  ...   \n...              ...           ...                  ...  ...   \n2610        0.000000      0.024122             0.004824  ...   \n2611        0.000000      0.011012             0.002202  ...   \n2612        0.000000      0.011536             0.002307  ...   \n2613        0.000000      0.020975             0.004195  ...   \n2614        0.000000      0.022024             0.004405  ...   \n\n     sentiment_polarity_answer  sentiment_subjectivity_answer  \\\n0                     0.194444                       0.525926   \n1                     0.218889                       0.428889   \n2                     0.282051                       0.548718   \n3                     0.286508                       0.467063   \n4                     0.076786                       0.373214   \n...                        ...                            ...   \n2610                  0.265000                       0.530000   \n2611                 -0.050430                       0.649432   \n2612                  0.267857                       0.760119   \n2613                  0.045767                       0.641723   \n2614                  0.044231                       0.644872   \n\n      sentiment_polarity_question  sentiment_subjectivity_question  \\\n0                        0.314286                         0.469048   \n1                        0.314286                         0.469048   \n2                        0.314286                         0.469048   \n3                        0.314286                         0.469048   \n4                        0.314286                         0.469048   \n...                           ...                              ...   \n2610                     0.000000                         0.750000   \n2611                     0.000000                         0.750000   \n2612                     0.000000                         0.750000   \n2613                     0.000000                         0.750000   \n2614                     0.000000                         0.750000   \n\n      vader_sentiment  flesch_reading_ease  flesch_kincaid_grade  gunning_fog  \\\n0             -0.9460                47.49                  10.4        12.10   \n1              0.9719                71.44                   7.4         9.08   \n2              0.9847                64.85                  10.0        11.19   \n3              0.7876                93.54                   3.1         5.33   \n4              0.4215                81.63                   5.6         8.67   \n...               ...                  ...                   ...          ...   \n2610           0.8441                46.71                  12.8        15.37   \n2611          -0.6065                68.60                   8.5        10.80   \n2612          -0.3187                94.56                   2.7         5.75   \n2613           0.9307                62.41                  10.9        13.17   \n2614          -0.9630                65.25                   9.8        12.98   \n\n      smog_index   ari  \n0           13.3  12.0  \n1           10.3   7.6  \n2           11.9  11.0  \n3            5.7   3.1  \n4            9.5   6.8  \n...          ...   ...  \n2610        15.7  16.2  \n2611        11.7  10.8  \n2612         6.7   4.5  \n2613        13.0  14.1  \n2614        13.0  13.4  \n\n[2615 rows x 28 columns]",
      "text/html": "<div>\n<style scoped>\n    .dataframe tbody tr th:only-of-type {\n        vertical-align: middle;\n    }\n\n    .dataframe tbody tr th {\n        vertical-align: top;\n    }\n\n    .dataframe thead th {\n        text-align: right;\n    }\n</style>\n<table border=\"1\" class=\"dataframe\">\n  <thead>\n    <tr style=\"text-align: right;\">\n      <th></th>\n      <th>index</th>\n      <th>ID</th>\n      <th>topic</th>\n      <th>question</th>\n      <th>answer</th>\n      <th>upvotes</th>\n      <th>views</th>\n      <th>upvotes_scaled</th>\n      <th>views_scaled</th>\n      <th>weighted_engagement</th>\n      <th>...</th>\n      <th>sentiment_polarity_answer</th>\n      <th>sentiment_subjectivity_answer</th>\n      <th>sentiment_polarity_question</th>\n      <th>sentiment_subjectivity_question</th>\n      <th>vader_sentiment</th>\n      <th>flesch_reading_ease</th>\n      <th>flesch_kincaid_grade</th>\n      <th>gunning_fog</th>\n      <th>smog_index</th>\n      <th>ari</th>\n    </tr>\n  </thead>\n  <tbody>\n    <tr>\n      <th>0</th>\n      <td>1</td>\n      <td>0</td>\n      <td>depression</td>\n      <td>Do I have too many issues for counseling? I ha...</td>\n      <td>I've never heard of someone having \"too many i...</td>\n      <td>3</td>\n      <td>386</td>\n      <td>0.166667</td>\n      <td>0.201888</td>\n      <td>0.173711</td>\n      <td>...</td>\n      <td>0.194444</td>\n      <td>0.525926</td>\n      <td>0.314286</td>\n      <td>0.469048</td>\n      <td>-0.9460</td>\n      <td>47.49</td>\n      <td>10.4</td>\n      <td>12.10</td>\n      <td>13.3</td>\n      <td>12.0</td>\n    </tr>\n    <tr>\n      <th>1</th>\n      <td>4</td>\n      <td>0</td>\n      <td>depression</td>\n      <td>Do I have too many issues for counseling? I ha...</td>\n      <td>I just want to acknowledge you for the courage...</td>\n      <td>2</td>\n      <td>256</td>\n      <td>0.083333</td>\n      <td>0.133718</td>\n      <td>0.093410</td>\n      <td>...</td>\n      <td>0.218889</td>\n      <td>0.428889</td>\n      <td>0.314286</td>\n      <td>0.469048</td>\n      <td>0.9719</td>\n      <td>71.44</td>\n      <td>7.4</td>\n      <td>9.08</td>\n      <td>10.3</td>\n      <td>7.6</td>\n    </tr>\n    <tr>\n      <th>2</th>\n      <td>5</td>\n      <td>0</td>\n      <td>depression</td>\n      <td>Do I have too many issues for counseling? I ha...</td>\n      <td>It's not really a question of whether you have...</td>\n      <td>2</td>\n      <td>435</td>\n      <td>0.083333</td>\n      <td>0.227583</td>\n      <td>0.112183</td>\n      <td>...</td>\n      <td>0.282051</td>\n      <td>0.548718</td>\n      <td>0.314286</td>\n      <td>0.469048</td>\n      <td>0.9847</td>\n      <td>64.85</td>\n      <td>10.0</td>\n      <td>11.19</td>\n      <td>11.9</td>\n      <td>11.0</td>\n    </tr>\n    <tr>\n      <th>3</th>\n      <td>6</td>\n      <td>0</td>\n      <td>depression</td>\n      <td>Do I have too many issues for counseling? I ha...</td>\n      <td>There is no such thing as too much. Start wher...</td>\n      <td>2</td>\n      <td>217</td>\n      <td>0.083333</td>\n      <td>0.113267</td>\n      <td>0.089320</td>\n      <td>...</td>\n      <td>0.286508</td>\n      <td>0.467063</td>\n      <td>0.314286</td>\n      <td>0.469048</td>\n      <td>0.7876</td>\n      <td>93.54</td>\n      <td>3.1</td>\n      <td>5.33</td>\n      <td>5.7</td>\n      <td>3.1</td>\n    </tr>\n    <tr>\n      <th>4</th>\n      <td>7</td>\n      <td>0</td>\n      <td>depression</td>\n      <td>Do I have too many issues for counseling? I ha...</td>\n      <td>The most direct answer is no. I would venture ...</td>\n      <td>2</td>\n      <td>1064</td>\n      <td>0.083333</td>\n      <td>0.557420</td>\n      <td>0.178151</td>\n      <td>...</td>\n      <td>0.076786</td>\n      <td>0.373214</td>\n      <td>0.314286</td>\n      <td>0.469048</td>\n      <td>0.4215</td>\n      <td>81.63</td>\n      <td>5.6</td>\n      <td>8.67</td>\n      <td>9.5</td>\n      <td>6.8</td>\n    </tr>\n    <tr>\n      <th>...</th>\n      <td>...</td>\n      <td>...</td>\n      <td>...</td>\n      <td>...</td>\n      <td>...</td>\n      <td>...</td>\n      <td>...</td>\n      <td>...</td>\n      <td>...</td>\n      <td>...</td>\n      <td>...</td>\n      <td>...</td>\n      <td>...</td>\n      <td>...</td>\n      <td>...</td>\n      <td>...</td>\n      <td>...</td>\n      <td>...</td>\n      <td>...</td>\n      <td>...</td>\n      <td>...</td>\n    </tr>\n    <tr>\n      <th>2610</th>\n      <td>2744</td>\n      <td>939</td>\n      <td>counseling-fundamentals</td>\n      <td>Are some clients more difficult than others? W...</td>\n      <td>Although many clients have the capacity to be ...</td>\n      <td>1</td>\n      <td>47</td>\n      <td>0.000000</td>\n      <td>0.024122</td>\n      <td>0.004824</td>\n      <td>...</td>\n      <td>0.265000</td>\n      <td>0.530000</td>\n      <td>0.000000</td>\n      <td>0.750000</td>\n      <td>0.8441</td>\n      <td>46.71</td>\n      <td>12.8</td>\n      <td>15.37</td>\n      <td>15.7</td>\n      <td>16.2</td>\n    </tr>\n    <tr>\n      <th>2611</th>\n      <td>2745</td>\n      <td>939</td>\n      <td>counseling-fundamentals</td>\n      <td>Are some clients more difficult than others? W...</td>\n      <td>I usually don't label a client as \"difficult\" ...</td>\n      <td>1</td>\n      <td>22</td>\n      <td>0.000000</td>\n      <td>0.011012</td>\n      <td>0.002202</td>\n      <td>...</td>\n      <td>-0.050430</td>\n      <td>0.649432</td>\n      <td>0.000000</td>\n      <td>0.750000</td>\n      <td>-0.6065</td>\n      <td>68.60</td>\n      <td>8.5</td>\n      <td>10.80</td>\n      <td>11.7</td>\n      <td>10.8</td>\n    </tr>\n    <tr>\n      <th>2612</th>\n      <td>2746</td>\n      <td>939</td>\n      <td>counseling-fundamentals</td>\n      <td>Are some clients more difficult than others? W...</td>\n      <td>Dang right!  :)Heh heh, and correct me if I'm ...</td>\n      <td>1</td>\n      <td>23</td>\n      <td>0.000000</td>\n      <td>0.011536</td>\n      <td>0.002307</td>\n      <td>...</td>\n      <td>0.267857</td>\n      <td>0.760119</td>\n      <td>0.000000</td>\n      <td>0.750000</td>\n      <td>-0.3187</td>\n      <td>94.56</td>\n      <td>2.7</td>\n      <td>5.75</td>\n      <td>6.7</td>\n      <td>4.5</td>\n    </tr>\n    <tr>\n      <th>2613</th>\n      <td>2747</td>\n      <td>939</td>\n      <td>counseling-fundamentals</td>\n      <td>Are some clients more difficult than others? W...</td>\n      <td>Yes, just like some relationships outside of o...</td>\n      <td>1</td>\n      <td>41</td>\n      <td>0.000000</td>\n      <td>0.020975</td>\n      <td>0.004195</td>\n      <td>...</td>\n      <td>0.045767</td>\n      <td>0.641723</td>\n      <td>0.000000</td>\n      <td>0.750000</td>\n      <td>0.9307</td>\n      <td>62.41</td>\n      <td>10.9</td>\n      <td>13.17</td>\n      <td>13.0</td>\n      <td>14.1</td>\n    </tr>\n    <tr>\n      <th>2614</th>\n      <td>2748</td>\n      <td>939</td>\n      <td>counseling-fundamentals</td>\n      <td>Are some clients more difficult than others? W...</td>\n      <td>Each counselor will have their own list of \"di...</td>\n      <td>1</td>\n      <td>43</td>\n      <td>0.000000</td>\n      <td>0.022024</td>\n      <td>0.004405</td>\n      <td>...</td>\n      <td>0.044231</td>\n      <td>0.644872</td>\n      <td>0.000000</td>\n      <td>0.750000</td>\n      <td>-0.9630</td>\n      <td>65.25</td>\n      <td>9.8</td>\n      <td>12.98</td>\n      <td>13.0</td>\n      <td>13.4</td>\n    </tr>\n  </tbody>\n</table>\n<p>2615 rows × 28 columns</p>\n</div>"
     },
     "execution_count": 24,
     "metadata": {},
     "output_type": "execute_result"
    }
   ],
   "source": [
    "counsel_df"
   ],
   "metadata": {
    "collapsed": false,
    "ExecuteTime": {
     "end_time": "2023-11-24T15:00:09.292180Z",
     "start_time": "2023-11-24T15:00:09.289064Z"
    }
   },
   "id": "db0f999eb7c6aab6"
  },
  {
   "cell_type": "markdown",
   "source": [
    "The integration of readability assessments, utilizing metrics like the Flesch Reading Ease and the Gunning Fog Index, plays a pivotal role in quantifying the linguistic accessibility of therapists' responses, an element crucial to client comprehension and engagement in an online counseling setting. This analytical step, by methodically evaluating text complexity, aids in understanding the impact of readability on user engagement, underlining the significance of clear and comprehendible communication in fostering effective therapeutic interactions and justifying the selection of these comprehensive and widely recognized readability metrics."
   ],
   "metadata": {
    "collapsed": false
   },
   "id": "58b75d4191681d5d"
  },
  {
   "cell_type": "markdown",
   "source": [
    "## 5. Syntactic Complexity Analysis\n",
    "\n",
    "Applying syntactic complexity analysis to the therapists' responses involves examining the structure of the sentences to determine their complexity. This can include metrics like average sentence length, the use of subordinate clauses, and the variety of sentence structures used. Syntactic complexity can be indicative of the sophistication of the text and may affect readability and user engagement.\n",
    "\n",
    "**Metrics for Syntactic Complexity**\n",
    "1. Average Sentence Length: Measured in words per sentence, it's a basic indicator of complexity.\n",
    "2. Clause Density: The average number of clauses per sentence.\n",
    "3. T-Unit Analysis: A T-unit is a minimal terminable unit, essentially a main clause with all its subordinate clauses. Analyzing the length and number of T-units can indicate complexity.\n",
    "4. Subordination Index: The ratio of subordinate clauses to total clauses.\n",
    "5. Sentence Variety: Different types of sentence structures (simple, compound, complex, compound-complex)."
   ],
   "metadata": {
    "collapsed": false
   },
   "id": "8c2534e501826ff5"
  },
  {
   "cell_type": "markdown",
   "source": [
    "### 5.1 Using NLTK for Syntactic Complexity Analysis\n",
    "Python's NLTK library can be used to analyze some aspects of syntactic complexity. Here’s an example of how you could implement a basic analysis:"
   ],
   "metadata": {
    "collapsed": false
   },
   "id": "53c2550957fa61"
  },
  {
   "cell_type": "code",
   "execution_count": 25,
   "outputs": [],
   "source": [
    "def calculate_syntactic_complexity(text):\n",
    "    sentences = sent_tokenize(text)\n",
    "    total_words = word_tokenize(text)\n",
    "\n",
    "    if not sentences:\n",
    "        return 0, 0\n",
    "\n",
    "    average_sentence_length = len(total_words) / len(sentences)\n",
    "    # Other metrics like clause density, T-unit analysis, subordination index, etc., can be added here\n",
    "    return average_sentence_length, len(sentences)"
   ],
   "metadata": {
    "collapsed": false,
    "ExecuteTime": {
     "end_time": "2023-11-24T16:13:22.523392Z",
     "start_time": "2023-11-24T16:13:22.515999Z"
    }
   },
   "id": "dac29e607e0d66f4"
  },
  {
   "cell_type": "code",
   "execution_count": 26,
   "outputs": [],
   "source": [
    "# Apply the function to each row in the 'answer' column\n",
    "counsel_df[['average_sentence_length', 'sentence_count']] = counsel_df['answer'].apply(lambda x: pd.Series(calculate_syntactic_complexity(x)))"
   ],
   "metadata": {
    "collapsed": false,
    "ExecuteTime": {
     "end_time": "2023-11-24T16:13:52.595663Z",
     "start_time": "2023-11-24T16:13:51.257057Z"
    }
   },
   "id": "45a2fb455dc901f8"
  },
  {
   "cell_type": "code",
   "execution_count": 27,
   "outputs": [
    {
     "data": {
      "text/plain": "      index   ID                    topic  \\\n0         1    0               depression   \n1         4    0               depression   \n2         5    0               depression   \n3         6    0               depression   \n4         7    0               depression   \n...     ...  ...                      ...   \n2610   2744  939  counseling-fundamentals   \n2611   2745  939  counseling-fundamentals   \n2612   2746  939  counseling-fundamentals   \n2613   2747  939  counseling-fundamentals   \n2614   2748  939  counseling-fundamentals   \n\n                                               question  \\\n0     Do I have too many issues for counseling? I ha...   \n1     Do I have too many issues for counseling? I ha...   \n2     Do I have too many issues for counseling? I ha...   \n3     Do I have too many issues for counseling? I ha...   \n4     Do I have too many issues for counseling? I ha...   \n...                                                 ...   \n2610  Are some clients more difficult than others? W...   \n2611  Are some clients more difficult than others? W...   \n2612  Are some clients more difficult than others? W...   \n2613  Are some clients more difficult than others? W...   \n2614  Are some clients more difficult than others? W...   \n\n                                                 answer  upvotes  views  \\\n0     I've never heard of someone having \"too many i...        3    386   \n1     I just want to acknowledge you for the courage...        2    256   \n2     It's not really a question of whether you have...        2    435   \n3     There is no such thing as too much. Start wher...        2    217   \n4     The most direct answer is no. I would venture ...        2   1064   \n...                                                 ...      ...    ...   \n2610  Although many clients have the capacity to be ...        1     47   \n2611  I usually don't label a client as \"difficult\" ...        1     22   \n2612  Dang right!  :)Heh heh, and correct me if I'm ...        1     23   \n2613  Yes, just like some relationships outside of o...        1     41   \n2614  Each counselor will have their own list of \"di...        1     43   \n\n      upvotes_scaled  views_scaled  weighted_engagement  ...  \\\n0           0.166667      0.201888             0.173711  ...   \n1           0.083333      0.133718             0.093410  ...   \n2           0.083333      0.227583             0.112183  ...   \n3           0.083333      0.113267             0.089320  ...   \n4           0.083333      0.557420             0.178151  ...   \n...              ...           ...                  ...  ...   \n2610        0.000000      0.024122             0.004824  ...   \n2611        0.000000      0.011012             0.002202  ...   \n2612        0.000000      0.011536             0.002307  ...   \n2613        0.000000      0.020975             0.004195  ...   \n2614        0.000000      0.022024             0.004405  ...   \n\n     sentiment_subjectivity_answer  sentiment_polarity_question  \\\n0                         0.525926                     0.314286   \n1                         0.428889                     0.314286   \n2                         0.548718                     0.314286   \n3                         0.467063                     0.314286   \n4                         0.373214                     0.314286   \n...                            ...                          ...   \n2610                      0.530000                     0.000000   \n2611                      0.649432                     0.000000   \n2612                      0.760119                     0.000000   \n2613                      0.641723                     0.000000   \n2614                      0.644872                     0.000000   \n\n      sentiment_subjectivity_question  vader_sentiment  flesch_reading_ease  \\\n0                            0.469048          -0.9460                47.49   \n1                            0.469048           0.9719                71.44   \n2                            0.469048           0.9847                64.85   \n3                            0.469048           0.7876                93.54   \n4                            0.469048           0.4215                81.63   \n...                               ...              ...                  ...   \n2610                         0.750000           0.8441                46.71   \n2611                         0.750000          -0.6065                68.60   \n2612                         0.750000          -0.3187                94.56   \n2613                         0.750000           0.9307                62.41   \n2614                         0.750000          -0.9630                65.25   \n\n      flesch_kincaid_grade  gunning_fog  smog_index   ari  \\\n0                     10.4        12.10        13.3  12.0   \n1                      7.4         9.08        10.3   7.6   \n2                     10.0        11.19        11.9  11.0   \n3                      3.1         5.33         5.7   3.1   \n4                      5.6         8.67         9.5   6.8   \n...                    ...          ...         ...   ...   \n2610                  12.8        15.37        15.7  16.2   \n2611                   8.5        10.80        11.7  10.8   \n2612                   2.7         5.75         6.7   4.5   \n2613                  10.9        13.17        13.0  14.1   \n2614                   9.8        12.98        13.0  13.4   \n\n      average_sentence_length  \n0                   17.571429  \n1                   16.846154  \n2                   24.777778  \n3                   13.400000  \n4                   17.125000  \n...                       ...  \n2610                46.000000  \n2611                28.600000  \n2612                23.666667  \n2613                34.142857  \n2614                61.000000  \n\n[2615 rows x 29 columns]",
      "text/html": "<div>\n<style scoped>\n    .dataframe tbody tr th:only-of-type {\n        vertical-align: middle;\n    }\n\n    .dataframe tbody tr th {\n        vertical-align: top;\n    }\n\n    .dataframe thead th {\n        text-align: right;\n    }\n</style>\n<table border=\"1\" class=\"dataframe\">\n  <thead>\n    <tr style=\"text-align: right;\">\n      <th></th>\n      <th>index</th>\n      <th>ID</th>\n      <th>topic</th>\n      <th>question</th>\n      <th>answer</th>\n      <th>upvotes</th>\n      <th>views</th>\n      <th>upvotes_scaled</th>\n      <th>views_scaled</th>\n      <th>weighted_engagement</th>\n      <th>...</th>\n      <th>sentiment_subjectivity_answer</th>\n      <th>sentiment_polarity_question</th>\n      <th>sentiment_subjectivity_question</th>\n      <th>vader_sentiment</th>\n      <th>flesch_reading_ease</th>\n      <th>flesch_kincaid_grade</th>\n      <th>gunning_fog</th>\n      <th>smog_index</th>\n      <th>ari</th>\n      <th>average_sentence_length</th>\n    </tr>\n  </thead>\n  <tbody>\n    <tr>\n      <th>0</th>\n      <td>1</td>\n      <td>0</td>\n      <td>depression</td>\n      <td>Do I have too many issues for counseling? I ha...</td>\n      <td>I've never heard of someone having \"too many i...</td>\n      <td>3</td>\n      <td>386</td>\n      <td>0.166667</td>\n      <td>0.201888</td>\n      <td>0.173711</td>\n      <td>...</td>\n      <td>0.525926</td>\n      <td>0.314286</td>\n      <td>0.469048</td>\n      <td>-0.9460</td>\n      <td>47.49</td>\n      <td>10.4</td>\n      <td>12.10</td>\n      <td>13.3</td>\n      <td>12.0</td>\n      <td>17.571429</td>\n    </tr>\n    <tr>\n      <th>1</th>\n      <td>4</td>\n      <td>0</td>\n      <td>depression</td>\n      <td>Do I have too many issues for counseling? I ha...</td>\n      <td>I just want to acknowledge you for the courage...</td>\n      <td>2</td>\n      <td>256</td>\n      <td>0.083333</td>\n      <td>0.133718</td>\n      <td>0.093410</td>\n      <td>...</td>\n      <td>0.428889</td>\n      <td>0.314286</td>\n      <td>0.469048</td>\n      <td>0.9719</td>\n      <td>71.44</td>\n      <td>7.4</td>\n      <td>9.08</td>\n      <td>10.3</td>\n      <td>7.6</td>\n      <td>16.846154</td>\n    </tr>\n    <tr>\n      <th>2</th>\n      <td>5</td>\n      <td>0</td>\n      <td>depression</td>\n      <td>Do I have too many issues for counseling? I ha...</td>\n      <td>It's not really a question of whether you have...</td>\n      <td>2</td>\n      <td>435</td>\n      <td>0.083333</td>\n      <td>0.227583</td>\n      <td>0.112183</td>\n      <td>...</td>\n      <td>0.548718</td>\n      <td>0.314286</td>\n      <td>0.469048</td>\n      <td>0.9847</td>\n      <td>64.85</td>\n      <td>10.0</td>\n      <td>11.19</td>\n      <td>11.9</td>\n      <td>11.0</td>\n      <td>24.777778</td>\n    </tr>\n    <tr>\n      <th>3</th>\n      <td>6</td>\n      <td>0</td>\n      <td>depression</td>\n      <td>Do I have too many issues for counseling? I ha...</td>\n      <td>There is no such thing as too much. Start wher...</td>\n      <td>2</td>\n      <td>217</td>\n      <td>0.083333</td>\n      <td>0.113267</td>\n      <td>0.089320</td>\n      <td>...</td>\n      <td>0.467063</td>\n      <td>0.314286</td>\n      <td>0.469048</td>\n      <td>0.7876</td>\n      <td>93.54</td>\n      <td>3.1</td>\n      <td>5.33</td>\n      <td>5.7</td>\n      <td>3.1</td>\n      <td>13.400000</td>\n    </tr>\n    <tr>\n      <th>4</th>\n      <td>7</td>\n      <td>0</td>\n      <td>depression</td>\n      <td>Do I have too many issues for counseling? I ha...</td>\n      <td>The most direct answer is no. I would venture ...</td>\n      <td>2</td>\n      <td>1064</td>\n      <td>0.083333</td>\n      <td>0.557420</td>\n      <td>0.178151</td>\n      <td>...</td>\n      <td>0.373214</td>\n      <td>0.314286</td>\n      <td>0.469048</td>\n      <td>0.4215</td>\n      <td>81.63</td>\n      <td>5.6</td>\n      <td>8.67</td>\n      <td>9.5</td>\n      <td>6.8</td>\n      <td>17.125000</td>\n    </tr>\n    <tr>\n      <th>...</th>\n      <td>...</td>\n      <td>...</td>\n      <td>...</td>\n      <td>...</td>\n      <td>...</td>\n      <td>...</td>\n      <td>...</td>\n      <td>...</td>\n      <td>...</td>\n      <td>...</td>\n      <td>...</td>\n      <td>...</td>\n      <td>...</td>\n      <td>...</td>\n      <td>...</td>\n      <td>...</td>\n      <td>...</td>\n      <td>...</td>\n      <td>...</td>\n      <td>...</td>\n      <td>...</td>\n    </tr>\n    <tr>\n      <th>2610</th>\n      <td>2744</td>\n      <td>939</td>\n      <td>counseling-fundamentals</td>\n      <td>Are some clients more difficult than others? W...</td>\n      <td>Although many clients have the capacity to be ...</td>\n      <td>1</td>\n      <td>47</td>\n      <td>0.000000</td>\n      <td>0.024122</td>\n      <td>0.004824</td>\n      <td>...</td>\n      <td>0.530000</td>\n      <td>0.000000</td>\n      <td>0.750000</td>\n      <td>0.8441</td>\n      <td>46.71</td>\n      <td>12.8</td>\n      <td>15.37</td>\n      <td>15.7</td>\n      <td>16.2</td>\n      <td>46.000000</td>\n    </tr>\n    <tr>\n      <th>2611</th>\n      <td>2745</td>\n      <td>939</td>\n      <td>counseling-fundamentals</td>\n      <td>Are some clients more difficult than others? W...</td>\n      <td>I usually don't label a client as \"difficult\" ...</td>\n      <td>1</td>\n      <td>22</td>\n      <td>0.000000</td>\n      <td>0.011012</td>\n      <td>0.002202</td>\n      <td>...</td>\n      <td>0.649432</td>\n      <td>0.000000</td>\n      <td>0.750000</td>\n      <td>-0.6065</td>\n      <td>68.60</td>\n      <td>8.5</td>\n      <td>10.80</td>\n      <td>11.7</td>\n      <td>10.8</td>\n      <td>28.600000</td>\n    </tr>\n    <tr>\n      <th>2612</th>\n      <td>2746</td>\n      <td>939</td>\n      <td>counseling-fundamentals</td>\n      <td>Are some clients more difficult than others? W...</td>\n      <td>Dang right!  :)Heh heh, and correct me if I'm ...</td>\n      <td>1</td>\n      <td>23</td>\n      <td>0.000000</td>\n      <td>0.011536</td>\n      <td>0.002307</td>\n      <td>...</td>\n      <td>0.760119</td>\n      <td>0.000000</td>\n      <td>0.750000</td>\n      <td>-0.3187</td>\n      <td>94.56</td>\n      <td>2.7</td>\n      <td>5.75</td>\n      <td>6.7</td>\n      <td>4.5</td>\n      <td>23.666667</td>\n    </tr>\n    <tr>\n      <th>2613</th>\n      <td>2747</td>\n      <td>939</td>\n      <td>counseling-fundamentals</td>\n      <td>Are some clients more difficult than others? W...</td>\n      <td>Yes, just like some relationships outside of o...</td>\n      <td>1</td>\n      <td>41</td>\n      <td>0.000000</td>\n      <td>0.020975</td>\n      <td>0.004195</td>\n      <td>...</td>\n      <td>0.641723</td>\n      <td>0.000000</td>\n      <td>0.750000</td>\n      <td>0.9307</td>\n      <td>62.41</td>\n      <td>10.9</td>\n      <td>13.17</td>\n      <td>13.0</td>\n      <td>14.1</td>\n      <td>34.142857</td>\n    </tr>\n    <tr>\n      <th>2614</th>\n      <td>2748</td>\n      <td>939</td>\n      <td>counseling-fundamentals</td>\n      <td>Are some clients more difficult than others? W...</td>\n      <td>Each counselor will have their own list of \"di...</td>\n      <td>1</td>\n      <td>43</td>\n      <td>0.000000</td>\n      <td>0.022024</td>\n      <td>0.004405</td>\n      <td>...</td>\n      <td>0.644872</td>\n      <td>0.000000</td>\n      <td>0.750000</td>\n      <td>-0.9630</td>\n      <td>65.25</td>\n      <td>9.8</td>\n      <td>12.98</td>\n      <td>13.0</td>\n      <td>13.4</td>\n      <td>61.000000</td>\n    </tr>\n  </tbody>\n</table>\n<p>2615 rows × 29 columns</p>\n</div>"
     },
     "execution_count": 27,
     "metadata": {},
     "output_type": "execute_result"
    }
   ],
   "source": [
    "counsel_df"
   ],
   "metadata": {
    "collapsed": false,
    "ExecuteTime": {
     "end_time": "2023-11-24T16:13:55.861354Z",
     "start_time": "2023-11-24T16:13:55.826017Z"
    }
   },
   "id": "76388b7fa8b02823"
  },
  {
   "cell_type": "markdown",
   "source": [
    "### 5.2 Clause Density\n",
    "\n",
    "Complex clauses involving subordination arise because a core or non-core dependent is realized as a clausal structure. We distinguish four basic types:\n",
    "- Clausal subjects, divided into ordinary subjects (csubj) and passive subjects (csubjpass).\n",
    "- Clausal complements (objects), divided into those with obligatory control (xcomp) and those without (ccomp).\n",
    "- Clausal adverbial modifiers (advcl).\n",
    "- Clausal adnominal modifiers (acl) (with relative clauses as an important subtype in many languages).\n",
    "- Clausal conjunct (conj), two elements connected by a coordinating conjunction such as, and, or, etc."
   ],
   "metadata": {
    "collapsed": false
   },
   "id": "9936a2aecd2e72eb"
  },
  {
   "cell_type": "code",
   "execution_count": 41,
   "outputs": [],
   "source": [
    "import spacy\n",
    "\n",
    "# Load the spaCy model\n",
    "nlp = spacy.load(\"en_core_web_sm\")\n",
    "\n",
    "def count_clauses(sentence):\n",
    "    doc = nlp(sentence)\n",
    "    # Identifying clauses by looking for specific dependency tags\n",
    "    clause_tags = {'csubj', 'csubjpass', 'conj', 'advcl', 'acl', 'xcomp', 'ccomp'}\n",
    "    clauses = [tok for tok in doc if tok.dep_ in clause_tags]\n",
    "    return len(clauses)"
   ],
   "metadata": {
    "collapsed": false,
    "ExecuteTime": {
     "end_time": "2023-11-24T18:55:54.592977Z",
     "start_time": "2023-11-24T18:55:54.302405Z"
    }
   },
   "id": "59d2f4a2ac1c94d5"
  },
  {
   "cell_type": "code",
   "execution_count": 43,
   "outputs": [],
   "source": [
    "def calculate_clause_density(text):\n",
    "    sentences = [sent.text.strip() for sent in nlp(text).sents]\n",
    "    total_clauses = sum(count_clauses(sentence) for sentence in sentences)\n",
    "    return total_clauses"
   ],
   "metadata": {
    "collapsed": false,
    "ExecuteTime": {
     "end_time": "2023-11-24T18:57:39.119033Z",
     "start_time": "2023-11-24T18:57:39.112632Z"
    }
   },
   "id": "b7c6287c9a5d4590"
  },
  {
   "cell_type": "code",
   "execution_count": 44,
   "outputs": [],
   "source": [
    "# Apply the function to each row in the 'answer' column\n",
    "counsel_df['clause_density'] = counsel_df['answer'].apply(calculate_clause_density)"
   ],
   "metadata": {
    "collapsed": false,
    "ExecuteTime": {
     "end_time": "2023-11-24T19:01:05.562735Z",
     "start_time": "2023-11-24T18:57:42.888120Z"
    }
   },
   "id": "54ff6544f938cac3"
  },
  {
   "cell_type": "code",
   "execution_count": 45,
   "outputs": [
    {
     "data": {
      "text/plain": "      index   ID                    topic  \\\n0         1    0               depression   \n1         4    0               depression   \n2         5    0               depression   \n3         6    0               depression   \n4         7    0               depression   \n...     ...  ...                      ...   \n2610   2744  939  counseling-fundamentals   \n2611   2745  939  counseling-fundamentals   \n2612   2746  939  counseling-fundamentals   \n2613   2747  939  counseling-fundamentals   \n2614   2748  939  counseling-fundamentals   \n\n                                               question  \\\n0     Do I have too many issues for counseling? I ha...   \n1     Do I have too many issues for counseling? I ha...   \n2     Do I have too many issues for counseling? I ha...   \n3     Do I have too many issues for counseling? I ha...   \n4     Do I have too many issues for counseling? I ha...   \n...                                                 ...   \n2610  Are some clients more difficult than others? W...   \n2611  Are some clients more difficult than others? W...   \n2612  Are some clients more difficult than others? W...   \n2613  Are some clients more difficult than others? W...   \n2614  Are some clients more difficult than others? W...   \n\n                                                 answer  upvotes  views  \\\n0     I've never heard of someone having \"too many i...        3    386   \n1     I just want to acknowledge you for the courage...        2    256   \n2     It's not really a question of whether you have...        2    435   \n3     There is no such thing as too much. Start wher...        2    217   \n4     The most direct answer is no. I would venture ...        2   1064   \n...                                                 ...      ...    ...   \n2610  Although many clients have the capacity to be ...        1     47   \n2611  I usually don't label a client as \"difficult\" ...        1     22   \n2612  Dang right!  :)Heh heh, and correct me if I'm ...        1     23   \n2613  Yes, just like some relationships outside of o...        1     41   \n2614  Each counselor will have their own list of \"di...        1     43   \n\n      upvotes_scaled  views_scaled  weighted_engagement  ...  \\\n0           0.166667      0.201888             0.173711  ...   \n1           0.083333      0.133718             0.093410  ...   \n2           0.083333      0.227583             0.112183  ...   \n3           0.083333      0.113267             0.089320  ...   \n4           0.083333      0.557420             0.178151  ...   \n...              ...           ...                  ...  ...   \n2610        0.000000      0.024122             0.004824  ...   \n2611        0.000000      0.011012             0.002202  ...   \n2612        0.000000      0.011536             0.002307  ...   \n2613        0.000000      0.020975             0.004195  ...   \n2614        0.000000      0.022024             0.004405  ...   \n\n     sentiment_polarity_question  sentiment_subjectivity_question  \\\n0                       0.314286                         0.469048   \n1                       0.314286                         0.469048   \n2                       0.314286                         0.469048   \n3                       0.314286                         0.469048   \n4                       0.314286                         0.469048   \n...                          ...                              ...   \n2610                    0.000000                         0.750000   \n2611                    0.000000                         0.750000   \n2612                    0.000000                         0.750000   \n2613                    0.000000                         0.750000   \n2614                    0.000000                         0.750000   \n\n      vader_sentiment  flesch_reading_ease  flesch_kincaid_grade  gunning_fog  \\\n0             -0.9460                47.49                  10.4        12.10   \n1              0.9719                71.44                   7.4         9.08   \n2              0.9847                64.85                  10.0        11.19   \n3              0.7876                93.54                   3.1         5.33   \n4              0.4215                81.63                   5.6         8.67   \n...               ...                  ...                   ...          ...   \n2610           0.8441                46.71                  12.8        15.37   \n2611          -0.6065                68.60                   8.5        10.80   \n2612          -0.3187                94.56                   2.7         5.75   \n2613           0.9307                62.41                  10.9        13.17   \n2614          -0.9630                65.25                   9.8        12.98   \n\n      smog_index   ari  average_sentence_length  clause_density  \n0           13.3  12.0                17.571429              10  \n1           10.3   7.6                16.846154              25  \n2           11.9  11.0                24.777778              23  \n3            5.7   3.1                13.400000               9  \n4            9.5   6.8                17.125000              14  \n...          ...   ...                      ...             ...  \n2610        15.7  16.2                46.000000              23  \n2611        11.7  10.8                28.600000              34  \n2612         6.7   4.5                23.666667               6  \n2613        13.0  14.1                34.142857              25  \n2614        13.0  13.4                61.000000              10  \n\n[2615 rows x 30 columns]",
      "text/html": "<div>\n<style scoped>\n    .dataframe tbody tr th:only-of-type {\n        vertical-align: middle;\n    }\n\n    .dataframe tbody tr th {\n        vertical-align: top;\n    }\n\n    .dataframe thead th {\n        text-align: right;\n    }\n</style>\n<table border=\"1\" class=\"dataframe\">\n  <thead>\n    <tr style=\"text-align: right;\">\n      <th></th>\n      <th>index</th>\n      <th>ID</th>\n      <th>topic</th>\n      <th>question</th>\n      <th>answer</th>\n      <th>upvotes</th>\n      <th>views</th>\n      <th>upvotes_scaled</th>\n      <th>views_scaled</th>\n      <th>weighted_engagement</th>\n      <th>...</th>\n      <th>sentiment_polarity_question</th>\n      <th>sentiment_subjectivity_question</th>\n      <th>vader_sentiment</th>\n      <th>flesch_reading_ease</th>\n      <th>flesch_kincaid_grade</th>\n      <th>gunning_fog</th>\n      <th>smog_index</th>\n      <th>ari</th>\n      <th>average_sentence_length</th>\n      <th>clause_density</th>\n    </tr>\n  </thead>\n  <tbody>\n    <tr>\n      <th>0</th>\n      <td>1</td>\n      <td>0</td>\n      <td>depression</td>\n      <td>Do I have too many issues for counseling? I ha...</td>\n      <td>I've never heard of someone having \"too many i...</td>\n      <td>3</td>\n      <td>386</td>\n      <td>0.166667</td>\n      <td>0.201888</td>\n      <td>0.173711</td>\n      <td>...</td>\n      <td>0.314286</td>\n      <td>0.469048</td>\n      <td>-0.9460</td>\n      <td>47.49</td>\n      <td>10.4</td>\n      <td>12.10</td>\n      <td>13.3</td>\n      <td>12.0</td>\n      <td>17.571429</td>\n      <td>10</td>\n    </tr>\n    <tr>\n      <th>1</th>\n      <td>4</td>\n      <td>0</td>\n      <td>depression</td>\n      <td>Do I have too many issues for counseling? I ha...</td>\n      <td>I just want to acknowledge you for the courage...</td>\n      <td>2</td>\n      <td>256</td>\n      <td>0.083333</td>\n      <td>0.133718</td>\n      <td>0.093410</td>\n      <td>...</td>\n      <td>0.314286</td>\n      <td>0.469048</td>\n      <td>0.9719</td>\n      <td>71.44</td>\n      <td>7.4</td>\n      <td>9.08</td>\n      <td>10.3</td>\n      <td>7.6</td>\n      <td>16.846154</td>\n      <td>25</td>\n    </tr>\n    <tr>\n      <th>2</th>\n      <td>5</td>\n      <td>0</td>\n      <td>depression</td>\n      <td>Do I have too many issues for counseling? I ha...</td>\n      <td>It's not really a question of whether you have...</td>\n      <td>2</td>\n      <td>435</td>\n      <td>0.083333</td>\n      <td>0.227583</td>\n      <td>0.112183</td>\n      <td>...</td>\n      <td>0.314286</td>\n      <td>0.469048</td>\n      <td>0.9847</td>\n      <td>64.85</td>\n      <td>10.0</td>\n      <td>11.19</td>\n      <td>11.9</td>\n      <td>11.0</td>\n      <td>24.777778</td>\n      <td>23</td>\n    </tr>\n    <tr>\n      <th>3</th>\n      <td>6</td>\n      <td>0</td>\n      <td>depression</td>\n      <td>Do I have too many issues for counseling? I ha...</td>\n      <td>There is no such thing as too much. Start wher...</td>\n      <td>2</td>\n      <td>217</td>\n      <td>0.083333</td>\n      <td>0.113267</td>\n      <td>0.089320</td>\n      <td>...</td>\n      <td>0.314286</td>\n      <td>0.469048</td>\n      <td>0.7876</td>\n      <td>93.54</td>\n      <td>3.1</td>\n      <td>5.33</td>\n      <td>5.7</td>\n      <td>3.1</td>\n      <td>13.400000</td>\n      <td>9</td>\n    </tr>\n    <tr>\n      <th>4</th>\n      <td>7</td>\n      <td>0</td>\n      <td>depression</td>\n      <td>Do I have too many issues for counseling? I ha...</td>\n      <td>The most direct answer is no. I would venture ...</td>\n      <td>2</td>\n      <td>1064</td>\n      <td>0.083333</td>\n      <td>0.557420</td>\n      <td>0.178151</td>\n      <td>...</td>\n      <td>0.314286</td>\n      <td>0.469048</td>\n      <td>0.4215</td>\n      <td>81.63</td>\n      <td>5.6</td>\n      <td>8.67</td>\n      <td>9.5</td>\n      <td>6.8</td>\n      <td>17.125000</td>\n      <td>14</td>\n    </tr>\n    <tr>\n      <th>...</th>\n      <td>...</td>\n      <td>...</td>\n      <td>...</td>\n      <td>...</td>\n      <td>...</td>\n      <td>...</td>\n      <td>...</td>\n      <td>...</td>\n      <td>...</td>\n      <td>...</td>\n      <td>...</td>\n      <td>...</td>\n      <td>...</td>\n      <td>...</td>\n      <td>...</td>\n      <td>...</td>\n      <td>...</td>\n      <td>...</td>\n      <td>...</td>\n      <td>...</td>\n      <td>...</td>\n    </tr>\n    <tr>\n      <th>2610</th>\n      <td>2744</td>\n      <td>939</td>\n      <td>counseling-fundamentals</td>\n      <td>Are some clients more difficult than others? W...</td>\n      <td>Although many clients have the capacity to be ...</td>\n      <td>1</td>\n      <td>47</td>\n      <td>0.000000</td>\n      <td>0.024122</td>\n      <td>0.004824</td>\n      <td>...</td>\n      <td>0.000000</td>\n      <td>0.750000</td>\n      <td>0.8441</td>\n      <td>46.71</td>\n      <td>12.8</td>\n      <td>15.37</td>\n      <td>15.7</td>\n      <td>16.2</td>\n      <td>46.000000</td>\n      <td>23</td>\n    </tr>\n    <tr>\n      <th>2611</th>\n      <td>2745</td>\n      <td>939</td>\n      <td>counseling-fundamentals</td>\n      <td>Are some clients more difficult than others? W...</td>\n      <td>I usually don't label a client as \"difficult\" ...</td>\n      <td>1</td>\n      <td>22</td>\n      <td>0.000000</td>\n      <td>0.011012</td>\n      <td>0.002202</td>\n      <td>...</td>\n      <td>0.000000</td>\n      <td>0.750000</td>\n      <td>-0.6065</td>\n      <td>68.60</td>\n      <td>8.5</td>\n      <td>10.80</td>\n      <td>11.7</td>\n      <td>10.8</td>\n      <td>28.600000</td>\n      <td>34</td>\n    </tr>\n    <tr>\n      <th>2612</th>\n      <td>2746</td>\n      <td>939</td>\n      <td>counseling-fundamentals</td>\n      <td>Are some clients more difficult than others? W...</td>\n      <td>Dang right!  :)Heh heh, and correct me if I'm ...</td>\n      <td>1</td>\n      <td>23</td>\n      <td>0.000000</td>\n      <td>0.011536</td>\n      <td>0.002307</td>\n      <td>...</td>\n      <td>0.000000</td>\n      <td>0.750000</td>\n      <td>-0.3187</td>\n      <td>94.56</td>\n      <td>2.7</td>\n      <td>5.75</td>\n      <td>6.7</td>\n      <td>4.5</td>\n      <td>23.666667</td>\n      <td>6</td>\n    </tr>\n    <tr>\n      <th>2613</th>\n      <td>2747</td>\n      <td>939</td>\n      <td>counseling-fundamentals</td>\n      <td>Are some clients more difficult than others? W...</td>\n      <td>Yes, just like some relationships outside of o...</td>\n      <td>1</td>\n      <td>41</td>\n      <td>0.000000</td>\n      <td>0.020975</td>\n      <td>0.004195</td>\n      <td>...</td>\n      <td>0.000000</td>\n      <td>0.750000</td>\n      <td>0.9307</td>\n      <td>62.41</td>\n      <td>10.9</td>\n      <td>13.17</td>\n      <td>13.0</td>\n      <td>14.1</td>\n      <td>34.142857</td>\n      <td>25</td>\n    </tr>\n    <tr>\n      <th>2614</th>\n      <td>2748</td>\n      <td>939</td>\n      <td>counseling-fundamentals</td>\n      <td>Are some clients more difficult than others? W...</td>\n      <td>Each counselor will have their own list of \"di...</td>\n      <td>1</td>\n      <td>43</td>\n      <td>0.000000</td>\n      <td>0.022024</td>\n      <td>0.004405</td>\n      <td>...</td>\n      <td>0.000000</td>\n      <td>0.750000</td>\n      <td>-0.9630</td>\n      <td>65.25</td>\n      <td>9.8</td>\n      <td>12.98</td>\n      <td>13.0</td>\n      <td>13.4</td>\n      <td>61.000000</td>\n      <td>10</td>\n    </tr>\n  </tbody>\n</table>\n<p>2615 rows × 30 columns</p>\n</div>"
     },
     "execution_count": 45,
     "metadata": {},
     "output_type": "execute_result"
    }
   ],
   "source": [
    "counsel_df"
   ],
   "metadata": {
    "collapsed": false,
    "ExecuteTime": {
     "end_time": "2023-11-24T19:01:40.650832Z",
     "start_time": "2023-11-24T19:01:40.628148Z"
    }
   },
   "id": "e6a44ac805da5fb"
  },
  {
   "cell_type": "markdown",
   "source": [
    "Extracting syntactic features such as average sentence length and clause density, encompassing diverse elements like clausal subjects (csubj, csubjpass), clausal complements (xcomp, ccomp), adverbial (advcl), adnominal modifiers (acl), and conjuncts (conj), is crucial for understanding the structural intricacies of therapists' responses in online counseling. These metrics provide a detailed portrayal of linguistic complexity, revealing the depth and sophistication of sentence constructions used. By analyzing these syntactic elements, the study can elucidate the relationship between the complexity of language and user engagement, thereby underpinning the hypothesis that certain syntactic structures may either facilitate or impede client comprehension and connection in a therapeutic setting. This analytical approach is chosen for its capacity to offer a nuanced understanding of how therapists' communicative styles - reflected through their syntactic choices - potentially influence the effectiveness and accessibility of their online counseling interventions."
   ],
   "metadata": {
    "collapsed": false
   },
   "id": "80e5eed5929a7101"
  },
  {
   "cell_type": "markdown",
   "source": [
    "### 5.3 T-Unit Analysis\n",
    "A T-unit is a minimal terminable unit, essentially a main clause with all its subordinate clauses. Analyzing the length and number of T-units can indicate complexity.\n"
   ],
   "metadata": {
    "collapsed": false
   },
   "id": "8506c5f057d9d7ca"
  },
  {
   "cell_type": "code",
   "execution_count": 46,
   "outputs": [],
   "source": [
    "def count_t_units(text):\n",
    "    doc = nlp(text)\n",
    "    t_units = 0\n",
    "    for sent in doc.sents:\n",
    "        main_clauses = [tok for tok in sent if tok.head == tok and tok.dep_ != 'conj']\n",
    "        t_units += len(main_clauses)\n",
    "    return t_units"
   ],
   "metadata": {
    "collapsed": false,
    "ExecuteTime": {
     "end_time": "2023-11-24T19:08:56.027332Z",
     "start_time": "2023-11-24T19:08:56.016940Z"
    }
   },
   "id": "4b20950c939c093e"
  },
  {
   "cell_type": "code",
   "execution_count": 50,
   "outputs": [],
   "source": [
    "def calculate_t_unit_complexity(text):\n",
    "    sentences = list(nlp(text).sents)\n",
    "    total_t_units = sum(count_t_units(sent.text) for sent in sentences)\n",
    "    return total_t_units"
   ],
   "metadata": {
    "collapsed": false,
    "ExecuteTime": {
     "end_time": "2023-11-24T19:14:29.176633Z",
     "start_time": "2023-11-24T19:14:29.158888Z"
    }
   },
   "id": "168a5d54014c347a"
  },
  {
   "cell_type": "code",
   "execution_count": 51,
   "outputs": [],
   "source": [
    "# Apply the function to each row in the 'answer' column\n",
    "counsel_df['t_unit_complexity'] = counsel_df['answer'].apply(calculate_t_unit_complexity)"
   ],
   "metadata": {
    "collapsed": false,
    "ExecuteTime": {
     "end_time": "2023-11-24T19:17:55.647272Z",
     "start_time": "2023-11-24T19:14:30.109071Z"
    }
   },
   "id": "761260c03ec4111f"
  },
  {
   "cell_type": "code",
   "execution_count": 52,
   "outputs": [
    {
     "data": {
      "text/plain": "      index   ID                    topic  \\\n0         1    0               depression   \n1         4    0               depression   \n2         5    0               depression   \n3         6    0               depression   \n4         7    0               depression   \n...     ...  ...                      ...   \n2610   2744  939  counseling-fundamentals   \n2611   2745  939  counseling-fundamentals   \n2612   2746  939  counseling-fundamentals   \n2613   2747  939  counseling-fundamentals   \n2614   2748  939  counseling-fundamentals   \n\n                                               question  \\\n0     Do I have too many issues for counseling? I ha...   \n1     Do I have too many issues for counseling? I ha...   \n2     Do I have too many issues for counseling? I ha...   \n3     Do I have too many issues for counseling? I ha...   \n4     Do I have too many issues for counseling? I ha...   \n...                                                 ...   \n2610  Are some clients more difficult than others? W...   \n2611  Are some clients more difficult than others? W...   \n2612  Are some clients more difficult than others? W...   \n2613  Are some clients more difficult than others? W...   \n2614  Are some clients more difficult than others? W...   \n\n                                                 answer  upvotes  views  \\\n0     I've never heard of someone having \"too many i...        3    386   \n1     I just want to acknowledge you for the courage...        2    256   \n2     It's not really a question of whether you have...        2    435   \n3     There is no such thing as too much. Start wher...        2    217   \n4     The most direct answer is no. I would venture ...        2   1064   \n...                                                 ...      ...    ...   \n2610  Although many clients have the capacity to be ...        1     47   \n2611  I usually don't label a client as \"difficult\" ...        1     22   \n2612  Dang right!  :)Heh heh, and correct me if I'm ...        1     23   \n2613  Yes, just like some relationships outside of o...        1     41   \n2614  Each counselor will have their own list of \"di...        1     43   \n\n      upvotes_scaled  views_scaled  weighted_engagement  ...  \\\n0           0.166667      0.201888             0.173711  ...   \n1           0.083333      0.133718             0.093410  ...   \n2           0.083333      0.227583             0.112183  ...   \n3           0.083333      0.113267             0.089320  ...   \n4           0.083333      0.557420             0.178151  ...   \n...              ...           ...                  ...  ...   \n2610        0.000000      0.024122             0.004824  ...   \n2611        0.000000      0.011012             0.002202  ...   \n2612        0.000000      0.011536             0.002307  ...   \n2613        0.000000      0.020975             0.004195  ...   \n2614        0.000000      0.022024             0.004405  ...   \n\n     sentiment_subjectivity_question  vader_sentiment  flesch_reading_ease  \\\n0                           0.469048          -0.9460                47.49   \n1                           0.469048           0.9719                71.44   \n2                           0.469048           0.9847                64.85   \n3                           0.469048           0.7876                93.54   \n4                           0.469048           0.4215                81.63   \n...                              ...              ...                  ...   \n2610                        0.750000           0.8441                46.71   \n2611                        0.750000          -0.6065                68.60   \n2612                        0.750000          -0.3187                94.56   \n2613                        0.750000           0.9307                62.41   \n2614                        0.750000          -0.9630                65.25   \n\n      flesch_kincaid_grade  gunning_fog  smog_index   ari  \\\n0                     10.4        12.10        13.3  12.0   \n1                      7.4         9.08        10.3   7.6   \n2                     10.0        11.19        11.9  11.0   \n3                      3.1         5.33         5.7   3.1   \n4                      5.6         8.67         9.5   6.8   \n...                    ...          ...         ...   ...   \n2610                  12.8        15.37        15.7  16.2   \n2611                   8.5        10.80        11.7  10.8   \n2612                   2.7         5.75         6.7   4.5   \n2613                  10.9        13.17        13.0  14.1   \n2614                   9.8        12.98        13.0  13.4   \n\n      average_sentence_length  clause_density  t_unit_complexity  \n0                   17.571429              10                  7  \n1                   16.846154              25                 13  \n2                   24.777778              23                  9  \n3                   13.400000               9                  5  \n4                   17.125000              14                  8  \n...                       ...             ...                ...  \n2610                46.000000              23                  7  \n2611                28.600000              34                 13  \n2612                23.666667               6                  7  \n2613                34.142857              25                  8  \n2614                61.000000              10                  5  \n\n[2615 rows x 31 columns]",
      "text/html": "<div>\n<style scoped>\n    .dataframe tbody tr th:only-of-type {\n        vertical-align: middle;\n    }\n\n    .dataframe tbody tr th {\n        vertical-align: top;\n    }\n\n    .dataframe thead th {\n        text-align: right;\n    }\n</style>\n<table border=\"1\" class=\"dataframe\">\n  <thead>\n    <tr style=\"text-align: right;\">\n      <th></th>\n      <th>index</th>\n      <th>ID</th>\n      <th>topic</th>\n      <th>question</th>\n      <th>answer</th>\n      <th>upvotes</th>\n      <th>views</th>\n      <th>upvotes_scaled</th>\n      <th>views_scaled</th>\n      <th>weighted_engagement</th>\n      <th>...</th>\n      <th>sentiment_subjectivity_question</th>\n      <th>vader_sentiment</th>\n      <th>flesch_reading_ease</th>\n      <th>flesch_kincaid_grade</th>\n      <th>gunning_fog</th>\n      <th>smog_index</th>\n      <th>ari</th>\n      <th>average_sentence_length</th>\n      <th>clause_density</th>\n      <th>t_unit_complexity</th>\n    </tr>\n  </thead>\n  <tbody>\n    <tr>\n      <th>0</th>\n      <td>1</td>\n      <td>0</td>\n      <td>depression</td>\n      <td>Do I have too many issues for counseling? I ha...</td>\n      <td>I've never heard of someone having \"too many i...</td>\n      <td>3</td>\n      <td>386</td>\n      <td>0.166667</td>\n      <td>0.201888</td>\n      <td>0.173711</td>\n      <td>...</td>\n      <td>0.469048</td>\n      <td>-0.9460</td>\n      <td>47.49</td>\n      <td>10.4</td>\n      <td>12.10</td>\n      <td>13.3</td>\n      <td>12.0</td>\n      <td>17.571429</td>\n      <td>10</td>\n      <td>7</td>\n    </tr>\n    <tr>\n      <th>1</th>\n      <td>4</td>\n      <td>0</td>\n      <td>depression</td>\n      <td>Do I have too many issues for counseling? I ha...</td>\n      <td>I just want to acknowledge you for the courage...</td>\n      <td>2</td>\n      <td>256</td>\n      <td>0.083333</td>\n      <td>0.133718</td>\n      <td>0.093410</td>\n      <td>...</td>\n      <td>0.469048</td>\n      <td>0.9719</td>\n      <td>71.44</td>\n      <td>7.4</td>\n      <td>9.08</td>\n      <td>10.3</td>\n      <td>7.6</td>\n      <td>16.846154</td>\n      <td>25</td>\n      <td>13</td>\n    </tr>\n    <tr>\n      <th>2</th>\n      <td>5</td>\n      <td>0</td>\n      <td>depression</td>\n      <td>Do I have too many issues for counseling? I ha...</td>\n      <td>It's not really a question of whether you have...</td>\n      <td>2</td>\n      <td>435</td>\n      <td>0.083333</td>\n      <td>0.227583</td>\n      <td>0.112183</td>\n      <td>...</td>\n      <td>0.469048</td>\n      <td>0.9847</td>\n      <td>64.85</td>\n      <td>10.0</td>\n      <td>11.19</td>\n      <td>11.9</td>\n      <td>11.0</td>\n      <td>24.777778</td>\n      <td>23</td>\n      <td>9</td>\n    </tr>\n    <tr>\n      <th>3</th>\n      <td>6</td>\n      <td>0</td>\n      <td>depression</td>\n      <td>Do I have too many issues for counseling? I ha...</td>\n      <td>There is no such thing as too much. Start wher...</td>\n      <td>2</td>\n      <td>217</td>\n      <td>0.083333</td>\n      <td>0.113267</td>\n      <td>0.089320</td>\n      <td>...</td>\n      <td>0.469048</td>\n      <td>0.7876</td>\n      <td>93.54</td>\n      <td>3.1</td>\n      <td>5.33</td>\n      <td>5.7</td>\n      <td>3.1</td>\n      <td>13.400000</td>\n      <td>9</td>\n      <td>5</td>\n    </tr>\n    <tr>\n      <th>4</th>\n      <td>7</td>\n      <td>0</td>\n      <td>depression</td>\n      <td>Do I have too many issues for counseling? I ha...</td>\n      <td>The most direct answer is no. I would venture ...</td>\n      <td>2</td>\n      <td>1064</td>\n      <td>0.083333</td>\n      <td>0.557420</td>\n      <td>0.178151</td>\n      <td>...</td>\n      <td>0.469048</td>\n      <td>0.4215</td>\n      <td>81.63</td>\n      <td>5.6</td>\n      <td>8.67</td>\n      <td>9.5</td>\n      <td>6.8</td>\n      <td>17.125000</td>\n      <td>14</td>\n      <td>8</td>\n    </tr>\n    <tr>\n      <th>...</th>\n      <td>...</td>\n      <td>...</td>\n      <td>...</td>\n      <td>...</td>\n      <td>...</td>\n      <td>...</td>\n      <td>...</td>\n      <td>...</td>\n      <td>...</td>\n      <td>...</td>\n      <td>...</td>\n      <td>...</td>\n      <td>...</td>\n      <td>...</td>\n      <td>...</td>\n      <td>...</td>\n      <td>...</td>\n      <td>...</td>\n      <td>...</td>\n      <td>...</td>\n      <td>...</td>\n    </tr>\n    <tr>\n      <th>2610</th>\n      <td>2744</td>\n      <td>939</td>\n      <td>counseling-fundamentals</td>\n      <td>Are some clients more difficult than others? W...</td>\n      <td>Although many clients have the capacity to be ...</td>\n      <td>1</td>\n      <td>47</td>\n      <td>0.000000</td>\n      <td>0.024122</td>\n      <td>0.004824</td>\n      <td>...</td>\n      <td>0.750000</td>\n      <td>0.8441</td>\n      <td>46.71</td>\n      <td>12.8</td>\n      <td>15.37</td>\n      <td>15.7</td>\n      <td>16.2</td>\n      <td>46.000000</td>\n      <td>23</td>\n      <td>7</td>\n    </tr>\n    <tr>\n      <th>2611</th>\n      <td>2745</td>\n      <td>939</td>\n      <td>counseling-fundamentals</td>\n      <td>Are some clients more difficult than others? W...</td>\n      <td>I usually don't label a client as \"difficult\" ...</td>\n      <td>1</td>\n      <td>22</td>\n      <td>0.000000</td>\n      <td>0.011012</td>\n      <td>0.002202</td>\n      <td>...</td>\n      <td>0.750000</td>\n      <td>-0.6065</td>\n      <td>68.60</td>\n      <td>8.5</td>\n      <td>10.80</td>\n      <td>11.7</td>\n      <td>10.8</td>\n      <td>28.600000</td>\n      <td>34</td>\n      <td>13</td>\n    </tr>\n    <tr>\n      <th>2612</th>\n      <td>2746</td>\n      <td>939</td>\n      <td>counseling-fundamentals</td>\n      <td>Are some clients more difficult than others? W...</td>\n      <td>Dang right!  :)Heh heh, and correct me if I'm ...</td>\n      <td>1</td>\n      <td>23</td>\n      <td>0.000000</td>\n      <td>0.011536</td>\n      <td>0.002307</td>\n      <td>...</td>\n      <td>0.750000</td>\n      <td>-0.3187</td>\n      <td>94.56</td>\n      <td>2.7</td>\n      <td>5.75</td>\n      <td>6.7</td>\n      <td>4.5</td>\n      <td>23.666667</td>\n      <td>6</td>\n      <td>7</td>\n    </tr>\n    <tr>\n      <th>2613</th>\n      <td>2747</td>\n      <td>939</td>\n      <td>counseling-fundamentals</td>\n      <td>Are some clients more difficult than others? W...</td>\n      <td>Yes, just like some relationships outside of o...</td>\n      <td>1</td>\n      <td>41</td>\n      <td>0.000000</td>\n      <td>0.020975</td>\n      <td>0.004195</td>\n      <td>...</td>\n      <td>0.750000</td>\n      <td>0.9307</td>\n      <td>62.41</td>\n      <td>10.9</td>\n      <td>13.17</td>\n      <td>13.0</td>\n      <td>14.1</td>\n      <td>34.142857</td>\n      <td>25</td>\n      <td>8</td>\n    </tr>\n    <tr>\n      <th>2614</th>\n      <td>2748</td>\n      <td>939</td>\n      <td>counseling-fundamentals</td>\n      <td>Are some clients more difficult than others? W...</td>\n      <td>Each counselor will have their own list of \"di...</td>\n      <td>1</td>\n      <td>43</td>\n      <td>0.000000</td>\n      <td>0.022024</td>\n      <td>0.004405</td>\n      <td>...</td>\n      <td>0.750000</td>\n      <td>-0.9630</td>\n      <td>65.25</td>\n      <td>9.8</td>\n      <td>12.98</td>\n      <td>13.0</td>\n      <td>13.4</td>\n      <td>61.000000</td>\n      <td>10</td>\n      <td>5</td>\n    </tr>\n  </tbody>\n</table>\n<p>2615 rows × 31 columns</p>\n</div>"
     },
     "execution_count": 52,
     "metadata": {},
     "output_type": "execute_result"
    }
   ],
   "source": [
    "counsel_df"
   ],
   "metadata": {
    "collapsed": false,
    "ExecuteTime": {
     "end_time": "2023-11-24T19:22:31.782649Z",
     "start_time": "2023-11-24T19:22:31.768630Z"
    }
   },
   "id": "405937fb347b167e"
  },
  {
   "cell_type": "markdown",
   "source": [
    "Incorporating T-unit analysis into the study provides a refined measure of syntactic complexity, enabling a deeper understanding of the structural sophistication in therapists' responses within an online counseling context. This analytical focus on T-units, which represent main clauses along with their subordinate structures, is pivotal for evaluating the linguistic intricacy of therapeutic communication, offering insights into how complex sentence constructions might influence client comprehension and engagement in digital therapeutic interactions."
   ],
   "metadata": {
    "collapsed": false
   },
   "id": "c083abf540322e99"
  },
  {
   "cell_type": "markdown",
   "source": [
    "## Additional analysis for future work: \n",
    "Given the context of our analysis we might consider incorporating the following additional linguistic features:\n",
    "\n",
    "1. Pragmatic Markers\n",
    "Speech Acts: Analyze the types of speech acts (e.g., questioning, advising, reassuring) used in the responses, as they can significantly impact the perceived helpfulness or effectiveness of a response.\n",
    "Politeness Strategies: Assess the use of politeness strategies, which can affect the tone and perceived empathy in the responses.\n",
    "2. Discourse Analysis\n",
    "Coherence and Cohesion: Analyze how ideas are connected and flow within the text. This includes the use of transition words, pronoun reference, and thematic progression.\n",
    "Narrative Structure: Investigate the presence of narrative elements, such as storytelling or the use of anecdotes, which can be impactful in therapy.\n",
    "3. Lexical Richness\n",
    "Word Frequency Analysis: Beyond lexical diversity, examine the frequency of specific types of words (e.g., therapeutic jargon, emotion words) that could influence engagement.\n",
    "Semantic Analysis: Explore the semantic fields most commonly used (e.g., emotional, cognitive, health-related) to understand thematic focuses in responses.\n",
    "4. Psycholinguistic Features\n",
    "Emotionally-Charged Language: Analyze the use of language that evokes emotions, as it can play a crucial role in empathy and rapport building.\n",
    "Sensory Language: Assess the use of sensory descriptions, which can make responses more vivid and relatable.\n",
    "5. Linguistic Style Matching\n",
    "Mirroring Client’s Language: Measure the degree to which therapists’ linguistic style (e.g., vocabulary, syntax) matches that of the clients, which can be an indicator of rapport and alignment.\n",
    "6. Nonverbal Communication Indicators\n",
    "Punctuation and Formatting: Assess the use of punctuation and formatting (e.g., ellipses, emoticons, paragraph breaks) for their potential to convey nonverbal cues or emotional tone.\n",
    "7. Topic Modeling\n",
    "Identifying Key Themes: Use algorithms like Latent Dirichlet Allocation (LDA) to identify prevalent topics in the responses, which can help in understanding focus areas in therapy."
   ],
   "metadata": {
    "collapsed": false
   },
   "id": "ef3a2f2698cd9157"
  },
  {
   "cell_type": "code",
   "execution_count": 55,
   "outputs": [
    {
     "data": {
      "text/plain": "       ID                    topic  \\\n0       0               depression   \n1       0               depression   \n2       0               depression   \n3       0               depression   \n4       0               depression   \n...   ...                      ...   \n2610  939  counseling-fundamentals   \n2611  939  counseling-fundamentals   \n2612  939  counseling-fundamentals   \n2613  939  counseling-fundamentals   \n2614  939  counseling-fundamentals   \n\n                                               question  \\\n0     Do I have too many issues for counseling? I ha...   \n1     Do I have too many issues for counseling? I ha...   \n2     Do I have too many issues for counseling? I ha...   \n3     Do I have too many issues for counseling? I ha...   \n4     Do I have too many issues for counseling? I ha...   \n...                                                 ...   \n2610  Are some clients more difficult than others? W...   \n2611  Are some clients more difficult than others? W...   \n2612  Are some clients more difficult than others? W...   \n2613  Are some clients more difficult than others? W...   \n2614  Are some clients more difficult than others? W...   \n\n                                                 answer  upvotes  views  \\\n0     I've never heard of someone having \"too many i...        3    386   \n1     I just want to acknowledge you for the courage...        2    256   \n2     It's not really a question of whether you have...        2    435   \n3     There is no such thing as too much. Start wher...        2    217   \n4     The most direct answer is no. I would venture ...        2   1064   \n...                                                 ...      ...    ...   \n2610  Although many clients have the capacity to be ...        1     47   \n2611  I usually don't label a client as \"difficult\" ...        1     22   \n2612  Dang right!  :)Heh heh, and correct me if I'm ...        1     23   \n2613  Yes, just like some relationships outside of o...        1     41   \n2614  Each counselor will have their own list of \"di...        1     43   \n\n      upvotes_scaled  views_scaled  weighted_engagement engagement  ...  \\\n0           0.166667      0.201888             0.173711       High  ...   \n1           0.083333      0.133718             0.093410       High  ...   \n2           0.083333      0.227583             0.112183       High  ...   \n3           0.083333      0.113267             0.089320       High  ...   \n4           0.083333      0.557420             0.178151       High  ...   \n...              ...           ...                  ...        ...  ...   \n2610        0.000000      0.024122             0.004824        Low  ...   \n2611        0.000000      0.011012             0.002202        Low  ...   \n2612        0.000000      0.011536             0.002307        Low  ...   \n2613        0.000000      0.020975             0.004195        Low  ...   \n2614        0.000000      0.022024             0.004405        Low  ...   \n\n      sentiment_subjectivity_question  vader_sentiment  flesch_reading_ease  \\\n0                            0.469048          -0.9460                47.49   \n1                            0.469048           0.9719                71.44   \n2                            0.469048           0.9847                64.85   \n3                            0.469048           0.7876                93.54   \n4                            0.469048           0.4215                81.63   \n...                               ...              ...                  ...   \n2610                         0.750000           0.8441                46.71   \n2611                         0.750000          -0.6065                68.60   \n2612                         0.750000          -0.3187                94.56   \n2613                         0.750000           0.9307                62.41   \n2614                         0.750000          -0.9630                65.25   \n\n      flesch_kincaid_grade  gunning_fog  smog_index   ari  \\\n0                     10.4        12.10        13.3  12.0   \n1                      7.4         9.08        10.3   7.6   \n2                     10.0        11.19        11.9  11.0   \n3                      3.1         5.33         5.7   3.1   \n4                      5.6         8.67         9.5   6.8   \n...                    ...          ...         ...   ...   \n2610                  12.8        15.37        15.7  16.2   \n2611                   8.5        10.80        11.7  10.8   \n2612                   2.7         5.75         6.7   4.5   \n2613                  10.9        13.17        13.0  14.1   \n2614                   9.8        12.98        13.0  13.4   \n\n      average_sentence_length  clause_density  t_unit_complexity  \n0                   17.571429              10                  7  \n1                   16.846154              25                 13  \n2                   24.777778              23                  9  \n3                   13.400000               9                  5  \n4                   17.125000              14                  8  \n...                       ...             ...                ...  \n2610                46.000000              23                  7  \n2611                28.600000              34                 13  \n2612                23.666667               6                  7  \n2613                34.142857              25                  8  \n2614                61.000000              10                  5  \n\n[2615 rows x 30 columns]",
      "text/html": "<div>\n<style scoped>\n    .dataframe tbody tr th:only-of-type {\n        vertical-align: middle;\n    }\n\n    .dataframe tbody tr th {\n        vertical-align: top;\n    }\n\n    .dataframe thead th {\n        text-align: right;\n    }\n</style>\n<table border=\"1\" class=\"dataframe\">\n  <thead>\n    <tr style=\"text-align: right;\">\n      <th></th>\n      <th>ID</th>\n      <th>topic</th>\n      <th>question</th>\n      <th>answer</th>\n      <th>upvotes</th>\n      <th>views</th>\n      <th>upvotes_scaled</th>\n      <th>views_scaled</th>\n      <th>weighted_engagement</th>\n      <th>engagement</th>\n      <th>...</th>\n      <th>sentiment_subjectivity_question</th>\n      <th>vader_sentiment</th>\n      <th>flesch_reading_ease</th>\n      <th>flesch_kincaid_grade</th>\n      <th>gunning_fog</th>\n      <th>smog_index</th>\n      <th>ari</th>\n      <th>average_sentence_length</th>\n      <th>clause_density</th>\n      <th>t_unit_complexity</th>\n    </tr>\n  </thead>\n  <tbody>\n    <tr>\n      <th>0</th>\n      <td>0</td>\n      <td>depression</td>\n      <td>Do I have too many issues for counseling? I ha...</td>\n      <td>I've never heard of someone having \"too many i...</td>\n      <td>3</td>\n      <td>386</td>\n      <td>0.166667</td>\n      <td>0.201888</td>\n      <td>0.173711</td>\n      <td>High</td>\n      <td>...</td>\n      <td>0.469048</td>\n      <td>-0.9460</td>\n      <td>47.49</td>\n      <td>10.4</td>\n      <td>12.10</td>\n      <td>13.3</td>\n      <td>12.0</td>\n      <td>17.571429</td>\n      <td>10</td>\n      <td>7</td>\n    </tr>\n    <tr>\n      <th>1</th>\n      <td>0</td>\n      <td>depression</td>\n      <td>Do I have too many issues for counseling? I ha...</td>\n      <td>I just want to acknowledge you for the courage...</td>\n      <td>2</td>\n      <td>256</td>\n      <td>0.083333</td>\n      <td>0.133718</td>\n      <td>0.093410</td>\n      <td>High</td>\n      <td>...</td>\n      <td>0.469048</td>\n      <td>0.9719</td>\n      <td>71.44</td>\n      <td>7.4</td>\n      <td>9.08</td>\n      <td>10.3</td>\n      <td>7.6</td>\n      <td>16.846154</td>\n      <td>25</td>\n      <td>13</td>\n    </tr>\n    <tr>\n      <th>2</th>\n      <td>0</td>\n      <td>depression</td>\n      <td>Do I have too many issues for counseling? I ha...</td>\n      <td>It's not really a question of whether you have...</td>\n      <td>2</td>\n      <td>435</td>\n      <td>0.083333</td>\n      <td>0.227583</td>\n      <td>0.112183</td>\n      <td>High</td>\n      <td>...</td>\n      <td>0.469048</td>\n      <td>0.9847</td>\n      <td>64.85</td>\n      <td>10.0</td>\n      <td>11.19</td>\n      <td>11.9</td>\n      <td>11.0</td>\n      <td>24.777778</td>\n      <td>23</td>\n      <td>9</td>\n    </tr>\n    <tr>\n      <th>3</th>\n      <td>0</td>\n      <td>depression</td>\n      <td>Do I have too many issues for counseling? I ha...</td>\n      <td>There is no such thing as too much. Start wher...</td>\n      <td>2</td>\n      <td>217</td>\n      <td>0.083333</td>\n      <td>0.113267</td>\n      <td>0.089320</td>\n      <td>High</td>\n      <td>...</td>\n      <td>0.469048</td>\n      <td>0.7876</td>\n      <td>93.54</td>\n      <td>3.1</td>\n      <td>5.33</td>\n      <td>5.7</td>\n      <td>3.1</td>\n      <td>13.400000</td>\n      <td>9</td>\n      <td>5</td>\n    </tr>\n    <tr>\n      <th>4</th>\n      <td>0</td>\n      <td>depression</td>\n      <td>Do I have too many issues for counseling? I ha...</td>\n      <td>The most direct answer is no. I would venture ...</td>\n      <td>2</td>\n      <td>1064</td>\n      <td>0.083333</td>\n      <td>0.557420</td>\n      <td>0.178151</td>\n      <td>High</td>\n      <td>...</td>\n      <td>0.469048</td>\n      <td>0.4215</td>\n      <td>81.63</td>\n      <td>5.6</td>\n      <td>8.67</td>\n      <td>9.5</td>\n      <td>6.8</td>\n      <td>17.125000</td>\n      <td>14</td>\n      <td>8</td>\n    </tr>\n    <tr>\n      <th>...</th>\n      <td>...</td>\n      <td>...</td>\n      <td>...</td>\n      <td>...</td>\n      <td>...</td>\n      <td>...</td>\n      <td>...</td>\n      <td>...</td>\n      <td>...</td>\n      <td>...</td>\n      <td>...</td>\n      <td>...</td>\n      <td>...</td>\n      <td>...</td>\n      <td>...</td>\n      <td>...</td>\n      <td>...</td>\n      <td>...</td>\n      <td>...</td>\n      <td>...</td>\n      <td>...</td>\n    </tr>\n    <tr>\n      <th>2610</th>\n      <td>939</td>\n      <td>counseling-fundamentals</td>\n      <td>Are some clients more difficult than others? W...</td>\n      <td>Although many clients have the capacity to be ...</td>\n      <td>1</td>\n      <td>47</td>\n      <td>0.000000</td>\n      <td>0.024122</td>\n      <td>0.004824</td>\n      <td>Low</td>\n      <td>...</td>\n      <td>0.750000</td>\n      <td>0.8441</td>\n      <td>46.71</td>\n      <td>12.8</td>\n      <td>15.37</td>\n      <td>15.7</td>\n      <td>16.2</td>\n      <td>46.000000</td>\n      <td>23</td>\n      <td>7</td>\n    </tr>\n    <tr>\n      <th>2611</th>\n      <td>939</td>\n      <td>counseling-fundamentals</td>\n      <td>Are some clients more difficult than others? W...</td>\n      <td>I usually don't label a client as \"difficult\" ...</td>\n      <td>1</td>\n      <td>22</td>\n      <td>0.000000</td>\n      <td>0.011012</td>\n      <td>0.002202</td>\n      <td>Low</td>\n      <td>...</td>\n      <td>0.750000</td>\n      <td>-0.6065</td>\n      <td>68.60</td>\n      <td>8.5</td>\n      <td>10.80</td>\n      <td>11.7</td>\n      <td>10.8</td>\n      <td>28.600000</td>\n      <td>34</td>\n      <td>13</td>\n    </tr>\n    <tr>\n      <th>2612</th>\n      <td>939</td>\n      <td>counseling-fundamentals</td>\n      <td>Are some clients more difficult than others? W...</td>\n      <td>Dang right!  :)Heh heh, and correct me if I'm ...</td>\n      <td>1</td>\n      <td>23</td>\n      <td>0.000000</td>\n      <td>0.011536</td>\n      <td>0.002307</td>\n      <td>Low</td>\n      <td>...</td>\n      <td>0.750000</td>\n      <td>-0.3187</td>\n      <td>94.56</td>\n      <td>2.7</td>\n      <td>5.75</td>\n      <td>6.7</td>\n      <td>4.5</td>\n      <td>23.666667</td>\n      <td>6</td>\n      <td>7</td>\n    </tr>\n    <tr>\n      <th>2613</th>\n      <td>939</td>\n      <td>counseling-fundamentals</td>\n      <td>Are some clients more difficult than others? W...</td>\n      <td>Yes, just like some relationships outside of o...</td>\n      <td>1</td>\n      <td>41</td>\n      <td>0.000000</td>\n      <td>0.020975</td>\n      <td>0.004195</td>\n      <td>Low</td>\n      <td>...</td>\n      <td>0.750000</td>\n      <td>0.9307</td>\n      <td>62.41</td>\n      <td>10.9</td>\n      <td>13.17</td>\n      <td>13.0</td>\n      <td>14.1</td>\n      <td>34.142857</td>\n      <td>25</td>\n      <td>8</td>\n    </tr>\n    <tr>\n      <th>2614</th>\n      <td>939</td>\n      <td>counseling-fundamentals</td>\n      <td>Are some clients more difficult than others? W...</td>\n      <td>Each counselor will have their own list of \"di...</td>\n      <td>1</td>\n      <td>43</td>\n      <td>0.000000</td>\n      <td>0.022024</td>\n      <td>0.004405</td>\n      <td>Low</td>\n      <td>...</td>\n      <td>0.750000</td>\n      <td>-0.9630</td>\n      <td>65.25</td>\n      <td>9.8</td>\n      <td>12.98</td>\n      <td>13.0</td>\n      <td>13.4</td>\n      <td>61.000000</td>\n      <td>10</td>\n      <td>5</td>\n    </tr>\n  </tbody>\n</table>\n<p>2615 rows × 30 columns</p>\n</div>"
     },
     "execution_count": 55,
     "metadata": {},
     "output_type": "execute_result"
    }
   ],
   "source": [
    "counsel_df"
   ],
   "metadata": {
    "collapsed": false,
    "ExecuteTime": {
     "end_time": "2023-11-24T21:23:45.573658Z",
     "start_time": "2023-11-24T21:23:45.558515Z"
    }
   },
   "id": "fff8439c01970a5f"
  },
  {
   "cell_type": "code",
   "execution_count": 56,
   "outputs": [],
   "source": [
    "counsel_df.to_csv('data/counsel_df_lingo.csv', index=False)"
   ],
   "metadata": {
    "collapsed": false,
    "ExecuteTime": {
     "end_time": "2023-11-24T21:23:51.188455Z",
     "start_time": "2023-11-24T21:23:51.111529Z"
    }
   },
   "id": "1f537c09dcc2c469"
  },
  {
   "cell_type": "markdown",
   "source": [
    "Sum up: \n",
    "\n",
    "Text Length Metrics\n",
    "\n",
    "- Character, word, and sentence length: These metrics provide basic insights into the verbosity and structural breadth of the responses.\n",
    "\n",
    "Lexical Diversity\n",
    "\n",
    "- Type-Token Ratio (TTR): Measures the variety of vocabulary used.\n",
    "- Frequency of modal verbs and personal pronouns: These offer insights into the tone and interpersonal dynamics of the responses.\n",
    "\n",
    "Concreteness and Imageability\n",
    "\n",
    "- Average concreteness and imageability scores: These scores, derived from established lexicons, quantify how tangible or visually evocative the language is.\n",
    "\n",
    "Sentiment Analysis\n",
    "\n",
    "- Polarity and subjectivity scores: Assessed using tools like TextBlob or VADER, these scores indicate the emotional tone of the responses.\n",
    "\n",
    "Readability Scores\n",
    "\n",
    "- Metrics such as Flesch Reading Ease and Gunning Fog Index: These provide an understanding of the textual complexity and accessibility.\n",
    "\n",
    "Syntactic Complexity\n",
    "\n",
    "- Average sentence length and clause density: These metrics evaluate the structural complexity of the responses.\n",
    "- T-unit analysis: Offers deeper insights into the complexity of sentence constructions."
   ],
   "metadata": {
    "collapsed": false
   },
   "id": "c28808d717c87fc9"
  },
  {
   "cell_type": "code",
   "execution_count": null,
   "outputs": [],
   "source": [],
   "metadata": {
    "collapsed": false
   },
   "id": "6051c0291df7cbcc"
  }
 ],
 "metadata": {
  "kernelspec": {
   "display_name": "Python 3",
   "language": "python",
   "name": "python3"
  },
  "language_info": {
   "codemirror_mode": {
    "name": "ipython",
    "version": 2
   },
   "file_extension": ".py",
   "mimetype": "text/x-python",
   "name": "python",
   "nbconvert_exporter": "python",
   "pygments_lexer": "ipython2",
   "version": "2.7.6"
  }
 },
 "nbformat": 4,
 "nbformat_minor": 5
}
