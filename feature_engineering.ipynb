{
 "cells": [
  {
   "cell_type": "markdown",
   "source": [
    "# Features Engineering\n",
    "\n",
    "The thesis project focusing on analyzing the linguistic features of therapists' responses in an online forum to predict engagement levels. \n",
    "\n",
    "Let's break down the extraction of the linguistic features from the text answers in the dataset:\n",
    "\n",
    "   - Use of Modal Verbs: Identify and count modal verbs (like could, should, would).\n",
    "   - Concreteness \n",
    "   - Readability Scores: There are various formulas like Flesch Reading Ease, Flesch-Kincaid Grade Level, Gunning Fog Index, etc., that can be used to assess the readability of the text.\n",
    "   - Clauses Density\n",
    "   - T-Unit Analysis"
   ],
   "metadata": {
    "collapsed": false
   },
   "id": "be028bccba5676d7"
  },
  {
   "cell_type": "code",
   "execution_count": 12,
   "id": "initial_id",
   "metadata": {
    "collapsed": true,
    "ExecuteTime": {
     "end_time": "2023-11-26T17:58:59.626236Z",
     "start_time": "2023-11-26T17:58:59.546666Z"
    }
   },
   "outputs": [
    {
     "data": {
      "text/plain": "      level_0  index   ID                    topic  \\\n0           0      1    0               depression   \n1           1      4    0               depression   \n2           2      5    0               depression   \n3           3      6    0               depression   \n4           4      7    0               depression   \n...       ...    ...  ...                      ...   \n2610     2610   2744  939  counseling-fundamentals   \n2611     2611   2745  939  counseling-fundamentals   \n2612     2612   2746  939  counseling-fundamentals   \n2613     2613   2747  939  counseling-fundamentals   \n2614     2614   2748  939  counseling-fundamentals   \n\n                                               question  \\\n0     Do I have too many issues for counseling? I ha...   \n1     Do I have too many issues for counseling? I ha...   \n2     Do I have too many issues for counseling? I ha...   \n3     Do I have too many issues for counseling? I ha...   \n4     Do I have too many issues for counseling? I ha...   \n...                                                 ...   \n2610  Are some clients more difficult than others? W...   \n2611  Are some clients more difficult than others? W...   \n2612  Are some clients more difficult than others? W...   \n2613  Are some clients more difficult than others? W...   \n2614  Are some clients more difficult than others? W...   \n\n                                                 answer  upvotes  views  \\\n0     I've never heard of someone having \"too many i...        3    386   \n1     I just want to acknowledge you for the courage...        2    256   \n2     It's not really a question of whether you have...        2    435   \n3     There is no such thing as too much. Start wher...        2    217   \n4     The most direct answer is no. I would venture ...        2   1064   \n...                                                 ...      ...    ...   \n2610  Although many clients have the capacity to be ...        1     47   \n2611  I usually don't label a client as \"difficult\" ...        1     22   \n2612  Dang right!  :)Heh heh, and correct me if I'm ...        1     23   \n2613  Yes, just like some relationships outside of o...        1     41   \n2614  Each counselor will have their own list of \"di...        1     43   \n\n      upvotes_scaled  views_scaled  weighted_engagement engagement  \n0           0.166667      0.201888             0.173711       High  \n1           0.083333      0.133718             0.093410     Medium  \n2           0.083333      0.227583             0.112183     Medium  \n3           0.083333      0.113267             0.089320     Medium  \n4           0.083333      0.557420             0.178151       High  \n...              ...           ...                  ...        ...  \n2610        0.000000      0.024122             0.004824        Low  \n2611        0.000000      0.011012             0.002202        Low  \n2612        0.000000      0.011536             0.002307        Low  \n2613        0.000000      0.020975             0.004195        Low  \n2614        0.000000      0.022024             0.004405        Low  \n\n[2615 rows x 12 columns]",
      "text/html": "<div>\n<style scoped>\n    .dataframe tbody tr th:only-of-type {\n        vertical-align: middle;\n    }\n\n    .dataframe tbody tr th {\n        vertical-align: top;\n    }\n\n    .dataframe thead th {\n        text-align: right;\n    }\n</style>\n<table border=\"1\" class=\"dataframe\">\n  <thead>\n    <tr style=\"text-align: right;\">\n      <th></th>\n      <th>level_0</th>\n      <th>index</th>\n      <th>ID</th>\n      <th>topic</th>\n      <th>question</th>\n      <th>answer</th>\n      <th>upvotes</th>\n      <th>views</th>\n      <th>upvotes_scaled</th>\n      <th>views_scaled</th>\n      <th>weighted_engagement</th>\n      <th>engagement</th>\n    </tr>\n  </thead>\n  <tbody>\n    <tr>\n      <th>0</th>\n      <td>0</td>\n      <td>1</td>\n      <td>0</td>\n      <td>depression</td>\n      <td>Do I have too many issues for counseling? I ha...</td>\n      <td>I've never heard of someone having \"too many i...</td>\n      <td>3</td>\n      <td>386</td>\n      <td>0.166667</td>\n      <td>0.201888</td>\n      <td>0.173711</td>\n      <td>High</td>\n    </tr>\n    <tr>\n      <th>1</th>\n      <td>1</td>\n      <td>4</td>\n      <td>0</td>\n      <td>depression</td>\n      <td>Do I have too many issues for counseling? I ha...</td>\n      <td>I just want to acknowledge you for the courage...</td>\n      <td>2</td>\n      <td>256</td>\n      <td>0.083333</td>\n      <td>0.133718</td>\n      <td>0.093410</td>\n      <td>Medium</td>\n    </tr>\n    <tr>\n      <th>2</th>\n      <td>2</td>\n      <td>5</td>\n      <td>0</td>\n      <td>depression</td>\n      <td>Do I have too many issues for counseling? I ha...</td>\n      <td>It's not really a question of whether you have...</td>\n      <td>2</td>\n      <td>435</td>\n      <td>0.083333</td>\n      <td>0.227583</td>\n      <td>0.112183</td>\n      <td>Medium</td>\n    </tr>\n    <tr>\n      <th>3</th>\n      <td>3</td>\n      <td>6</td>\n      <td>0</td>\n      <td>depression</td>\n      <td>Do I have too many issues for counseling? I ha...</td>\n      <td>There is no such thing as too much. Start wher...</td>\n      <td>2</td>\n      <td>217</td>\n      <td>0.083333</td>\n      <td>0.113267</td>\n      <td>0.089320</td>\n      <td>Medium</td>\n    </tr>\n    <tr>\n      <th>4</th>\n      <td>4</td>\n      <td>7</td>\n      <td>0</td>\n      <td>depression</td>\n      <td>Do I have too many issues for counseling? I ha...</td>\n      <td>The most direct answer is no. I would venture ...</td>\n      <td>2</td>\n      <td>1064</td>\n      <td>0.083333</td>\n      <td>0.557420</td>\n      <td>0.178151</td>\n      <td>High</td>\n    </tr>\n    <tr>\n      <th>...</th>\n      <td>...</td>\n      <td>...</td>\n      <td>...</td>\n      <td>...</td>\n      <td>...</td>\n      <td>...</td>\n      <td>...</td>\n      <td>...</td>\n      <td>...</td>\n      <td>...</td>\n      <td>...</td>\n      <td>...</td>\n    </tr>\n    <tr>\n      <th>2610</th>\n      <td>2610</td>\n      <td>2744</td>\n      <td>939</td>\n      <td>counseling-fundamentals</td>\n      <td>Are some clients more difficult than others? W...</td>\n      <td>Although many clients have the capacity to be ...</td>\n      <td>1</td>\n      <td>47</td>\n      <td>0.000000</td>\n      <td>0.024122</td>\n      <td>0.004824</td>\n      <td>Low</td>\n    </tr>\n    <tr>\n      <th>2611</th>\n      <td>2611</td>\n      <td>2745</td>\n      <td>939</td>\n      <td>counseling-fundamentals</td>\n      <td>Are some clients more difficult than others? W...</td>\n      <td>I usually don't label a client as \"difficult\" ...</td>\n      <td>1</td>\n      <td>22</td>\n      <td>0.000000</td>\n      <td>0.011012</td>\n      <td>0.002202</td>\n      <td>Low</td>\n    </tr>\n    <tr>\n      <th>2612</th>\n      <td>2612</td>\n      <td>2746</td>\n      <td>939</td>\n      <td>counseling-fundamentals</td>\n      <td>Are some clients more difficult than others? W...</td>\n      <td>Dang right!  :)Heh heh, and correct me if I'm ...</td>\n      <td>1</td>\n      <td>23</td>\n      <td>0.000000</td>\n      <td>0.011536</td>\n      <td>0.002307</td>\n      <td>Low</td>\n    </tr>\n    <tr>\n      <th>2613</th>\n      <td>2613</td>\n      <td>2747</td>\n      <td>939</td>\n      <td>counseling-fundamentals</td>\n      <td>Are some clients more difficult than others? W...</td>\n      <td>Yes, just like some relationships outside of o...</td>\n      <td>1</td>\n      <td>41</td>\n      <td>0.000000</td>\n      <td>0.020975</td>\n      <td>0.004195</td>\n      <td>Low</td>\n    </tr>\n    <tr>\n      <th>2614</th>\n      <td>2614</td>\n      <td>2748</td>\n      <td>939</td>\n      <td>counseling-fundamentals</td>\n      <td>Are some clients more difficult than others? W...</td>\n      <td>Each counselor will have their own list of \"di...</td>\n      <td>1</td>\n      <td>43</td>\n      <td>0.000000</td>\n      <td>0.022024</td>\n      <td>0.004405</td>\n      <td>Low</td>\n    </tr>\n  </tbody>\n</table>\n<p>2615 rows × 12 columns</p>\n</div>"
     },
     "execution_count": 12,
     "metadata": {},
     "output_type": "execute_result"
    }
   ],
   "source": [
    "import pandas as pd\n",
    "\n",
    "# Load the dataset\n",
    "file_path = 'data/counsel_df_processed.csv'\n",
    "counsel_df = pd.read_csv(file_path)\n",
    "counsel_df"
   ]
  },
  {
   "cell_type": "code",
   "execution_count": 13,
   "outputs": [
    {
     "name": "stdout",
     "output_type": "stream",
     "text": [
      "<class 'pandas.core.frame.DataFrame'>\n",
      "RangeIndex: 2615 entries, 0 to 2614\n",
      "Data columns (total 12 columns):\n",
      " #   Column               Non-Null Count  Dtype  \n",
      "---  ------               --------------  -----  \n",
      " 0   level_0              2615 non-null   int64  \n",
      " 1   index                2615 non-null   int64  \n",
      " 2   ID                   2615 non-null   int64  \n",
      " 3   topic                2615 non-null   object \n",
      " 4   question             2615 non-null   object \n",
      " 5   answer               2615 non-null   object \n",
      " 6   upvotes              2615 non-null   int64  \n",
      " 7   views                2615 non-null   int64  \n",
      " 8   upvotes_scaled       2615 non-null   float64\n",
      " 9   views_scaled         2615 non-null   float64\n",
      " 10  weighted_engagement  2615 non-null   float64\n",
      " 11  engagement           2615 non-null   object \n",
      "dtypes: float64(3), int64(5), object(4)\n",
      "memory usage: 245.3+ KB\n"
     ]
    }
   ],
   "source": [
    "counsel_df.info()"
   ],
   "metadata": {
    "collapsed": false,
    "ExecuteTime": {
     "end_time": "2023-11-26T17:59:03.953251Z",
     "start_time": "2023-11-26T17:59:03.938975Z"
    }
   },
   "id": "fb2529ecaa711546"
  },
  {
   "cell_type": "markdown",
   "source": [
    "## Text Normalization\n",
    "\n",
    "The following text normalization processes are most relevant, and will be adopted as needed for each feature extraction process:\n",
    "1. Case Folding: Essential for ensuring uniformity in the text. It's especially important for consistency in word counts and lexical diversity measures.\n",
    "2. Tokenization: Fundamental for almost all types of text analysis. It's necessary for calculating lexical diversity, sentiment analysis, and syntactic complexity.\n",
    "3. Removing Punctuation and Special Characters: This is generally useful, but you might want to retain punctuation for sentiment analysis (as it can convey sentiment) and for readability scores (since punctuation impacts readability).\n",
    "4. Stop Words Removal: This is a bit nuanced. For lexical diversity, you might want to keep stop words as they contribute to the overall diversity of the text. However, for sentiment analysis and readability scores, stop words removal can be considered.\n",
    "5. Spelling Correction: This is optional and depends on the quality of the text. If the dataset has a lot of typos, it may be worth doing, but it's not usually critical for the types of analysis you're performing.\n",
    "6. Lemmatization: Preferable over stemming as it retains the meaning of words. Useful for lexical diversity and sentiment analysis.\n",
    "7. Handling Negations: Important for sentiment analysis to accurately capture the sentiment of the text.\n",
    "8. Identifying Part-of-Speech (POS): Necessary for counting modal verbs, personal pronouns, and understanding sentence structure for syntactic complexity.\n",
    "9. Sentence Segmentation: Crucial for syntactic complexity analysis (like average sentence length) and also useful for certain readability metrics."
   ],
   "metadata": {
    "collapsed": false
   },
   "id": "281d6822792b7ec7"
  },
  {
   "cell_type": "code",
   "execution_count": 14,
   "outputs": [],
   "source": [
    "from nltk.tokenize import sent_tokenize, word_tokenize"
   ],
   "metadata": {
    "collapsed": false,
    "ExecuteTime": {
     "end_time": "2023-11-26T17:59:30.345860Z",
     "start_time": "2023-11-26T17:59:25.614873Z"
    }
   },
   "id": "deddcccfb9df3646"
  },
  {
   "cell_type": "markdown",
   "source": [
    "### Use of Modal Verbs\n",
    "Count the frequency of modal verbs in the text. Modal verbs include words like \"can,\" \"could,\" \"may,\" \"might,\" \"must,\" \"shall,\" \"should,\" \"will,\" \"would.\""
   ],
   "metadata": {
    "collapsed": false
   },
   "id": "e7b15eb2aef6af44"
  },
  {
   "cell_type": "code",
   "execution_count": 15,
   "outputs": [],
   "source": [
    "def count_modal_verbs(text):\n",
    "    modal_verbs = {'can', 'could', 'may', 'might', 'must', 'shall', 'should', 'will', 'would'}\n",
    "    words = word_tokenize(text.lower())\n",
    "    return sum(word in modal_verbs for word in words)"
   ],
   "metadata": {
    "collapsed": false,
    "ExecuteTime": {
     "end_time": "2023-11-26T18:01:03.741537Z",
     "start_time": "2023-11-26T18:01:03.726975Z"
    }
   },
   "id": "2464ab42ca7620a3"
  },
  {
   "cell_type": "code",
   "execution_count": 16,
   "outputs": [],
   "source": [
    "# Apply the functions to each row in the 'answer' column\n",
    "counsel_df['modal_verbs'] = counsel_df['answer'].apply(count_modal_verbs)"
   ],
   "metadata": {
    "collapsed": false,
    "ExecuteTime": {
     "end_time": "2023-11-26T18:02:15.636882Z",
     "start_time": "2023-11-26T18:02:14.515767Z"
    }
   },
   "id": "eaa9d62f55609940"
  },
  {
   "cell_type": "markdown",
   "source": [
    "### Concreteness\n",
    "\n",
    "To implement a solution using an existing concreteness database, I will leverage the concreteness ratings provided by Brysbaert et al. (2014), which is a widely recognized resource in this field. The database offers concreteness ratings for about 40,000 English words, rated on a scale from 1 (most abstract) to 5 (most concrete).\n"
   ],
   "metadata": {
    "collapsed": false
   },
   "id": "320ae92f06d9a7d1"
  },
  {
   "cell_type": "code",
   "execution_count": 18,
   "outputs": [
    {
     "data": {
      "text/plain": "                 word  Bigram  conc_mean  Conc_std  Unknown  Total  \\\n0                   a       0       1.46      1.14        2     30   \n1            aardvark       0       4.68      0.86        0     28   \n2               aback       0       1.65      1.07        4     27   \n3              abacus       0       4.52      1.12        2     29   \n4             abandon       0       2.54      1.45        1     27   \n...               ...     ...        ...       ...      ...    ...   \n39949  zebra crossing       1       4.56      0.75        1     28   \n39950  zero tolerance       1       2.21      1.45        0     29   \n39951        ZIP code       1       3.77      1.59        0     30   \n39952         zoom in       1       3.57      1.40        0     28   \n39953       zoom lens       1       4.81      0.49        1     27   \n\n       Percent_known  SUBTLEX  \n0           0.933333  1041179  \n1           1.000000       21  \n2           0.851852       15  \n3           0.931034       12  \n4           0.962963      413  \n...              ...      ...  \n39949       0.964286        0  \n39950       1.000000        0  \n39951       1.000000        0  \n39952       1.000000        0  \n39953       0.962963        0  \n\n[39954 rows x 8 columns]",
      "text/html": "<div>\n<style scoped>\n    .dataframe tbody tr th:only-of-type {\n        vertical-align: middle;\n    }\n\n    .dataframe tbody tr th {\n        vertical-align: top;\n    }\n\n    .dataframe thead th {\n        text-align: right;\n    }\n</style>\n<table border=\"1\" class=\"dataframe\">\n  <thead>\n    <tr style=\"text-align: right;\">\n      <th></th>\n      <th>word</th>\n      <th>Bigram</th>\n      <th>conc_mean</th>\n      <th>Conc_std</th>\n      <th>Unknown</th>\n      <th>Total</th>\n      <th>Percent_known</th>\n      <th>SUBTLEX</th>\n    </tr>\n  </thead>\n  <tbody>\n    <tr>\n      <th>0</th>\n      <td>a</td>\n      <td>0</td>\n      <td>1.46</td>\n      <td>1.14</td>\n      <td>2</td>\n      <td>30</td>\n      <td>0.933333</td>\n      <td>1041179</td>\n    </tr>\n    <tr>\n      <th>1</th>\n      <td>aardvark</td>\n      <td>0</td>\n      <td>4.68</td>\n      <td>0.86</td>\n      <td>0</td>\n      <td>28</td>\n      <td>1.000000</td>\n      <td>21</td>\n    </tr>\n    <tr>\n      <th>2</th>\n      <td>aback</td>\n      <td>0</td>\n      <td>1.65</td>\n      <td>1.07</td>\n      <td>4</td>\n      <td>27</td>\n      <td>0.851852</td>\n      <td>15</td>\n    </tr>\n    <tr>\n      <th>3</th>\n      <td>abacus</td>\n      <td>0</td>\n      <td>4.52</td>\n      <td>1.12</td>\n      <td>2</td>\n      <td>29</td>\n      <td>0.931034</td>\n      <td>12</td>\n    </tr>\n    <tr>\n      <th>4</th>\n      <td>abandon</td>\n      <td>0</td>\n      <td>2.54</td>\n      <td>1.45</td>\n      <td>1</td>\n      <td>27</td>\n      <td>0.962963</td>\n      <td>413</td>\n    </tr>\n    <tr>\n      <th>...</th>\n      <td>...</td>\n      <td>...</td>\n      <td>...</td>\n      <td>...</td>\n      <td>...</td>\n      <td>...</td>\n      <td>...</td>\n      <td>...</td>\n    </tr>\n    <tr>\n      <th>39949</th>\n      <td>zebra crossing</td>\n      <td>1</td>\n      <td>4.56</td>\n      <td>0.75</td>\n      <td>1</td>\n      <td>28</td>\n      <td>0.964286</td>\n      <td>0</td>\n    </tr>\n    <tr>\n      <th>39950</th>\n      <td>zero tolerance</td>\n      <td>1</td>\n      <td>2.21</td>\n      <td>1.45</td>\n      <td>0</td>\n      <td>29</td>\n      <td>1.000000</td>\n      <td>0</td>\n    </tr>\n    <tr>\n      <th>39951</th>\n      <td>ZIP code</td>\n      <td>1</td>\n      <td>3.77</td>\n      <td>1.59</td>\n      <td>0</td>\n      <td>30</td>\n      <td>1.000000</td>\n      <td>0</td>\n    </tr>\n    <tr>\n      <th>39952</th>\n      <td>zoom in</td>\n      <td>1</td>\n      <td>3.57</td>\n      <td>1.40</td>\n      <td>0</td>\n      <td>28</td>\n      <td>1.000000</td>\n      <td>0</td>\n    </tr>\n    <tr>\n      <th>39953</th>\n      <td>zoom lens</td>\n      <td>1</td>\n      <td>4.81</td>\n      <td>0.49</td>\n      <td>1</td>\n      <td>27</td>\n      <td>0.962963</td>\n      <td>0</td>\n    </tr>\n  </tbody>\n</table>\n<p>39954 rows × 8 columns</p>\n</div>"
     },
     "execution_count": 18,
     "metadata": {},
     "output_type": "execute_result"
    }
   ],
   "source": [
    "# Load the concreteness ratings database provided by Brysbaert et al. (2014)\n",
    "concreteness_df = pd.read_excel('data/concreteness_brysbaert/13428_2013_403_MOESM1_ESM.xlsx')  # Update with the actual path\n",
    "concreteness_dict = pd.Series(concreteness_df.conc_mean.values, index=concreteness_df.word).to_dict()\n",
    "\n",
    "concreteness_df"
   ],
   "metadata": {
    "collapsed": false,
    "ExecuteTime": {
     "end_time": "2023-11-26T18:04:15.723917Z",
     "start_time": "2023-11-26T18:04:12.784041Z"
    }
   },
   "id": "179f120806dd6a68"
  },
  {
   "cell_type": "code",
   "execution_count": 19,
   "outputs": [],
   "source": [
    "def calculate_average_concreteness(text, concreteness_dict):\n",
    "    words = word_tokenize(text.lower())\n",
    "    words = [word for word in words if word.isalpha()]\n",
    "    scores = [concreteness_dict.get(word, None) for word in words]\n",
    "    scores = [score for score in scores if score is not None]\n",
    "    return sum(scores)\n",
    "\n",
    "\n",
    "# Apply the function to each row in the 'answer' column\n",
    "counsel_df['concreteness'] = counsel_df['answer'].apply(lambda x: calculate_average_concreteness(x, concreteness_dict))"
   ],
   "metadata": {
    "collapsed": false,
    "ExecuteTime": {
     "end_time": "2023-11-26T18:04:59.790280Z",
     "start_time": "2023-11-26T18:04:58.662082Z"
    }
   },
   "id": "9038f9111a7becb2"
  },
  {
   "cell_type": "code",
   "execution_count": 20,
   "outputs": [
    {
     "data": {
      "text/plain": "      level_0  index   ID                    topic  \\\n0           0      1    0               depression   \n1           1      4    0               depression   \n2           2      5    0               depression   \n3           3      6    0               depression   \n4           4      7    0               depression   \n...       ...    ...  ...                      ...   \n2610     2610   2744  939  counseling-fundamentals   \n2611     2611   2745  939  counseling-fundamentals   \n2612     2612   2746  939  counseling-fundamentals   \n2613     2613   2747  939  counseling-fundamentals   \n2614     2614   2748  939  counseling-fundamentals   \n\n                                               question  \\\n0     Do I have too many issues for counseling? I ha...   \n1     Do I have too many issues for counseling? I ha...   \n2     Do I have too many issues for counseling? I ha...   \n3     Do I have too many issues for counseling? I ha...   \n4     Do I have too many issues for counseling? I ha...   \n...                                                 ...   \n2610  Are some clients more difficult than others? W...   \n2611  Are some clients more difficult than others? W...   \n2612  Are some clients more difficult than others? W...   \n2613  Are some clients more difficult than others? W...   \n2614  Are some clients more difficult than others? W...   \n\n                                                 answer  upvotes  views  \\\n0     I've never heard of someone having \"too many i...        3    386   \n1     I just want to acknowledge you for the courage...        2    256   \n2     It's not really a question of whether you have...        2    435   \n3     There is no such thing as too much. Start wher...        2    217   \n4     The most direct answer is no. I would venture ...        2   1064   \n...                                                 ...      ...    ...   \n2610  Although many clients have the capacity to be ...        1     47   \n2611  I usually don't label a client as \"difficult\" ...        1     22   \n2612  Dang right!  :)Heh heh, and correct me if I'm ...        1     23   \n2613  Yes, just like some relationships outside of o...        1     41   \n2614  Each counselor will have their own list of \"di...        1     43   \n\n      upvotes_scaled  views_scaled  weighted_engagement engagement  \\\n0           0.166667      0.201888             0.173711       High   \n1           0.083333      0.133718             0.093410     Medium   \n2           0.083333      0.227583             0.112183     Medium   \n3           0.083333      0.113267             0.089320     Medium   \n4           0.083333      0.557420             0.178151       High   \n...              ...           ...                  ...        ...   \n2610        0.000000      0.024122             0.004824        Low   \n2611        0.000000      0.011012             0.002202        Low   \n2612        0.000000      0.011536             0.002307        Low   \n2613        0.000000      0.020975             0.004195        Low   \n2614        0.000000      0.022024             0.004405        Low   \n\n      modal_verbs  concreteness  \n0               5        194.24  \n1              10        437.93  \n2               9        488.62  \n3               2        133.65  \n4               3        265.12  \n...           ...           ...  \n2610            8        352.25  \n2611            7        528.16  \n2612            2        103.12  \n2613            9        422.44  \n2614            3        237.43  \n\n[2615 rows x 14 columns]",
      "text/html": "<div>\n<style scoped>\n    .dataframe tbody tr th:only-of-type {\n        vertical-align: middle;\n    }\n\n    .dataframe tbody tr th {\n        vertical-align: top;\n    }\n\n    .dataframe thead th {\n        text-align: right;\n    }\n</style>\n<table border=\"1\" class=\"dataframe\">\n  <thead>\n    <tr style=\"text-align: right;\">\n      <th></th>\n      <th>level_0</th>\n      <th>index</th>\n      <th>ID</th>\n      <th>topic</th>\n      <th>question</th>\n      <th>answer</th>\n      <th>upvotes</th>\n      <th>views</th>\n      <th>upvotes_scaled</th>\n      <th>views_scaled</th>\n      <th>weighted_engagement</th>\n      <th>engagement</th>\n      <th>modal_verbs</th>\n      <th>concreteness</th>\n    </tr>\n  </thead>\n  <tbody>\n    <tr>\n      <th>0</th>\n      <td>0</td>\n      <td>1</td>\n      <td>0</td>\n      <td>depression</td>\n      <td>Do I have too many issues for counseling? I ha...</td>\n      <td>I've never heard of someone having \"too many i...</td>\n      <td>3</td>\n      <td>386</td>\n      <td>0.166667</td>\n      <td>0.201888</td>\n      <td>0.173711</td>\n      <td>High</td>\n      <td>5</td>\n      <td>194.24</td>\n    </tr>\n    <tr>\n      <th>1</th>\n      <td>1</td>\n      <td>4</td>\n      <td>0</td>\n      <td>depression</td>\n      <td>Do I have too many issues for counseling? I ha...</td>\n      <td>I just want to acknowledge you for the courage...</td>\n      <td>2</td>\n      <td>256</td>\n      <td>0.083333</td>\n      <td>0.133718</td>\n      <td>0.093410</td>\n      <td>Medium</td>\n      <td>10</td>\n      <td>437.93</td>\n    </tr>\n    <tr>\n      <th>2</th>\n      <td>2</td>\n      <td>5</td>\n      <td>0</td>\n      <td>depression</td>\n      <td>Do I have too many issues for counseling? I ha...</td>\n      <td>It's not really a question of whether you have...</td>\n      <td>2</td>\n      <td>435</td>\n      <td>0.083333</td>\n      <td>0.227583</td>\n      <td>0.112183</td>\n      <td>Medium</td>\n      <td>9</td>\n      <td>488.62</td>\n    </tr>\n    <tr>\n      <th>3</th>\n      <td>3</td>\n      <td>6</td>\n      <td>0</td>\n      <td>depression</td>\n      <td>Do I have too many issues for counseling? I ha...</td>\n      <td>There is no such thing as too much. Start wher...</td>\n      <td>2</td>\n      <td>217</td>\n      <td>0.083333</td>\n      <td>0.113267</td>\n      <td>0.089320</td>\n      <td>Medium</td>\n      <td>2</td>\n      <td>133.65</td>\n    </tr>\n    <tr>\n      <th>4</th>\n      <td>4</td>\n      <td>7</td>\n      <td>0</td>\n      <td>depression</td>\n      <td>Do I have too many issues for counseling? I ha...</td>\n      <td>The most direct answer is no. I would venture ...</td>\n      <td>2</td>\n      <td>1064</td>\n      <td>0.083333</td>\n      <td>0.557420</td>\n      <td>0.178151</td>\n      <td>High</td>\n      <td>3</td>\n      <td>265.12</td>\n    </tr>\n    <tr>\n      <th>...</th>\n      <td>...</td>\n      <td>...</td>\n      <td>...</td>\n      <td>...</td>\n      <td>...</td>\n      <td>...</td>\n      <td>...</td>\n      <td>...</td>\n      <td>...</td>\n      <td>...</td>\n      <td>...</td>\n      <td>...</td>\n      <td>...</td>\n      <td>...</td>\n    </tr>\n    <tr>\n      <th>2610</th>\n      <td>2610</td>\n      <td>2744</td>\n      <td>939</td>\n      <td>counseling-fundamentals</td>\n      <td>Are some clients more difficult than others? W...</td>\n      <td>Although many clients have the capacity to be ...</td>\n      <td>1</td>\n      <td>47</td>\n      <td>0.000000</td>\n      <td>0.024122</td>\n      <td>0.004824</td>\n      <td>Low</td>\n      <td>8</td>\n      <td>352.25</td>\n    </tr>\n    <tr>\n      <th>2611</th>\n      <td>2611</td>\n      <td>2745</td>\n      <td>939</td>\n      <td>counseling-fundamentals</td>\n      <td>Are some clients more difficult than others? W...</td>\n      <td>I usually don't label a client as \"difficult\" ...</td>\n      <td>1</td>\n      <td>22</td>\n      <td>0.000000</td>\n      <td>0.011012</td>\n      <td>0.002202</td>\n      <td>Low</td>\n      <td>7</td>\n      <td>528.16</td>\n    </tr>\n    <tr>\n      <th>2612</th>\n      <td>2612</td>\n      <td>2746</td>\n      <td>939</td>\n      <td>counseling-fundamentals</td>\n      <td>Are some clients more difficult than others? W...</td>\n      <td>Dang right!  :)Heh heh, and correct me if I'm ...</td>\n      <td>1</td>\n      <td>23</td>\n      <td>0.000000</td>\n      <td>0.011536</td>\n      <td>0.002307</td>\n      <td>Low</td>\n      <td>2</td>\n      <td>103.12</td>\n    </tr>\n    <tr>\n      <th>2613</th>\n      <td>2613</td>\n      <td>2747</td>\n      <td>939</td>\n      <td>counseling-fundamentals</td>\n      <td>Are some clients more difficult than others? W...</td>\n      <td>Yes, just like some relationships outside of o...</td>\n      <td>1</td>\n      <td>41</td>\n      <td>0.000000</td>\n      <td>0.020975</td>\n      <td>0.004195</td>\n      <td>Low</td>\n      <td>9</td>\n      <td>422.44</td>\n    </tr>\n    <tr>\n      <th>2614</th>\n      <td>2614</td>\n      <td>2748</td>\n      <td>939</td>\n      <td>counseling-fundamentals</td>\n      <td>Are some clients more difficult than others? W...</td>\n      <td>Each counselor will have their own list of \"di...</td>\n      <td>1</td>\n      <td>43</td>\n      <td>0.000000</td>\n      <td>0.022024</td>\n      <td>0.004405</td>\n      <td>Low</td>\n      <td>3</td>\n      <td>237.43</td>\n    </tr>\n  </tbody>\n</table>\n<p>2615 rows × 14 columns</p>\n</div>"
     },
     "execution_count": 20,
     "metadata": {},
     "output_type": "execute_result"
    }
   ],
   "source": [
    "counsel_df"
   ],
   "metadata": {
    "collapsed": false,
    "ExecuteTime": {
     "end_time": "2023-11-26T18:05:01.036261Z",
     "start_time": "2023-11-26T18:05:01.022700Z"
    }
   },
   "id": "44bc64bde76026e7"
  },
  {
   "cell_type": "markdown",
   "source": [
    "The incorporation of concreteness ratings into the analysis harnesses a quantifiable measure of the tangibility and specificity of language used in therapists' responses, a factor potentially pivotal in client engagement and comprehension. By systematically evaluating the concreteness of lexical choices, this step crucially aligns the linguistic attributes of the responses with empirical benchmarks, offering a nuanced understanding of how the degree of abstract versus concrete language correlates with and possibly influences user engagement in an online counseling context.\n",
    "\n",
    "Utilizing Brysbaert et al.'s concreteness ratings, this analysis step methodically quantifies the tangibility of language in therapists' responses, a crucial aspect for enhancing client engagement and understanding in online counseling. This approach, grounded in empirical benchmarks, judiciously evaluates lexical concreteness, thereby providing insights into the impact of abstract versus concrete language on user engagement, and substantiates the choice of using an established database for its reliability and academic rigor."
   ],
   "metadata": {
    "collapsed": false
   },
   "id": "1e624d86044b22b2"
  },
  {
   "cell_type": "markdown",
   "source": [
    "### Readability\n",
    "\n",
    "To assess the readability of the therapists' answers in your dataset, you can use Python's textstat library, which provides several readability metrics. Commonly used metrics include:\n",
    "\n",
    "- Flesch Reading Ease: Higher scores indicate material that is easier to read; lower numbers mark passages that are more difficult to read.\n",
    "- Automated Readability Index (ARI): Like the Flesch-Kincaid Grade Level, this index estimates the grade level needed to comprehend the text."
   ],
   "metadata": {
    "collapsed": false
   },
   "id": "57b537c023940058"
  },
  {
   "cell_type": "code",
   "execution_count": 21,
   "outputs": [],
   "source": [
    "import textstat\n",
    "\n",
    "# Define a function to calculate readability scores\n",
    "def calculate_readability(text):\n",
    "    flesch_reading_ease = textstat.flesch_reading_ease(text)\n",
    "    ari = textstat.automated_readability_index(text)\n",
    "    return flesch_reading_ease, ari"
   ],
   "metadata": {
    "collapsed": false,
    "ExecuteTime": {
     "end_time": "2023-11-26T18:08:43.421770Z",
     "start_time": "2023-11-26T18:08:43.352533Z"
    }
   },
   "id": "9989f9c717fc4cb0"
  },
  {
   "cell_type": "code",
   "execution_count": 22,
   "outputs": [],
   "source": [
    "# Apply the function to each row in the 'answer' column\n",
    "counsel_df[['flesch_reading_ease', 'ari']] = counsel_df['answer'].apply(lambda x: pd.Series(calculate_readability(x)))"
   ],
   "metadata": {
    "collapsed": false,
    "ExecuteTime": {
     "end_time": "2023-11-26T18:08:45.953167Z",
     "start_time": "2023-11-26T18:08:45.184920Z"
    }
   },
   "id": "55c6c448e708b8c1"
  },
  {
   "cell_type": "code",
   "execution_count": null,
   "outputs": [],
   "source": [
    "counsel_df"
   ],
   "metadata": {
    "collapsed": false
   },
   "id": "db0f999eb7c6aab6"
  },
  {
   "cell_type": "markdown",
   "source": [
    "The integration of readability assessments, utilizing metrics like the Flesch Reading Ease and Automated Readability Index (ARI), plays a pivotal role in quantifying the linguistic accessibility of therapists' responses, an element crucial to client comprehension and engagement in an online counseling setting. This analytical step, by methodically evaluating text complexity, aids in understanding the impact of readability on user engagement, underlining the significance of clear and comprehendible communication in fostering effective therapeutic interactions and justifying the selection of these comprehensive and widely recognized readability metrics."
   ],
   "metadata": {
    "collapsed": false
   },
   "id": "58b75d4191681d5d"
  },
  {
   "cell_type": "markdown",
   "source": [
    "### Clause Density\n",
    "\n",
    "Complex clauses involving subordination arise because a core or non-core dependent is realized as a clausal structure. We distinguish four basic types:\n",
    "- Clausal subjects, divided into ordinary subjects (csubj) and passive subjects (csubjpass).\n",
    "- Clausal complements (objects), divided into those with obligatory control (xcomp) and those without (ccomp).\n",
    "- Clausal adverbial modifiers (advcl).\n",
    "- Clausal adnominal modifiers (acl) (with relative clauses as an important subtype in many languages).\n",
    "- Clausal conjunct (conj), two elements connected by a coordinating conjunction such as, and, or, etc."
   ],
   "metadata": {
    "collapsed": false
   },
   "id": "9936a2aecd2e72eb"
  },
  {
   "cell_type": "code",
   "execution_count": 23,
   "outputs": [],
   "source": [
    "import spacy\n",
    "\n",
    "# Load the spaCy model\n",
    "nlp = spacy.load(\"en_core_web_sm\")\n",
    "\n",
    "def count_clauses(sentence):\n",
    "    doc = nlp(sentence)\n",
    "    # Identifying clauses by looking for specific dependency tags\n",
    "    clause_tags = {'csubj', 'csubjpass', 'conj', 'advcl', 'acl', 'xcomp', 'ccomp'}\n",
    "    clauses = [tok for tok in doc if tok.dep_ in clause_tags]\n",
    "    return len(clauses)"
   ],
   "metadata": {
    "collapsed": false,
    "ExecuteTime": {
     "end_time": "2023-11-26T18:10:05.107309Z",
     "start_time": "2023-11-26T18:09:55.316990Z"
    }
   },
   "id": "59d2f4a2ac1c94d5"
  },
  {
   "cell_type": "code",
   "execution_count": 24,
   "outputs": [],
   "source": [
    "def calculate_clause_density(text):\n",
    "    sentences = [sent.text.strip() for sent in nlp(text).sents]\n",
    "    total_clauses = sum(count_clauses(sentence) for sentence in sentences)\n",
    "    return total_clauses"
   ],
   "metadata": {
    "collapsed": false,
    "ExecuteTime": {
     "end_time": "2023-11-26T18:11:59.693308Z",
     "start_time": "2023-11-26T18:11:59.691144Z"
    }
   },
   "id": "b7c6287c9a5d4590"
  },
  {
   "cell_type": "code",
   "execution_count": 25,
   "outputs": [],
   "source": [
    "# Apply the function to each row in the 'answer' column\n",
    "counsel_df['clause_density'] = counsel_df['answer'].apply(calculate_clause_density)"
   ],
   "metadata": {
    "collapsed": false,
    "ExecuteTime": {
     "end_time": "2023-11-26T18:15:29.487339Z",
     "start_time": "2023-11-26T18:12:02.343791Z"
    }
   },
   "id": "54ff6544f938cac3"
  },
  {
   "cell_type": "code",
   "execution_count": 28,
   "outputs": [
    {
     "data": {
      "text/plain": "       ID                    topic  \\\n0       0               depression   \n1       0               depression   \n2       0               depression   \n3       0               depression   \n4       0               depression   \n...   ...                      ...   \n2610  939  counseling-fundamentals   \n2611  939  counseling-fundamentals   \n2612  939  counseling-fundamentals   \n2613  939  counseling-fundamentals   \n2614  939  counseling-fundamentals   \n\n                                               question  \\\n0     Do I have too many issues for counseling? I ha...   \n1     Do I have too many issues for counseling? I ha...   \n2     Do I have too many issues for counseling? I ha...   \n3     Do I have too many issues for counseling? I ha...   \n4     Do I have too many issues for counseling? I ha...   \n...                                                 ...   \n2610  Are some clients more difficult than others? W...   \n2611  Are some clients more difficult than others? W...   \n2612  Are some clients more difficult than others? W...   \n2613  Are some clients more difficult than others? W...   \n2614  Are some clients more difficult than others? W...   \n\n                                                 answer  upvotes  views  \\\n0     I've never heard of someone having \"too many i...        3    386   \n1     I just want to acknowledge you for the courage...        2    256   \n2     It's not really a question of whether you have...        2    435   \n3     There is no such thing as too much. Start wher...        2    217   \n4     The most direct answer is no. I would venture ...        2   1064   \n...                                                 ...      ...    ...   \n2610  Although many clients have the capacity to be ...        1     47   \n2611  I usually don't label a client as \"difficult\" ...        1     22   \n2612  Dang right!  :)Heh heh, and correct me if I'm ...        1     23   \n2613  Yes, just like some relationships outside of o...        1     41   \n2614  Each counselor will have their own list of \"di...        1     43   \n\n      upvotes_scaled  views_scaled  weighted_engagement engagement  \\\n0           0.166667      0.201888             0.173711       High   \n1           0.083333      0.133718             0.093410     Medium   \n2           0.083333      0.227583             0.112183     Medium   \n3           0.083333      0.113267             0.089320     Medium   \n4           0.083333      0.557420             0.178151       High   \n...              ...           ...                  ...        ...   \n2610        0.000000      0.024122             0.004824        Low   \n2611        0.000000      0.011012             0.002202        Low   \n2612        0.000000      0.011536             0.002307        Low   \n2613        0.000000      0.020975             0.004195        Low   \n2614        0.000000      0.022024             0.004405        Low   \n\n      modal_verbs  concreteness  flesch_reading_ease   ari  clause_density  \n0               5        194.24                47.49  12.0              10  \n1              10        437.93                71.44   7.6              25  \n2               9        488.62                64.85  11.0              23  \n3               2        133.65                93.54   3.1               9  \n4               3        265.12                81.63   6.8              14  \n...           ...           ...                  ...   ...             ...  \n2610            8        352.25                46.71  16.2              23  \n2611            7        528.16                68.60  10.8              34  \n2612            2        103.12                94.56   4.5               6  \n2613            9        422.44                62.41  14.1              25  \n2614            3        237.43                65.25  13.4              10  \n\n[2615 rows x 15 columns]",
      "text/html": "<div>\n<style scoped>\n    .dataframe tbody tr th:only-of-type {\n        vertical-align: middle;\n    }\n\n    .dataframe tbody tr th {\n        vertical-align: top;\n    }\n\n    .dataframe thead th {\n        text-align: right;\n    }\n</style>\n<table border=\"1\" class=\"dataframe\">\n  <thead>\n    <tr style=\"text-align: right;\">\n      <th></th>\n      <th>ID</th>\n      <th>topic</th>\n      <th>question</th>\n      <th>answer</th>\n      <th>upvotes</th>\n      <th>views</th>\n      <th>upvotes_scaled</th>\n      <th>views_scaled</th>\n      <th>weighted_engagement</th>\n      <th>engagement</th>\n      <th>modal_verbs</th>\n      <th>concreteness</th>\n      <th>flesch_reading_ease</th>\n      <th>ari</th>\n      <th>clause_density</th>\n    </tr>\n  </thead>\n  <tbody>\n    <tr>\n      <th>0</th>\n      <td>0</td>\n      <td>depression</td>\n      <td>Do I have too many issues for counseling? I ha...</td>\n      <td>I've never heard of someone having \"too many i...</td>\n      <td>3</td>\n      <td>386</td>\n      <td>0.166667</td>\n      <td>0.201888</td>\n      <td>0.173711</td>\n      <td>High</td>\n      <td>5</td>\n      <td>194.24</td>\n      <td>47.49</td>\n      <td>12.0</td>\n      <td>10</td>\n    </tr>\n    <tr>\n      <th>1</th>\n      <td>0</td>\n      <td>depression</td>\n      <td>Do I have too many issues for counseling? I ha...</td>\n      <td>I just want to acknowledge you for the courage...</td>\n      <td>2</td>\n      <td>256</td>\n      <td>0.083333</td>\n      <td>0.133718</td>\n      <td>0.093410</td>\n      <td>Medium</td>\n      <td>10</td>\n      <td>437.93</td>\n      <td>71.44</td>\n      <td>7.6</td>\n      <td>25</td>\n    </tr>\n    <tr>\n      <th>2</th>\n      <td>0</td>\n      <td>depression</td>\n      <td>Do I have too many issues for counseling? I ha...</td>\n      <td>It's not really a question of whether you have...</td>\n      <td>2</td>\n      <td>435</td>\n      <td>0.083333</td>\n      <td>0.227583</td>\n      <td>0.112183</td>\n      <td>Medium</td>\n      <td>9</td>\n      <td>488.62</td>\n      <td>64.85</td>\n      <td>11.0</td>\n      <td>23</td>\n    </tr>\n    <tr>\n      <th>3</th>\n      <td>0</td>\n      <td>depression</td>\n      <td>Do I have too many issues for counseling? I ha...</td>\n      <td>There is no such thing as too much. Start wher...</td>\n      <td>2</td>\n      <td>217</td>\n      <td>0.083333</td>\n      <td>0.113267</td>\n      <td>0.089320</td>\n      <td>Medium</td>\n      <td>2</td>\n      <td>133.65</td>\n      <td>93.54</td>\n      <td>3.1</td>\n      <td>9</td>\n    </tr>\n    <tr>\n      <th>4</th>\n      <td>0</td>\n      <td>depression</td>\n      <td>Do I have too many issues for counseling? I ha...</td>\n      <td>The most direct answer is no. I would venture ...</td>\n      <td>2</td>\n      <td>1064</td>\n      <td>0.083333</td>\n      <td>0.557420</td>\n      <td>0.178151</td>\n      <td>High</td>\n      <td>3</td>\n      <td>265.12</td>\n      <td>81.63</td>\n      <td>6.8</td>\n      <td>14</td>\n    </tr>\n    <tr>\n      <th>...</th>\n      <td>...</td>\n      <td>...</td>\n      <td>...</td>\n      <td>...</td>\n      <td>...</td>\n      <td>...</td>\n      <td>...</td>\n      <td>...</td>\n      <td>...</td>\n      <td>...</td>\n      <td>...</td>\n      <td>...</td>\n      <td>...</td>\n      <td>...</td>\n      <td>...</td>\n    </tr>\n    <tr>\n      <th>2610</th>\n      <td>939</td>\n      <td>counseling-fundamentals</td>\n      <td>Are some clients more difficult than others? W...</td>\n      <td>Although many clients have the capacity to be ...</td>\n      <td>1</td>\n      <td>47</td>\n      <td>0.000000</td>\n      <td>0.024122</td>\n      <td>0.004824</td>\n      <td>Low</td>\n      <td>8</td>\n      <td>352.25</td>\n      <td>46.71</td>\n      <td>16.2</td>\n      <td>23</td>\n    </tr>\n    <tr>\n      <th>2611</th>\n      <td>939</td>\n      <td>counseling-fundamentals</td>\n      <td>Are some clients more difficult than others? W...</td>\n      <td>I usually don't label a client as \"difficult\" ...</td>\n      <td>1</td>\n      <td>22</td>\n      <td>0.000000</td>\n      <td>0.011012</td>\n      <td>0.002202</td>\n      <td>Low</td>\n      <td>7</td>\n      <td>528.16</td>\n      <td>68.60</td>\n      <td>10.8</td>\n      <td>34</td>\n    </tr>\n    <tr>\n      <th>2612</th>\n      <td>939</td>\n      <td>counseling-fundamentals</td>\n      <td>Are some clients more difficult than others? W...</td>\n      <td>Dang right!  :)Heh heh, and correct me if I'm ...</td>\n      <td>1</td>\n      <td>23</td>\n      <td>0.000000</td>\n      <td>0.011536</td>\n      <td>0.002307</td>\n      <td>Low</td>\n      <td>2</td>\n      <td>103.12</td>\n      <td>94.56</td>\n      <td>4.5</td>\n      <td>6</td>\n    </tr>\n    <tr>\n      <th>2613</th>\n      <td>939</td>\n      <td>counseling-fundamentals</td>\n      <td>Are some clients more difficult than others? W...</td>\n      <td>Yes, just like some relationships outside of o...</td>\n      <td>1</td>\n      <td>41</td>\n      <td>0.000000</td>\n      <td>0.020975</td>\n      <td>0.004195</td>\n      <td>Low</td>\n      <td>9</td>\n      <td>422.44</td>\n      <td>62.41</td>\n      <td>14.1</td>\n      <td>25</td>\n    </tr>\n    <tr>\n      <th>2614</th>\n      <td>939</td>\n      <td>counseling-fundamentals</td>\n      <td>Are some clients more difficult than others? W...</td>\n      <td>Each counselor will have their own list of \"di...</td>\n      <td>1</td>\n      <td>43</td>\n      <td>0.000000</td>\n      <td>0.022024</td>\n      <td>0.004405</td>\n      <td>Low</td>\n      <td>3</td>\n      <td>237.43</td>\n      <td>65.25</td>\n      <td>13.4</td>\n      <td>10</td>\n    </tr>\n  </tbody>\n</table>\n<p>2615 rows × 15 columns</p>\n</div>"
     },
     "execution_count": 28,
     "metadata": {},
     "output_type": "execute_result"
    }
   ],
   "source": [
    "counsel_df"
   ],
   "metadata": {
    "collapsed": false,
    "ExecuteTime": {
     "end_time": "2023-11-26T18:23:37.244241Z",
     "start_time": "2023-11-26T18:23:37.229812Z"
    }
   },
   "id": "e6a44ac805da5fb"
  },
  {
   "cell_type": "markdown",
   "source": [
    "Extracting syntactic features such as average sentence length and clause density, encompassing diverse elements like clausal subjects (csubj, csubjpass), clausal complements (xcomp, ccomp), adverbial (advcl), adnominal modifiers (acl), and conjuncts (conj), is crucial for understanding the structural intricacies of therapists' responses in online counseling. These metrics provide a detailed portrayal of linguistic complexity, revealing the depth and sophistication of sentence constructions used. By analyzing these syntactic elements, the study can elucidate the relationship between the complexity of language and user engagement, thereby underpinning the hypothesis that certain syntactic structures may either facilitate or impede client comprehension and connection in a therapeutic setting. This analytical approach is chosen for its capacity to offer a nuanced understanding of how therapists' communicative styles - reflected through their syntactic choices - potentially influence the effectiveness and accessibility of their online counseling interventions."
   ],
   "metadata": {
    "collapsed": false
   },
   "id": "80e5eed5929a7101"
  },
  {
   "cell_type": "markdown",
   "source": [
    "### T-Unit Analysis\n",
    "A T-unit is a minimal terminable unit, essentially a main clause with all its subordinate clauses. Analyzing the length and number of T-units can indicate complexity.\n"
   ],
   "metadata": {
    "collapsed": false
   },
   "id": "8506c5f057d9d7ca"
  },
  {
   "cell_type": "code",
   "execution_count": 29,
   "outputs": [],
   "source": [
    "def count_t_units(text):\n",
    "    doc = nlp(text)\n",
    "    t_units = 0\n",
    "    for sent in doc.sents:\n",
    "        main_clauses = [tok for tok in sent if tok.head == tok and tok.dep_ != 'conj']\n",
    "        t_units += len(main_clauses)\n",
    "    return t_units"
   ],
   "metadata": {
    "collapsed": false,
    "ExecuteTime": {
     "end_time": "2023-11-26T18:24:08.038826Z",
     "start_time": "2023-11-26T18:24:08.035790Z"
    }
   },
   "id": "4b20950c939c093e"
  },
  {
   "cell_type": "code",
   "execution_count": 30,
   "outputs": [],
   "source": [
    "def calculate_t_unit_complexity(text):\n",
    "    sentences = list(nlp(text).sents)\n",
    "    total_t_units = sum(count_t_units(sent.text) for sent in sentences)\n",
    "    return total_t_units"
   ],
   "metadata": {
    "collapsed": false,
    "ExecuteTime": {
     "end_time": "2023-11-26T18:24:08.724733Z",
     "start_time": "2023-11-26T18:24:08.711236Z"
    }
   },
   "id": "168a5d54014c347a"
  },
  {
   "cell_type": "code",
   "execution_count": 31,
   "outputs": [],
   "source": [
    "# Apply the function to each row in the 'answer' column\n",
    "counsel_df['t_unit_complexity'] = counsel_df['answer'].apply(calculate_t_unit_complexity)"
   ],
   "metadata": {
    "collapsed": false,
    "ExecuteTime": {
     "end_time": "2023-11-26T18:27:37.576312Z",
     "start_time": "2023-11-26T18:24:10.927022Z"
    }
   },
   "id": "761260c03ec4111f"
  },
  {
   "cell_type": "code",
   "execution_count": 32,
   "outputs": [
    {
     "data": {
      "text/plain": "       ID                    topic  \\\n0       0               depression   \n1       0               depression   \n2       0               depression   \n3       0               depression   \n4       0               depression   \n...   ...                      ...   \n2610  939  counseling-fundamentals   \n2611  939  counseling-fundamentals   \n2612  939  counseling-fundamentals   \n2613  939  counseling-fundamentals   \n2614  939  counseling-fundamentals   \n\n                                               question  \\\n0     Do I have too many issues for counseling? I ha...   \n1     Do I have too many issues for counseling? I ha...   \n2     Do I have too many issues for counseling? I ha...   \n3     Do I have too many issues for counseling? I ha...   \n4     Do I have too many issues for counseling? I ha...   \n...                                                 ...   \n2610  Are some clients more difficult than others? W...   \n2611  Are some clients more difficult than others? W...   \n2612  Are some clients more difficult than others? W...   \n2613  Are some clients more difficult than others? W...   \n2614  Are some clients more difficult than others? W...   \n\n                                                 answer  upvotes  views  \\\n0     I've never heard of someone having \"too many i...        3    386   \n1     I just want to acknowledge you for the courage...        2    256   \n2     It's not really a question of whether you have...        2    435   \n3     There is no such thing as too much. Start wher...        2    217   \n4     The most direct answer is no. I would venture ...        2   1064   \n...                                                 ...      ...    ...   \n2610  Although many clients have the capacity to be ...        1     47   \n2611  I usually don't label a client as \"difficult\" ...        1     22   \n2612  Dang right!  :)Heh heh, and correct me if I'm ...        1     23   \n2613  Yes, just like some relationships outside of o...        1     41   \n2614  Each counselor will have their own list of \"di...        1     43   \n\n      upvotes_scaled  views_scaled  weighted_engagement engagement  \\\n0           0.166667      0.201888             0.173711       High   \n1           0.083333      0.133718             0.093410     Medium   \n2           0.083333      0.227583             0.112183     Medium   \n3           0.083333      0.113267             0.089320     Medium   \n4           0.083333      0.557420             0.178151       High   \n...              ...           ...                  ...        ...   \n2610        0.000000      0.024122             0.004824        Low   \n2611        0.000000      0.011012             0.002202        Low   \n2612        0.000000      0.011536             0.002307        Low   \n2613        0.000000      0.020975             0.004195        Low   \n2614        0.000000      0.022024             0.004405        Low   \n\n      modal_verbs  concreteness  flesch_reading_ease   ari  clause_density  \\\n0               5        194.24                47.49  12.0              10   \n1              10        437.93                71.44   7.6              25   \n2               9        488.62                64.85  11.0              23   \n3               2        133.65                93.54   3.1               9   \n4               3        265.12                81.63   6.8              14   \n...           ...           ...                  ...   ...             ...   \n2610            8        352.25                46.71  16.2              23   \n2611            7        528.16                68.60  10.8              34   \n2612            2        103.12                94.56   4.5               6   \n2613            9        422.44                62.41  14.1              25   \n2614            3        237.43                65.25  13.4              10   \n\n      t_unit_complexity  \n0                     7  \n1                    13  \n2                     9  \n3                     5  \n4                     8  \n...                 ...  \n2610                  7  \n2611                 13  \n2612                  7  \n2613                  8  \n2614                  5  \n\n[2615 rows x 16 columns]",
      "text/html": "<div>\n<style scoped>\n    .dataframe tbody tr th:only-of-type {\n        vertical-align: middle;\n    }\n\n    .dataframe tbody tr th {\n        vertical-align: top;\n    }\n\n    .dataframe thead th {\n        text-align: right;\n    }\n</style>\n<table border=\"1\" class=\"dataframe\">\n  <thead>\n    <tr style=\"text-align: right;\">\n      <th></th>\n      <th>ID</th>\n      <th>topic</th>\n      <th>question</th>\n      <th>answer</th>\n      <th>upvotes</th>\n      <th>views</th>\n      <th>upvotes_scaled</th>\n      <th>views_scaled</th>\n      <th>weighted_engagement</th>\n      <th>engagement</th>\n      <th>modal_verbs</th>\n      <th>concreteness</th>\n      <th>flesch_reading_ease</th>\n      <th>ari</th>\n      <th>clause_density</th>\n      <th>t_unit_complexity</th>\n    </tr>\n  </thead>\n  <tbody>\n    <tr>\n      <th>0</th>\n      <td>0</td>\n      <td>depression</td>\n      <td>Do I have too many issues for counseling? I ha...</td>\n      <td>I've never heard of someone having \"too many i...</td>\n      <td>3</td>\n      <td>386</td>\n      <td>0.166667</td>\n      <td>0.201888</td>\n      <td>0.173711</td>\n      <td>High</td>\n      <td>5</td>\n      <td>194.24</td>\n      <td>47.49</td>\n      <td>12.0</td>\n      <td>10</td>\n      <td>7</td>\n    </tr>\n    <tr>\n      <th>1</th>\n      <td>0</td>\n      <td>depression</td>\n      <td>Do I have too many issues for counseling? I ha...</td>\n      <td>I just want to acknowledge you for the courage...</td>\n      <td>2</td>\n      <td>256</td>\n      <td>0.083333</td>\n      <td>0.133718</td>\n      <td>0.093410</td>\n      <td>Medium</td>\n      <td>10</td>\n      <td>437.93</td>\n      <td>71.44</td>\n      <td>7.6</td>\n      <td>25</td>\n      <td>13</td>\n    </tr>\n    <tr>\n      <th>2</th>\n      <td>0</td>\n      <td>depression</td>\n      <td>Do I have too many issues for counseling? I ha...</td>\n      <td>It's not really a question of whether you have...</td>\n      <td>2</td>\n      <td>435</td>\n      <td>0.083333</td>\n      <td>0.227583</td>\n      <td>0.112183</td>\n      <td>Medium</td>\n      <td>9</td>\n      <td>488.62</td>\n      <td>64.85</td>\n      <td>11.0</td>\n      <td>23</td>\n      <td>9</td>\n    </tr>\n    <tr>\n      <th>3</th>\n      <td>0</td>\n      <td>depression</td>\n      <td>Do I have too many issues for counseling? I ha...</td>\n      <td>There is no such thing as too much. Start wher...</td>\n      <td>2</td>\n      <td>217</td>\n      <td>0.083333</td>\n      <td>0.113267</td>\n      <td>0.089320</td>\n      <td>Medium</td>\n      <td>2</td>\n      <td>133.65</td>\n      <td>93.54</td>\n      <td>3.1</td>\n      <td>9</td>\n      <td>5</td>\n    </tr>\n    <tr>\n      <th>4</th>\n      <td>0</td>\n      <td>depression</td>\n      <td>Do I have too many issues for counseling? I ha...</td>\n      <td>The most direct answer is no. I would venture ...</td>\n      <td>2</td>\n      <td>1064</td>\n      <td>0.083333</td>\n      <td>0.557420</td>\n      <td>0.178151</td>\n      <td>High</td>\n      <td>3</td>\n      <td>265.12</td>\n      <td>81.63</td>\n      <td>6.8</td>\n      <td>14</td>\n      <td>8</td>\n    </tr>\n    <tr>\n      <th>...</th>\n      <td>...</td>\n      <td>...</td>\n      <td>...</td>\n      <td>...</td>\n      <td>...</td>\n      <td>...</td>\n      <td>...</td>\n      <td>...</td>\n      <td>...</td>\n      <td>...</td>\n      <td>...</td>\n      <td>...</td>\n      <td>...</td>\n      <td>...</td>\n      <td>...</td>\n      <td>...</td>\n    </tr>\n    <tr>\n      <th>2610</th>\n      <td>939</td>\n      <td>counseling-fundamentals</td>\n      <td>Are some clients more difficult than others? W...</td>\n      <td>Although many clients have the capacity to be ...</td>\n      <td>1</td>\n      <td>47</td>\n      <td>0.000000</td>\n      <td>0.024122</td>\n      <td>0.004824</td>\n      <td>Low</td>\n      <td>8</td>\n      <td>352.25</td>\n      <td>46.71</td>\n      <td>16.2</td>\n      <td>23</td>\n      <td>7</td>\n    </tr>\n    <tr>\n      <th>2611</th>\n      <td>939</td>\n      <td>counseling-fundamentals</td>\n      <td>Are some clients more difficult than others? W...</td>\n      <td>I usually don't label a client as \"difficult\" ...</td>\n      <td>1</td>\n      <td>22</td>\n      <td>0.000000</td>\n      <td>0.011012</td>\n      <td>0.002202</td>\n      <td>Low</td>\n      <td>7</td>\n      <td>528.16</td>\n      <td>68.60</td>\n      <td>10.8</td>\n      <td>34</td>\n      <td>13</td>\n    </tr>\n    <tr>\n      <th>2612</th>\n      <td>939</td>\n      <td>counseling-fundamentals</td>\n      <td>Are some clients more difficult than others? W...</td>\n      <td>Dang right!  :)Heh heh, and correct me if I'm ...</td>\n      <td>1</td>\n      <td>23</td>\n      <td>0.000000</td>\n      <td>0.011536</td>\n      <td>0.002307</td>\n      <td>Low</td>\n      <td>2</td>\n      <td>103.12</td>\n      <td>94.56</td>\n      <td>4.5</td>\n      <td>6</td>\n      <td>7</td>\n    </tr>\n    <tr>\n      <th>2613</th>\n      <td>939</td>\n      <td>counseling-fundamentals</td>\n      <td>Are some clients more difficult than others? W...</td>\n      <td>Yes, just like some relationships outside of o...</td>\n      <td>1</td>\n      <td>41</td>\n      <td>0.000000</td>\n      <td>0.020975</td>\n      <td>0.004195</td>\n      <td>Low</td>\n      <td>9</td>\n      <td>422.44</td>\n      <td>62.41</td>\n      <td>14.1</td>\n      <td>25</td>\n      <td>8</td>\n    </tr>\n    <tr>\n      <th>2614</th>\n      <td>939</td>\n      <td>counseling-fundamentals</td>\n      <td>Are some clients more difficult than others? W...</td>\n      <td>Each counselor will have their own list of \"di...</td>\n      <td>1</td>\n      <td>43</td>\n      <td>0.000000</td>\n      <td>0.022024</td>\n      <td>0.004405</td>\n      <td>Low</td>\n      <td>3</td>\n      <td>237.43</td>\n      <td>65.25</td>\n      <td>13.4</td>\n      <td>10</td>\n      <td>5</td>\n    </tr>\n  </tbody>\n</table>\n<p>2615 rows × 16 columns</p>\n</div>"
     },
     "execution_count": 32,
     "metadata": {},
     "output_type": "execute_result"
    }
   ],
   "source": [
    "counsel_df"
   ],
   "metadata": {
    "collapsed": false,
    "ExecuteTime": {
     "end_time": "2023-11-26T18:27:59.711094Z",
     "start_time": "2023-11-26T18:27:59.707297Z"
    }
   },
   "id": "405937fb347b167e"
  },
  {
   "cell_type": "markdown",
   "source": [
    "Incorporating T-unit analysis into the study provides a refined measure of syntactic complexity, enabling a deeper understanding of the structural sophistication in therapists' responses within an online counseling context. This analytical focus on T-units, which represent main clauses along with their subordinate structures, is pivotal for evaluating the linguistic intricacy of therapeutic communication, offering insights into how complex sentence constructions might influence client comprehension and engagement in digital therapeutic interactions.\n"
   ],
   "metadata": {
    "collapsed": false
   },
   "id": "167a30bb6bcf57d2"
  },
  {
   "cell_type": "markdown",
   "source": [
    "### Present indicative verb"
   ],
   "metadata": {
    "collapsed": false
   },
   "id": "112f7882979231d5"
  },
  {
   "cell_type": "code",
   "execution_count": 35,
   "outputs": [],
   "source": [
    "def extract_present_indicative_verbs(text):\n",
    "    # Process the text using the spaCy NLP pipeline\n",
    "    doc = nlp(text)\n",
    "    # Extract verbs that are in present tense (verb, non-3rd person singular present: VBP; verb, 3rd person singular present: VBZ)\n",
    "    present_verbs = [token.text for token in doc if token.tag_ in ['VBP', 'VBZ']]\n",
    "\n",
    "    return len(present_verbs)"
   ],
   "metadata": {
    "collapsed": false,
    "ExecuteTime": {
     "end_time": "2023-11-26T18:37:45.918061Z",
     "start_time": "2023-11-26T18:37:45.900459Z"
    }
   },
   "id": "7d5fcc3dd3b97421"
  },
  {
   "cell_type": "code",
   "execution_count": 37,
   "outputs": [],
   "source": [
    "# Apply\n",
    "counsel_df['present_indicative_verbs'] = counsel_df['answer'].apply(extract_present_indicative_verbs)"
   ],
   "metadata": {
    "collapsed": false,
    "ExecuteTime": {
     "end_time": "2023-11-26T18:40:04.038781Z",
     "start_time": "2023-11-26T18:38:41.427030Z"
    }
   },
   "id": "a0a6bb0af9c4616f"
  },
  {
   "cell_type": "code",
   "execution_count": 38,
   "outputs": [
    {
     "data": {
      "text/plain": "       ID                    topic  \\\n0       0               depression   \n1       0               depression   \n2       0               depression   \n3       0               depression   \n4       0               depression   \n...   ...                      ...   \n2610  939  counseling-fundamentals   \n2611  939  counseling-fundamentals   \n2612  939  counseling-fundamentals   \n2613  939  counseling-fundamentals   \n2614  939  counseling-fundamentals   \n\n                                               question  \\\n0     Do I have too many issues for counseling? I ha...   \n1     Do I have too many issues for counseling? I ha...   \n2     Do I have too many issues for counseling? I ha...   \n3     Do I have too many issues for counseling? I ha...   \n4     Do I have too many issues for counseling? I ha...   \n...                                                 ...   \n2610  Are some clients more difficult than others? W...   \n2611  Are some clients more difficult than others? W...   \n2612  Are some clients more difficult than others? W...   \n2613  Are some clients more difficult than others? W...   \n2614  Are some clients more difficult than others? W...   \n\n                                                 answer  upvotes  views  \\\n0     I've never heard of someone having \"too many i...        3    386   \n1     I just want to acknowledge you for the courage...        2    256   \n2     It's not really a question of whether you have...        2    435   \n3     There is no such thing as too much. Start wher...        2    217   \n4     The most direct answer is no. I would venture ...        2   1064   \n...                                                 ...      ...    ...   \n2610  Although many clients have the capacity to be ...        1     47   \n2611  I usually don't label a client as \"difficult\" ...        1     22   \n2612  Dang right!  :)Heh heh, and correct me if I'm ...        1     23   \n2613  Yes, just like some relationships outside of o...        1     41   \n2614  Each counselor will have their own list of \"di...        1     43   \n\n      upvotes_scaled  views_scaled  weighted_engagement engagement  \\\n0           0.166667      0.201888             0.173711       High   \n1           0.083333      0.133718             0.093410     Medium   \n2           0.083333      0.227583             0.112183     Medium   \n3           0.083333      0.113267             0.089320     Medium   \n4           0.083333      0.557420             0.178151       High   \n...              ...           ...                  ...        ...   \n2610        0.000000      0.024122             0.004824        Low   \n2611        0.000000      0.011012             0.002202        Low   \n2612        0.000000      0.011536             0.002307        Low   \n2613        0.000000      0.020975             0.004195        Low   \n2614        0.000000      0.022024             0.004405        Low   \n\n      modal_verbs  concreteness  flesch_reading_ease   ari  clause_density  \\\n0               5        194.24                47.49  12.0              10   \n1              10        437.93                71.44   7.6              25   \n2               9        488.62                64.85  11.0              23   \n3               2        133.65                93.54   3.1               9   \n4               3        265.12                81.63   6.8              14   \n...           ...           ...                  ...   ...             ...   \n2610            8        352.25                46.71  16.2              23   \n2611            7        528.16                68.60  10.8              34   \n2612            2        103.12                94.56   4.5               6   \n2613            9        422.44                62.41  14.1              25   \n2614            3        237.43                65.25  13.4              10   \n\n      t_unit_complexity  present_indicative_verbs  \n0                     7                         4  \n1                    13                        12  \n2                     9                        19  \n3                     5                         7  \n4                     8                        13  \n...                 ...                       ...  \n2610                  7                         8  \n2611                 13                        29  \n2612                  7                         4  \n2613                  8                        17  \n2614                  5                        11  \n\n[2615 rows x 17 columns]",
      "text/html": "<div>\n<style scoped>\n    .dataframe tbody tr th:only-of-type {\n        vertical-align: middle;\n    }\n\n    .dataframe tbody tr th {\n        vertical-align: top;\n    }\n\n    .dataframe thead th {\n        text-align: right;\n    }\n</style>\n<table border=\"1\" class=\"dataframe\">\n  <thead>\n    <tr style=\"text-align: right;\">\n      <th></th>\n      <th>ID</th>\n      <th>topic</th>\n      <th>question</th>\n      <th>answer</th>\n      <th>upvotes</th>\n      <th>views</th>\n      <th>upvotes_scaled</th>\n      <th>views_scaled</th>\n      <th>weighted_engagement</th>\n      <th>engagement</th>\n      <th>modal_verbs</th>\n      <th>concreteness</th>\n      <th>flesch_reading_ease</th>\n      <th>ari</th>\n      <th>clause_density</th>\n      <th>t_unit_complexity</th>\n      <th>present_indicative_verbs</th>\n    </tr>\n  </thead>\n  <tbody>\n    <tr>\n      <th>0</th>\n      <td>0</td>\n      <td>depression</td>\n      <td>Do I have too many issues for counseling? I ha...</td>\n      <td>I've never heard of someone having \"too many i...</td>\n      <td>3</td>\n      <td>386</td>\n      <td>0.166667</td>\n      <td>0.201888</td>\n      <td>0.173711</td>\n      <td>High</td>\n      <td>5</td>\n      <td>194.24</td>\n      <td>47.49</td>\n      <td>12.0</td>\n      <td>10</td>\n      <td>7</td>\n      <td>4</td>\n    </tr>\n    <tr>\n      <th>1</th>\n      <td>0</td>\n      <td>depression</td>\n      <td>Do I have too many issues for counseling? I ha...</td>\n      <td>I just want to acknowledge you for the courage...</td>\n      <td>2</td>\n      <td>256</td>\n      <td>0.083333</td>\n      <td>0.133718</td>\n      <td>0.093410</td>\n      <td>Medium</td>\n      <td>10</td>\n      <td>437.93</td>\n      <td>71.44</td>\n      <td>7.6</td>\n      <td>25</td>\n      <td>13</td>\n      <td>12</td>\n    </tr>\n    <tr>\n      <th>2</th>\n      <td>0</td>\n      <td>depression</td>\n      <td>Do I have too many issues for counseling? I ha...</td>\n      <td>It's not really a question of whether you have...</td>\n      <td>2</td>\n      <td>435</td>\n      <td>0.083333</td>\n      <td>0.227583</td>\n      <td>0.112183</td>\n      <td>Medium</td>\n      <td>9</td>\n      <td>488.62</td>\n      <td>64.85</td>\n      <td>11.0</td>\n      <td>23</td>\n      <td>9</td>\n      <td>19</td>\n    </tr>\n    <tr>\n      <th>3</th>\n      <td>0</td>\n      <td>depression</td>\n      <td>Do I have too many issues for counseling? I ha...</td>\n      <td>There is no such thing as too much. Start wher...</td>\n      <td>2</td>\n      <td>217</td>\n      <td>0.083333</td>\n      <td>0.113267</td>\n      <td>0.089320</td>\n      <td>Medium</td>\n      <td>2</td>\n      <td>133.65</td>\n      <td>93.54</td>\n      <td>3.1</td>\n      <td>9</td>\n      <td>5</td>\n      <td>7</td>\n    </tr>\n    <tr>\n      <th>4</th>\n      <td>0</td>\n      <td>depression</td>\n      <td>Do I have too many issues for counseling? I ha...</td>\n      <td>The most direct answer is no. I would venture ...</td>\n      <td>2</td>\n      <td>1064</td>\n      <td>0.083333</td>\n      <td>0.557420</td>\n      <td>0.178151</td>\n      <td>High</td>\n      <td>3</td>\n      <td>265.12</td>\n      <td>81.63</td>\n      <td>6.8</td>\n      <td>14</td>\n      <td>8</td>\n      <td>13</td>\n    </tr>\n    <tr>\n      <th>...</th>\n      <td>...</td>\n      <td>...</td>\n      <td>...</td>\n      <td>...</td>\n      <td>...</td>\n      <td>...</td>\n      <td>...</td>\n      <td>...</td>\n      <td>...</td>\n      <td>...</td>\n      <td>...</td>\n      <td>...</td>\n      <td>...</td>\n      <td>...</td>\n      <td>...</td>\n      <td>...</td>\n      <td>...</td>\n    </tr>\n    <tr>\n      <th>2610</th>\n      <td>939</td>\n      <td>counseling-fundamentals</td>\n      <td>Are some clients more difficult than others? W...</td>\n      <td>Although many clients have the capacity to be ...</td>\n      <td>1</td>\n      <td>47</td>\n      <td>0.000000</td>\n      <td>0.024122</td>\n      <td>0.004824</td>\n      <td>Low</td>\n      <td>8</td>\n      <td>352.25</td>\n      <td>46.71</td>\n      <td>16.2</td>\n      <td>23</td>\n      <td>7</td>\n      <td>8</td>\n    </tr>\n    <tr>\n      <th>2611</th>\n      <td>939</td>\n      <td>counseling-fundamentals</td>\n      <td>Are some clients more difficult than others? W...</td>\n      <td>I usually don't label a client as \"difficult\" ...</td>\n      <td>1</td>\n      <td>22</td>\n      <td>0.000000</td>\n      <td>0.011012</td>\n      <td>0.002202</td>\n      <td>Low</td>\n      <td>7</td>\n      <td>528.16</td>\n      <td>68.60</td>\n      <td>10.8</td>\n      <td>34</td>\n      <td>13</td>\n      <td>29</td>\n    </tr>\n    <tr>\n      <th>2612</th>\n      <td>939</td>\n      <td>counseling-fundamentals</td>\n      <td>Are some clients more difficult than others? W...</td>\n      <td>Dang right!  :)Heh heh, and correct me if I'm ...</td>\n      <td>1</td>\n      <td>23</td>\n      <td>0.000000</td>\n      <td>0.011536</td>\n      <td>0.002307</td>\n      <td>Low</td>\n      <td>2</td>\n      <td>103.12</td>\n      <td>94.56</td>\n      <td>4.5</td>\n      <td>6</td>\n      <td>7</td>\n      <td>4</td>\n    </tr>\n    <tr>\n      <th>2613</th>\n      <td>939</td>\n      <td>counseling-fundamentals</td>\n      <td>Are some clients more difficult than others? W...</td>\n      <td>Yes, just like some relationships outside of o...</td>\n      <td>1</td>\n      <td>41</td>\n      <td>0.000000</td>\n      <td>0.020975</td>\n      <td>0.004195</td>\n      <td>Low</td>\n      <td>9</td>\n      <td>422.44</td>\n      <td>62.41</td>\n      <td>14.1</td>\n      <td>25</td>\n      <td>8</td>\n      <td>17</td>\n    </tr>\n    <tr>\n      <th>2614</th>\n      <td>939</td>\n      <td>counseling-fundamentals</td>\n      <td>Are some clients more difficult than others? W...</td>\n      <td>Each counselor will have their own list of \"di...</td>\n      <td>1</td>\n      <td>43</td>\n      <td>0.000000</td>\n      <td>0.022024</td>\n      <td>0.004405</td>\n      <td>Low</td>\n      <td>3</td>\n      <td>237.43</td>\n      <td>65.25</td>\n      <td>13.4</td>\n      <td>10</td>\n      <td>5</td>\n      <td>11</td>\n    </tr>\n  </tbody>\n</table>\n<p>2615 rows × 17 columns</p>\n</div>"
     },
     "execution_count": 38,
     "metadata": {},
     "output_type": "execute_result"
    }
   ],
   "source": [
    "counsel_df"
   ],
   "metadata": {
    "collapsed": false,
    "ExecuteTime": {
     "end_time": "2023-11-26T18:40:18.854245Z",
     "start_time": "2023-11-26T18:40:18.840381Z"
    }
   },
   "id": "29d8d7f093da5f2d"
  },
  {
   "cell_type": "markdown",
   "source": [],
   "metadata": {
    "collapsed": false
   },
   "id": "c083abf540322e99"
  },
  {
   "cell_type": "markdown",
   "source": [
    "The extraction of present indicative verbs from therapists' responses serves to illuminate the active, ongoing discourse characteristic of therapeutic engagement, offering insight into the immediacy and directness of the interaction. This linguistic feature, indicative of current action and involvement, is posited to correlate with client engagement, thus providing a valuable metric for the analysis of effective communication within the counseling context."
   ],
   "metadata": {
    "collapsed": false
   },
   "id": "7ce50af75bfeea78"
  },
  {
   "cell_type": "markdown",
   "source": [
    "### Self-referential sentences"
   ],
   "metadata": {
    "collapsed": false
   },
   "id": "1827c7ce0a3dfd5c"
  },
  {
   "cell_type": "code",
   "execution_count": 42,
   "outputs": [],
   "source": [
    "def extract_self_referential_sentences(text):\n",
    "    # Process the text with spaCy\n",
    "    doc = nlp(text)\n",
    "\n",
    "    # List to store self-referential sentences\n",
    "    self_ref_sentences = []\n",
    "\n",
    "    # Define first-person pronouns\n",
    "    first_person_pronouns = {\"I\", \"me\", \"my\", \"mine\", \"myself\"}\n",
    "\n",
    "    # Iterate over the sentences in the text\n",
    "    for sent in doc.sents:\n",
    "        # Check if any of the tokens in the sentence are first-person pronouns\n",
    "        if any(token.text in first_person_pronouns for token in sent):\n",
    "            self_ref_sentences.append(sent.text)\n",
    "\n",
    "    return len(self_ref_sentences)"
   ],
   "metadata": {
    "collapsed": false,
    "ExecuteTime": {
     "end_time": "2023-11-26T18:46:25.036454Z",
     "start_time": "2023-11-26T18:46:25.017120Z"
    }
   },
   "id": "1000085d0b6ef905"
  },
  {
   "cell_type": "code",
   "execution_count": 44,
   "outputs": [],
   "source": [
    "# Apply\n",
    "counsel_df['self_referential_sent'] = counsel_df['answer'].apply(extract_self_referential_sentences)"
   ],
   "metadata": {
    "collapsed": false,
    "ExecuteTime": {
     "end_time": "2023-11-26T18:49:16.365363Z",
     "start_time": "2023-11-26T18:47:52.239955Z"
    }
   },
   "id": "2329bfb6beef0c2e"
  },
  {
   "cell_type": "code",
   "execution_count": 47,
   "outputs": [
    {
     "data": {
      "text/plain": "       ID                    topic  \\\n0       0               depression   \n1       0               depression   \n2       0               depression   \n3       0               depression   \n4       0               depression   \n...   ...                      ...   \n2610  939  counseling-fundamentals   \n2611  939  counseling-fundamentals   \n2612  939  counseling-fundamentals   \n2613  939  counseling-fundamentals   \n2614  939  counseling-fundamentals   \n\n                                               question  \\\n0     Do I have too many issues for counseling? I ha...   \n1     Do I have too many issues for counseling? I ha...   \n2     Do I have too many issues for counseling? I ha...   \n3     Do I have too many issues for counseling? I ha...   \n4     Do I have too many issues for counseling? I ha...   \n...                                                 ...   \n2610  Are some clients more difficult than others? W...   \n2611  Are some clients more difficult than others? W...   \n2612  Are some clients more difficult than others? W...   \n2613  Are some clients more difficult than others? W...   \n2614  Are some clients more difficult than others? W...   \n\n                                                 answer  upvotes  views  \\\n0     I've never heard of someone having \"too many i...        3    386   \n1     I just want to acknowledge you for the courage...        2    256   \n2     It's not really a question of whether you have...        2    435   \n3     There is no such thing as too much. Start wher...        2    217   \n4     The most direct answer is no. I would venture ...        2   1064   \n...                                                 ...      ...    ...   \n2610  Although many clients have the capacity to be ...        1     47   \n2611  I usually don't label a client as \"difficult\" ...        1     22   \n2612  Dang right!  :)Heh heh, and correct me if I'm ...        1     23   \n2613  Yes, just like some relationships outside of o...        1     41   \n2614  Each counselor will have their own list of \"di...        1     43   \n\n      upvotes_scaled  views_scaled  weighted_engagement engagement  \\\n0           0.166667      0.201888             0.173711       High   \n1           0.083333      0.133718             0.093410     Medium   \n2           0.083333      0.227583             0.112183     Medium   \n3           0.083333      0.113267             0.089320     Medium   \n4           0.083333      0.557420             0.178151       High   \n...              ...           ...                  ...        ...   \n2610        0.000000      0.024122             0.004824        Low   \n2611        0.000000      0.011012             0.002202        Low   \n2612        0.000000      0.011536             0.002307        Low   \n2613        0.000000      0.020975             0.004195        Low   \n2614        0.000000      0.022024             0.004405        Low   \n\n      modal_verbs  concreteness  flesch_reading_ease   ari  clause_density  \\\n0               5        194.24                47.49  12.0              10   \n1              10        437.93                71.44   7.6              25   \n2               9        488.62                64.85  11.0              23   \n3               2        133.65                93.54   3.1               9   \n4               3        265.12                81.63   6.8              14   \n...           ...           ...                  ...   ...             ...   \n2610            8        352.25                46.71  16.2              23   \n2611            7        528.16                68.60  10.8              34   \n2612            2        103.12                94.56   4.5               6   \n2613            9        422.44                62.41  14.1              25   \n2614            3        237.43                65.25  13.4              10   \n\n      t_unit_complexity  present_indicative_verbs  self_referential_sent  \n0                     7                         4                      2  \n1                    13                        12                      5  \n2                     9                        19                      0  \n3                     5                         7                      1  \n4                     8                        13                      3  \n...                 ...                       ...                    ...  \n2610                  7                         8                      1  \n2611                 13                        29                      4  \n2612                  7                         4                      1  \n2613                  8                        17                      4  \n2614                  5                        11                      2  \n\n[2615 rows x 18 columns]",
      "text/html": "<div>\n<style scoped>\n    .dataframe tbody tr th:only-of-type {\n        vertical-align: middle;\n    }\n\n    .dataframe tbody tr th {\n        vertical-align: top;\n    }\n\n    .dataframe thead th {\n        text-align: right;\n    }\n</style>\n<table border=\"1\" class=\"dataframe\">\n  <thead>\n    <tr style=\"text-align: right;\">\n      <th></th>\n      <th>ID</th>\n      <th>topic</th>\n      <th>question</th>\n      <th>answer</th>\n      <th>upvotes</th>\n      <th>views</th>\n      <th>upvotes_scaled</th>\n      <th>views_scaled</th>\n      <th>weighted_engagement</th>\n      <th>engagement</th>\n      <th>modal_verbs</th>\n      <th>concreteness</th>\n      <th>flesch_reading_ease</th>\n      <th>ari</th>\n      <th>clause_density</th>\n      <th>t_unit_complexity</th>\n      <th>present_indicative_verbs</th>\n      <th>self_referential_sent</th>\n    </tr>\n  </thead>\n  <tbody>\n    <tr>\n      <th>0</th>\n      <td>0</td>\n      <td>depression</td>\n      <td>Do I have too many issues for counseling? I ha...</td>\n      <td>I've never heard of someone having \"too many i...</td>\n      <td>3</td>\n      <td>386</td>\n      <td>0.166667</td>\n      <td>0.201888</td>\n      <td>0.173711</td>\n      <td>High</td>\n      <td>5</td>\n      <td>194.24</td>\n      <td>47.49</td>\n      <td>12.0</td>\n      <td>10</td>\n      <td>7</td>\n      <td>4</td>\n      <td>2</td>\n    </tr>\n    <tr>\n      <th>1</th>\n      <td>0</td>\n      <td>depression</td>\n      <td>Do I have too many issues for counseling? I ha...</td>\n      <td>I just want to acknowledge you for the courage...</td>\n      <td>2</td>\n      <td>256</td>\n      <td>0.083333</td>\n      <td>0.133718</td>\n      <td>0.093410</td>\n      <td>Medium</td>\n      <td>10</td>\n      <td>437.93</td>\n      <td>71.44</td>\n      <td>7.6</td>\n      <td>25</td>\n      <td>13</td>\n      <td>12</td>\n      <td>5</td>\n    </tr>\n    <tr>\n      <th>2</th>\n      <td>0</td>\n      <td>depression</td>\n      <td>Do I have too many issues for counseling? I ha...</td>\n      <td>It's not really a question of whether you have...</td>\n      <td>2</td>\n      <td>435</td>\n      <td>0.083333</td>\n      <td>0.227583</td>\n      <td>0.112183</td>\n      <td>Medium</td>\n      <td>9</td>\n      <td>488.62</td>\n      <td>64.85</td>\n      <td>11.0</td>\n      <td>23</td>\n      <td>9</td>\n      <td>19</td>\n      <td>0</td>\n    </tr>\n    <tr>\n      <th>3</th>\n      <td>0</td>\n      <td>depression</td>\n      <td>Do I have too many issues for counseling? I ha...</td>\n      <td>There is no such thing as too much. Start wher...</td>\n      <td>2</td>\n      <td>217</td>\n      <td>0.083333</td>\n      <td>0.113267</td>\n      <td>0.089320</td>\n      <td>Medium</td>\n      <td>2</td>\n      <td>133.65</td>\n      <td>93.54</td>\n      <td>3.1</td>\n      <td>9</td>\n      <td>5</td>\n      <td>7</td>\n      <td>1</td>\n    </tr>\n    <tr>\n      <th>4</th>\n      <td>0</td>\n      <td>depression</td>\n      <td>Do I have too many issues for counseling? I ha...</td>\n      <td>The most direct answer is no. I would venture ...</td>\n      <td>2</td>\n      <td>1064</td>\n      <td>0.083333</td>\n      <td>0.557420</td>\n      <td>0.178151</td>\n      <td>High</td>\n      <td>3</td>\n      <td>265.12</td>\n      <td>81.63</td>\n      <td>6.8</td>\n      <td>14</td>\n      <td>8</td>\n      <td>13</td>\n      <td>3</td>\n    </tr>\n    <tr>\n      <th>...</th>\n      <td>...</td>\n      <td>...</td>\n      <td>...</td>\n      <td>...</td>\n      <td>...</td>\n      <td>...</td>\n      <td>...</td>\n      <td>...</td>\n      <td>...</td>\n      <td>...</td>\n      <td>...</td>\n      <td>...</td>\n      <td>...</td>\n      <td>...</td>\n      <td>...</td>\n      <td>...</td>\n      <td>...</td>\n      <td>...</td>\n    </tr>\n    <tr>\n      <th>2610</th>\n      <td>939</td>\n      <td>counseling-fundamentals</td>\n      <td>Are some clients more difficult than others? W...</td>\n      <td>Although many clients have the capacity to be ...</td>\n      <td>1</td>\n      <td>47</td>\n      <td>0.000000</td>\n      <td>0.024122</td>\n      <td>0.004824</td>\n      <td>Low</td>\n      <td>8</td>\n      <td>352.25</td>\n      <td>46.71</td>\n      <td>16.2</td>\n      <td>23</td>\n      <td>7</td>\n      <td>8</td>\n      <td>1</td>\n    </tr>\n    <tr>\n      <th>2611</th>\n      <td>939</td>\n      <td>counseling-fundamentals</td>\n      <td>Are some clients more difficult than others? W...</td>\n      <td>I usually don't label a client as \"difficult\" ...</td>\n      <td>1</td>\n      <td>22</td>\n      <td>0.000000</td>\n      <td>0.011012</td>\n      <td>0.002202</td>\n      <td>Low</td>\n      <td>7</td>\n      <td>528.16</td>\n      <td>68.60</td>\n      <td>10.8</td>\n      <td>34</td>\n      <td>13</td>\n      <td>29</td>\n      <td>4</td>\n    </tr>\n    <tr>\n      <th>2612</th>\n      <td>939</td>\n      <td>counseling-fundamentals</td>\n      <td>Are some clients more difficult than others? W...</td>\n      <td>Dang right!  :)Heh heh, and correct me if I'm ...</td>\n      <td>1</td>\n      <td>23</td>\n      <td>0.000000</td>\n      <td>0.011536</td>\n      <td>0.002307</td>\n      <td>Low</td>\n      <td>2</td>\n      <td>103.12</td>\n      <td>94.56</td>\n      <td>4.5</td>\n      <td>6</td>\n      <td>7</td>\n      <td>4</td>\n      <td>1</td>\n    </tr>\n    <tr>\n      <th>2613</th>\n      <td>939</td>\n      <td>counseling-fundamentals</td>\n      <td>Are some clients more difficult than others? W...</td>\n      <td>Yes, just like some relationships outside of o...</td>\n      <td>1</td>\n      <td>41</td>\n      <td>0.000000</td>\n      <td>0.020975</td>\n      <td>0.004195</td>\n      <td>Low</td>\n      <td>9</td>\n      <td>422.44</td>\n      <td>62.41</td>\n      <td>14.1</td>\n      <td>25</td>\n      <td>8</td>\n      <td>17</td>\n      <td>4</td>\n    </tr>\n    <tr>\n      <th>2614</th>\n      <td>939</td>\n      <td>counseling-fundamentals</td>\n      <td>Are some clients more difficult than others? W...</td>\n      <td>Each counselor will have their own list of \"di...</td>\n      <td>1</td>\n      <td>43</td>\n      <td>0.000000</td>\n      <td>0.022024</td>\n      <td>0.004405</td>\n      <td>Low</td>\n      <td>3</td>\n      <td>237.43</td>\n      <td>65.25</td>\n      <td>13.4</td>\n      <td>10</td>\n      <td>5</td>\n      <td>11</td>\n      <td>2</td>\n    </tr>\n  </tbody>\n</table>\n<p>2615 rows × 18 columns</p>\n</div>"
     },
     "execution_count": 47,
     "metadata": {},
     "output_type": "execute_result"
    }
   ],
   "source": [
    "counsel_df"
   ],
   "metadata": {
    "collapsed": false,
    "ExecuteTime": {
     "end_time": "2023-11-26T18:49:54.530549Z",
     "start_time": "2023-11-26T18:49:54.520768Z"
    }
   },
   "id": "406accf8628fb6f6"
  },
  {
   "cell_type": "code",
   "execution_count": 48,
   "outputs": [],
   "source": [
    "counsel_df.to_csv('data/counsel_df_lingo.csv', index=False)"
   ],
   "metadata": {
    "collapsed": false,
    "ExecuteTime": {
     "end_time": "2023-11-26T18:53:17.669542Z",
     "start_time": "2023-11-26T18:53:17.606818Z"
    }
   },
   "id": "1f537c09dcc2c469"
  },
  {
   "cell_type": "markdown",
   "source": [
    "## Additional analysis for future work: \n",
    "Given the context of our analysis we might consider incorporating the following additional linguistic features:\n",
    "\n",
    "1. Pragmatic Markers\n",
    "Speech Acts: Analyze the types of speech acts (e.g., questioning, advising, reassuring) used in the responses, as they can significantly impact the perceived helpfulness or effectiveness of a response.\n",
    "Politeness Strategies: Assess the use of politeness strategies, which can affect the tone and perceived empathy in the responses.\n",
    "2. Discourse Analysis\n",
    "Coherence and Cohesion: Analyze how ideas are connected and flow within the text. This includes the use of transition words, pronoun reference, and thematic progression.\n",
    "Narrative Structure: Investigate the presence of narrative elements, such as storytelling or the use of anecdotes, which can be impactful in therapy.\n",
    "3. Lexical Richness\n",
    "Word Frequency Analysis: Beyond lexical diversity, examine the frequency of specific types of words (e.g., therapeutic jargon, emotion words) that could influence engagement.\n",
    "Semantic Analysis: Explore the semantic fields most commonly used (e.g., emotional, cognitive, health-related) to understand thematic focuses in responses.\n",
    "4. Psycholinguistic Features\n",
    "Emotionally-Charged Language: Analyze the use of language that evokes emotions, as it can play a crucial role in empathy and rapport building.\n",
    "Sensory Language: Assess the use of sensory descriptions, which can make responses more vivid and relatable.\n",
    "5. Linguistic Style Matching\n",
    "Mirroring Client’s Language: Measure the degree to which therapists’ linguistic style (e.g., vocabulary, syntax) matches that of the clients, which can be an indicator of rapport and alignment.\n",
    "6. Nonverbal Communication Indicators\n",
    "Punctuation and Formatting: Assess the use of punctuation and formatting (e.g., ellipses, emoticons, paragraph breaks) for their potential to convey nonverbal cues or emotional tone.\n",
    "7. Topic Modeling\n",
    "Identifying Key Themes: Use algorithms like Latent Dirichlet Allocation (LDA) to identify prevalent topics in the responses, which can help in understanding focus areas in therapy."
   ],
   "metadata": {
    "collapsed": false
   },
   "id": "ef3a2f2698cd9157"
  },
  {
   "cell_type": "code",
   "execution_count": null,
   "outputs": [],
   "source": [],
   "metadata": {
    "collapsed": false
   },
   "id": "415bc64d4785f772"
  }
 ],
 "metadata": {
  "kernelspec": {
   "display_name": "Python 3",
   "language": "python",
   "name": "python3"
  },
  "language_info": {
   "codemirror_mode": {
    "name": "ipython",
    "version": 2
   },
   "file_extension": ".py",
   "mimetype": "text/x-python",
   "name": "python",
   "nbconvert_exporter": "python",
   "pygments_lexer": "ipython2",
   "version": "2.7.6"
  }
 },
 "nbformat": 4,
 "nbformat_minor": 5
}
